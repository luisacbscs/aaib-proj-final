{
 "cells": [
  {
   "cell_type": "code",
   "execution_count": null,
   "metadata": {
    "pycharm": {
     "is_executing": true
    }
   },
   "outputs": [],
   "source": [
    "from new import load_data\n",
    "import pandas as pd\n",
    "import numpy as np\n",
    "from sklearn.model_selection import train_test_split\n",
    "import tsfel\n",
    "\n",
    "\n",
    "data, data_class = load_data()\n",
    "\n",
    "X_train, X_test, Y_train, Y_test = train_test_split(data, data_class, shuffle=True, test_size=0.3)"
   ]
  },
  {
   "cell_type": "code",
   "execution_count": 2,
   "outputs": [
    {
     "data": {
      "text/plain": "array([[-1.8310547e-04, -6.1035156e-05, -6.1035156e-05, ...,\n         1.8310547e-04,  1.8310547e-04,  9.1552734e-05],\n       [ 1.5258789e-04,  2.7465820e-04,  4.2724610e-04, ...,\n        -2.4414062e-04, -2.1362305e-04, -2.1362305e-04],\n       [-4.2724610e-04, -4.5776367e-04, -5.4931640e-04, ...,\n        -3.0517578e-04, -1.8310547e-04, -3.0517578e-05],\n       ...,\n       [-9.1552734e-04, -1.0375977e-03, -1.0070801e-03, ...,\n         8.2397460e-04,  9.1552734e-04,  9.7656250e-04],\n       [-4.8828125e-04, -3.6621094e-04, -1.8310547e-04, ...,\n         1.8310547e-04,  2.4414062e-04,  2.4414062e-04],\n       [-4.5776367e-04, -4.8828125e-04, -4.5776367e-04, ...,\n         4.2724610e-04,  5.1879880e-04,  5.1879880e-04]])"
     },
     "execution_count": 2,
     "metadata": {},
     "output_type": "execute_result"
    }
   ],
   "source": [
    "data"
   ],
   "metadata": {
    "collapsed": false
   }
  },
  {
   "cell_type": "code",
   "execution_count": 3,
   "outputs": [
    {
     "data": {
      "text/plain": "['6',\n '6',\n '0',\n '0',\n '5',\n '3',\n '3',\n '7',\n '9',\n '1',\n '1',\n '9',\n '6',\n '9',\n '0',\n '9',\n '5',\n '5',\n '9',\n '8',\n '0',\n '4',\n '6',\n '7',\n '7',\n '6',\n '4',\n '2',\n '6',\n '3',\n '9',\n '2',\n '6',\n '1',\n '8',\n '3',\n '5',\n '6',\n '8',\n '5',\n '2',\n '2',\n '7',\n '8',\n '0',\n '1',\n '7',\n '5',\n '1',\n '6',\n '1',\n '6',\n '5',\n '5',\n '7',\n '5',\n '0',\n '2',\n '7',\n '8',\n '3',\n '1',\n '0',\n '0',\n '3',\n '4',\n '4',\n '6',\n '8',\n '0',\n '9',\n '7',\n '9',\n '5',\n '3',\n '8',\n '2',\n '9',\n '2',\n '3',\n '3',\n '8',\n '1',\n '8',\n '1',\n '8',\n '6',\n '0',\n '4',\n '2',\n '9',\n '1',\n '5',\n '0',\n '0',\n '3',\n '4',\n '0',\n '2',\n '2',\n '5',\n '0',\n '4',\n '4',\n '7',\n '8',\n '1',\n '6',\n '8',\n '6',\n '8',\n '8',\n '4',\n '4',\n '0',\n '1',\n '8',\n '5',\n '7',\n '4',\n '0',\n '6',\n '4',\n '0',\n '2',\n '2',\n '4',\n '3',\n '4',\n '2',\n '3',\n '3',\n '7',\n '2',\n '4',\n '5',\n '5',\n '9',\n '1',\n '1',\n '5',\n '1',\n '1',\n '6',\n '9',\n '3',\n '2',\n '0',\n '3',\n '9',\n '2',\n '6',\n '5',\n '0',\n '4',\n '9',\n '7',\n '6',\n '2',\n '9',\n '5',\n '3',\n '0',\n '3',\n '1',\n '7',\n '9',\n '6',\n '8',\n '1',\n '8',\n '6',\n '1',\n '6',\n '8',\n '7',\n '4',\n '7',\n '8',\n '2',\n '4',\n '7',\n '8',\n '0',\n '2',\n '8',\n '6',\n '7',\n '0',\n '7',\n '3',\n '2',\n '4',\n '5',\n '7',\n '0',\n '2',\n '9',\n '4',\n '0',\n '9',\n '4',\n '1',\n '3',\n '9',\n '6',\n '6',\n '4',\n '3',\n '1']"
     },
     "execution_count": 3,
     "metadata": {},
     "output_type": "execute_result"
    }
   ],
   "source": [
    "Y_train"
   ],
   "metadata": {
    "collapsed": false
   }
  },
  {
   "cell_type": "code",
   "execution_count": 7,
   "metadata": {},
   "outputs": [],
   "source": [
    "cfg_file = tsfel.get_features_by_domain()"
   ]
  },
  {
   "cell_type": "code",
   "execution_count": 8,
   "metadata": {},
   "outputs": [
    {
     "name": "stdout",
     "output_type": "stream",
     "text": [
      "*** Feature extraction started ***\n"
     ]
    },
    {
     "data": {
      "text/plain": "<IPython.core.display.HTML object>",
      "text/html": "\n              <p>\n                  Progress: 0% Complete\n              <p/>            \n              <progress\n                  value='0'\n                  max='210',\n                  style='width: 25%',\n              >\n                  0\n              </progress>\n\n    "
     },
     "metadata": {},
     "output_type": "display_data"
    },
    {
     "name": "stderr",
     "output_type": "stream",
     "text": [
      "/Applications/miniconda3/lib/python3.9/site-packages/tsfel/feature_extraction/calc_features.py:300: FutureWarning: The frame.append method is deprecated and will be removed from pandas in a future version. Use pandas.concat instead.\n",
      "  features_final = features_final.append(feat)\n",
      "/Applications/miniconda3/lib/python3.9/site-packages/tsfel/feature_extraction/calc_features.py:300: FutureWarning: The frame.append method is deprecated and will be removed from pandas in a future version. Use pandas.concat instead.\n",
      "  features_final = features_final.append(feat)\n",
      "/Applications/miniconda3/lib/python3.9/site-packages/tsfel/feature_extraction/calc_features.py:300: FutureWarning: The frame.append method is deprecated and will be removed from pandas in a future version. Use pandas.concat instead.\n",
      "  features_final = features_final.append(feat)\n",
      "/Applications/miniconda3/lib/python3.9/site-packages/tsfel/feature_extraction/calc_features.py:300: FutureWarning: The frame.append method is deprecated and will be removed from pandas in a future version. Use pandas.concat instead.\n",
      "  features_final = features_final.append(feat)\n",
      "/Applications/miniconda3/lib/python3.9/site-packages/tsfel/feature_extraction/calc_features.py:300: FutureWarning: The frame.append method is deprecated and will be removed from pandas in a future version. Use pandas.concat instead.\n",
      "  features_final = features_final.append(feat)\n",
      "/Applications/miniconda3/lib/python3.9/site-packages/tsfel/feature_extraction/calc_features.py:300: FutureWarning: The frame.append method is deprecated and will be removed from pandas in a future version. Use pandas.concat instead.\n",
      "  features_final = features_final.append(feat)\n",
      "/Applications/miniconda3/lib/python3.9/site-packages/tsfel/feature_extraction/calc_features.py:300: FutureWarning: The frame.append method is deprecated and will be removed from pandas in a future version. Use pandas.concat instead.\n",
      "  features_final = features_final.append(feat)\n",
      "/Applications/miniconda3/lib/python3.9/site-packages/tsfel/feature_extraction/calc_features.py:300: FutureWarning: The frame.append method is deprecated and will be removed from pandas in a future version. Use pandas.concat instead.\n",
      "  features_final = features_final.append(feat)\n",
      "/Applications/miniconda3/lib/python3.9/site-packages/tsfel/feature_extraction/calc_features.py:300: FutureWarning: The frame.append method is deprecated and will be removed from pandas in a future version. Use pandas.concat instead.\n",
      "  features_final = features_final.append(feat)\n",
      "/Applications/miniconda3/lib/python3.9/site-packages/tsfel/feature_extraction/calc_features.py:300: FutureWarning: The frame.append method is deprecated and will be removed from pandas in a future version. Use pandas.concat instead.\n",
      "  features_final = features_final.append(feat)\n",
      "/Applications/miniconda3/lib/python3.9/site-packages/tsfel/feature_extraction/calc_features.py:300: FutureWarning: The frame.append method is deprecated and will be removed from pandas in a future version. Use pandas.concat instead.\n",
      "  features_final = features_final.append(feat)\n",
      "/Applications/miniconda3/lib/python3.9/site-packages/tsfel/feature_extraction/calc_features.py:300: FutureWarning: The frame.append method is deprecated and will be removed from pandas in a future version. Use pandas.concat instead.\n",
      "  features_final = features_final.append(feat)\n",
      "/Applications/miniconda3/lib/python3.9/site-packages/tsfel/feature_extraction/calc_features.py:300: FutureWarning: The frame.append method is deprecated and will be removed from pandas in a future version. Use pandas.concat instead.\n",
      "  features_final = features_final.append(feat)\n",
      "/Applications/miniconda3/lib/python3.9/site-packages/tsfel/feature_extraction/calc_features.py:300: FutureWarning: The frame.append method is deprecated and will be removed from pandas in a future version. Use pandas.concat instead.\n",
      "  features_final = features_final.append(feat)\n",
      "/Applications/miniconda3/lib/python3.9/site-packages/tsfel/feature_extraction/calc_features.py:300: FutureWarning: The frame.append method is deprecated and will be removed from pandas in a future version. Use pandas.concat instead.\n",
      "  features_final = features_final.append(feat)\n",
      "/Applications/miniconda3/lib/python3.9/site-packages/tsfel/feature_extraction/calc_features.py:300: FutureWarning: The frame.append method is deprecated and will be removed from pandas in a future version. Use pandas.concat instead.\n",
      "  features_final = features_final.append(feat)\n",
      "/Applications/miniconda3/lib/python3.9/site-packages/tsfel/feature_extraction/calc_features.py:300: FutureWarning: The frame.append method is deprecated and will be removed from pandas in a future version. Use pandas.concat instead.\n",
      "  features_final = features_final.append(feat)\n",
      "/Applications/miniconda3/lib/python3.9/site-packages/tsfel/feature_extraction/calc_features.py:300: FutureWarning: The frame.append method is deprecated and will be removed from pandas in a future version. Use pandas.concat instead.\n",
      "  features_final = features_final.append(feat)\n",
      "/Applications/miniconda3/lib/python3.9/site-packages/tsfel/feature_extraction/calc_features.py:300: FutureWarning: The frame.append method is deprecated and will be removed from pandas in a future version. Use pandas.concat instead.\n",
      "  features_final = features_final.append(feat)\n",
      "/Applications/miniconda3/lib/python3.9/site-packages/tsfel/feature_extraction/calc_features.py:300: FutureWarning: The frame.append method is deprecated and will be removed from pandas in a future version. Use pandas.concat instead.\n",
      "  features_final = features_final.append(feat)\n",
      "/Applications/miniconda3/lib/python3.9/site-packages/tsfel/feature_extraction/calc_features.py:300: FutureWarning: The frame.append method is deprecated and will be removed from pandas in a future version. Use pandas.concat instead.\n",
      "  features_final = features_final.append(feat)\n",
      "/Applications/miniconda3/lib/python3.9/site-packages/tsfel/feature_extraction/calc_features.py:300: FutureWarning: The frame.append method is deprecated and will be removed from pandas in a future version. Use pandas.concat instead.\n",
      "  features_final = features_final.append(feat)\n",
      "/Applications/miniconda3/lib/python3.9/site-packages/tsfel/feature_extraction/calc_features.py:300: FutureWarning: The frame.append method is deprecated and will be removed from pandas in a future version. Use pandas.concat instead.\n",
      "  features_final = features_final.append(feat)\n",
      "/Applications/miniconda3/lib/python3.9/site-packages/tsfel/feature_extraction/calc_features.py:300: FutureWarning: The frame.append method is deprecated and will be removed from pandas in a future version. Use pandas.concat instead.\n",
      "  features_final = features_final.append(feat)\n",
      "/Applications/miniconda3/lib/python3.9/site-packages/tsfel/feature_extraction/calc_features.py:300: FutureWarning: The frame.append method is deprecated and will be removed from pandas in a future version. Use pandas.concat instead.\n",
      "  features_final = features_final.append(feat)\n",
      "/Applications/miniconda3/lib/python3.9/site-packages/tsfel/feature_extraction/calc_features.py:300: FutureWarning: The frame.append method is deprecated and will be removed from pandas in a future version. Use pandas.concat instead.\n",
      "  features_final = features_final.append(feat)\n",
      "/Applications/miniconda3/lib/python3.9/site-packages/tsfel/feature_extraction/calc_features.py:300: FutureWarning: The frame.append method is deprecated and will be removed from pandas in a future version. Use pandas.concat instead.\n",
      "  features_final = features_final.append(feat)\n",
      "/Applications/miniconda3/lib/python3.9/site-packages/tsfel/feature_extraction/calc_features.py:300: FutureWarning: The frame.append method is deprecated and will be removed from pandas in a future version. Use pandas.concat instead.\n",
      "  features_final = features_final.append(feat)\n",
      "/Applications/miniconda3/lib/python3.9/site-packages/tsfel/feature_extraction/calc_features.py:300: FutureWarning: The frame.append method is deprecated and will be removed from pandas in a future version. Use pandas.concat instead.\n",
      "  features_final = features_final.append(feat)\n",
      "/Applications/miniconda3/lib/python3.9/site-packages/tsfel/feature_extraction/calc_features.py:300: FutureWarning: The frame.append method is deprecated and will be removed from pandas in a future version. Use pandas.concat instead.\n",
      "  features_final = features_final.append(feat)\n",
      "/Applications/miniconda3/lib/python3.9/site-packages/tsfel/feature_extraction/calc_features.py:300: FutureWarning: The frame.append method is deprecated and will be removed from pandas in a future version. Use pandas.concat instead.\n",
      "  features_final = features_final.append(feat)\n",
      "/Applications/miniconda3/lib/python3.9/site-packages/tsfel/feature_extraction/calc_features.py:300: FutureWarning: The frame.append method is deprecated and will be removed from pandas in a future version. Use pandas.concat instead.\n",
      "  features_final = features_final.append(feat)\n",
      "/Applications/miniconda3/lib/python3.9/site-packages/tsfel/feature_extraction/calc_features.py:300: FutureWarning: The frame.append method is deprecated and will be removed from pandas in a future version. Use pandas.concat instead.\n",
      "  features_final = features_final.append(feat)\n",
      "/Applications/miniconda3/lib/python3.9/site-packages/tsfel/feature_extraction/calc_features.py:300: FutureWarning: The frame.append method is deprecated and will be removed from pandas in a future version. Use pandas.concat instead.\n",
      "  features_final = features_final.append(feat)\n",
      "/Applications/miniconda3/lib/python3.9/site-packages/tsfel/feature_extraction/calc_features.py:300: FutureWarning: The frame.append method is deprecated and will be removed from pandas in a future version. Use pandas.concat instead.\n",
      "  features_final = features_final.append(feat)\n",
      "/Applications/miniconda3/lib/python3.9/site-packages/tsfel/feature_extraction/calc_features.py:300: FutureWarning: The frame.append method is deprecated and will be removed from pandas in a future version. Use pandas.concat instead.\n",
      "  features_final = features_final.append(feat)\n",
      "/Applications/miniconda3/lib/python3.9/site-packages/tsfel/feature_extraction/calc_features.py:300: FutureWarning: The frame.append method is deprecated and will be removed from pandas in a future version. Use pandas.concat instead.\n",
      "  features_final = features_final.append(feat)\n",
      "/Applications/miniconda3/lib/python3.9/site-packages/tsfel/feature_extraction/calc_features.py:300: FutureWarning: The frame.append method is deprecated and will be removed from pandas in a future version. Use pandas.concat instead.\n",
      "  features_final = features_final.append(feat)\n",
      "/Applications/miniconda3/lib/python3.9/site-packages/tsfel/feature_extraction/calc_features.py:300: FutureWarning: The frame.append method is deprecated and will be removed from pandas in a future version. Use pandas.concat instead.\n",
      "  features_final = features_final.append(feat)\n",
      "/Applications/miniconda3/lib/python3.9/site-packages/tsfel/feature_extraction/calc_features.py:300: FutureWarning: The frame.append method is deprecated and will be removed from pandas in a future version. Use pandas.concat instead.\n",
      "  features_final = features_final.append(feat)\n",
      "/Applications/miniconda3/lib/python3.9/site-packages/tsfel/feature_extraction/calc_features.py:300: FutureWarning: The frame.append method is deprecated and will be removed from pandas in a future version. Use pandas.concat instead.\n",
      "  features_final = features_final.append(feat)\n",
      "/Applications/miniconda3/lib/python3.9/site-packages/tsfel/feature_extraction/calc_features.py:300: FutureWarning: The frame.append method is deprecated and will be removed from pandas in a future version. Use pandas.concat instead.\n",
      "  features_final = features_final.append(feat)\n",
      "/Applications/miniconda3/lib/python3.9/site-packages/tsfel/feature_extraction/calc_features.py:300: FutureWarning: The frame.append method is deprecated and will be removed from pandas in a future version. Use pandas.concat instead.\n",
      "  features_final = features_final.append(feat)\n",
      "/Applications/miniconda3/lib/python3.9/site-packages/tsfel/feature_extraction/calc_features.py:300: FutureWarning: The frame.append method is deprecated and will be removed from pandas in a future version. Use pandas.concat instead.\n",
      "  features_final = features_final.append(feat)\n",
      "/Applications/miniconda3/lib/python3.9/site-packages/tsfel/feature_extraction/calc_features.py:300: FutureWarning: The frame.append method is deprecated and will be removed from pandas in a future version. Use pandas.concat instead.\n",
      "  features_final = features_final.append(feat)\n",
      "/Applications/miniconda3/lib/python3.9/site-packages/tsfel/feature_extraction/calc_features.py:300: FutureWarning: The frame.append method is deprecated and will be removed from pandas in a future version. Use pandas.concat instead.\n",
      "  features_final = features_final.append(feat)\n",
      "/Applications/miniconda3/lib/python3.9/site-packages/tsfel/feature_extraction/calc_features.py:300: FutureWarning: The frame.append method is deprecated and will be removed from pandas in a future version. Use pandas.concat instead.\n",
      "  features_final = features_final.append(feat)\n",
      "/Applications/miniconda3/lib/python3.9/site-packages/tsfel/feature_extraction/calc_features.py:300: FutureWarning: The frame.append method is deprecated and will be removed from pandas in a future version. Use pandas.concat instead.\n",
      "  features_final = features_final.append(feat)\n",
      "/Applications/miniconda3/lib/python3.9/site-packages/tsfel/feature_extraction/calc_features.py:300: FutureWarning: The frame.append method is deprecated and will be removed from pandas in a future version. Use pandas.concat instead.\n",
      "  features_final = features_final.append(feat)\n",
      "/Applications/miniconda3/lib/python3.9/site-packages/tsfel/feature_extraction/calc_features.py:300: FutureWarning: The frame.append method is deprecated and will be removed from pandas in a future version. Use pandas.concat instead.\n",
      "  features_final = features_final.append(feat)\n",
      "/Applications/miniconda3/lib/python3.9/site-packages/tsfel/feature_extraction/calc_features.py:300: FutureWarning: The frame.append method is deprecated and will be removed from pandas in a future version. Use pandas.concat instead.\n",
      "  features_final = features_final.append(feat)\n",
      "/Applications/miniconda3/lib/python3.9/site-packages/tsfel/feature_extraction/calc_features.py:300: FutureWarning: The frame.append method is deprecated and will be removed from pandas in a future version. Use pandas.concat instead.\n",
      "  features_final = features_final.append(feat)\n",
      "/Applications/miniconda3/lib/python3.9/site-packages/tsfel/feature_extraction/calc_features.py:300: FutureWarning: The frame.append method is deprecated and will be removed from pandas in a future version. Use pandas.concat instead.\n",
      "  features_final = features_final.append(feat)\n",
      "/Applications/miniconda3/lib/python3.9/site-packages/tsfel/feature_extraction/calc_features.py:300: FutureWarning: The frame.append method is deprecated and will be removed from pandas in a future version. Use pandas.concat instead.\n",
      "  features_final = features_final.append(feat)\n",
      "/Applications/miniconda3/lib/python3.9/site-packages/tsfel/feature_extraction/calc_features.py:300: FutureWarning: The frame.append method is deprecated and will be removed from pandas in a future version. Use pandas.concat instead.\n",
      "  features_final = features_final.append(feat)\n",
      "/Applications/miniconda3/lib/python3.9/site-packages/tsfel/feature_extraction/calc_features.py:300: FutureWarning: The frame.append method is deprecated and will be removed from pandas in a future version. Use pandas.concat instead.\n",
      "  features_final = features_final.append(feat)\n",
      "/Applications/miniconda3/lib/python3.9/site-packages/tsfel/feature_extraction/calc_features.py:300: FutureWarning: The frame.append method is deprecated and will be removed from pandas in a future version. Use pandas.concat instead.\n",
      "  features_final = features_final.append(feat)\n",
      "/Applications/miniconda3/lib/python3.9/site-packages/tsfel/feature_extraction/calc_features.py:300: FutureWarning: The frame.append method is deprecated and will be removed from pandas in a future version. Use pandas.concat instead.\n",
      "  features_final = features_final.append(feat)\n",
      "/Applications/miniconda3/lib/python3.9/site-packages/tsfel/feature_extraction/calc_features.py:300: FutureWarning: The frame.append method is deprecated and will be removed from pandas in a future version. Use pandas.concat instead.\n",
      "  features_final = features_final.append(feat)\n",
      "/Applications/miniconda3/lib/python3.9/site-packages/tsfel/feature_extraction/calc_features.py:300: FutureWarning: The frame.append method is deprecated and will be removed from pandas in a future version. Use pandas.concat instead.\n",
      "  features_final = features_final.append(feat)\n",
      "/Applications/miniconda3/lib/python3.9/site-packages/tsfel/feature_extraction/calc_features.py:300: FutureWarning: The frame.append method is deprecated and will be removed from pandas in a future version. Use pandas.concat instead.\n",
      "  features_final = features_final.append(feat)\n",
      "/Applications/miniconda3/lib/python3.9/site-packages/tsfel/feature_extraction/calc_features.py:300: FutureWarning: The frame.append method is deprecated and will be removed from pandas in a future version. Use pandas.concat instead.\n",
      "  features_final = features_final.append(feat)\n",
      "/Applications/miniconda3/lib/python3.9/site-packages/tsfel/feature_extraction/calc_features.py:300: FutureWarning: The frame.append method is deprecated and will be removed from pandas in a future version. Use pandas.concat instead.\n",
      "  features_final = features_final.append(feat)\n",
      "/Applications/miniconda3/lib/python3.9/site-packages/tsfel/feature_extraction/calc_features.py:300: FutureWarning: The frame.append method is deprecated and will be removed from pandas in a future version. Use pandas.concat instead.\n",
      "  features_final = features_final.append(feat)\n",
      "/Applications/miniconda3/lib/python3.9/site-packages/tsfel/feature_extraction/calc_features.py:300: FutureWarning: The frame.append method is deprecated and will be removed from pandas in a future version. Use pandas.concat instead.\n",
      "  features_final = features_final.append(feat)\n",
      "/Applications/miniconda3/lib/python3.9/site-packages/tsfel/feature_extraction/calc_features.py:300: FutureWarning: The frame.append method is deprecated and will be removed from pandas in a future version. Use pandas.concat instead.\n",
      "  features_final = features_final.append(feat)\n",
      "/Applications/miniconda3/lib/python3.9/site-packages/tsfel/feature_extraction/calc_features.py:300: FutureWarning: The frame.append method is deprecated and will be removed from pandas in a future version. Use pandas.concat instead.\n",
      "  features_final = features_final.append(feat)\n",
      "/Applications/miniconda3/lib/python3.9/site-packages/tsfel/feature_extraction/calc_features.py:300: FutureWarning: The frame.append method is deprecated and will be removed from pandas in a future version. Use pandas.concat instead.\n",
      "  features_final = features_final.append(feat)\n",
      "/Applications/miniconda3/lib/python3.9/site-packages/tsfel/feature_extraction/calc_features.py:300: FutureWarning: The frame.append method is deprecated and will be removed from pandas in a future version. Use pandas.concat instead.\n",
      "  features_final = features_final.append(feat)\n",
      "/Applications/miniconda3/lib/python3.9/site-packages/tsfel/feature_extraction/calc_features.py:300: FutureWarning: The frame.append method is deprecated and will be removed from pandas in a future version. Use pandas.concat instead.\n",
      "  features_final = features_final.append(feat)\n",
      "/Applications/miniconda3/lib/python3.9/site-packages/tsfel/feature_extraction/calc_features.py:300: FutureWarning: The frame.append method is deprecated and will be removed from pandas in a future version. Use pandas.concat instead.\n",
      "  features_final = features_final.append(feat)\n",
      "/Applications/miniconda3/lib/python3.9/site-packages/tsfel/feature_extraction/calc_features.py:300: FutureWarning: The frame.append method is deprecated and will be removed from pandas in a future version. Use pandas.concat instead.\n",
      "  features_final = features_final.append(feat)\n",
      "/Applications/miniconda3/lib/python3.9/site-packages/tsfel/feature_extraction/calc_features.py:300: FutureWarning: The frame.append method is deprecated and will be removed from pandas in a future version. Use pandas.concat instead.\n",
      "  features_final = features_final.append(feat)\n",
      "/Applications/miniconda3/lib/python3.9/site-packages/tsfel/feature_extraction/calc_features.py:300: FutureWarning: The frame.append method is deprecated and will be removed from pandas in a future version. Use pandas.concat instead.\n",
      "  features_final = features_final.append(feat)\n",
      "/Applications/miniconda3/lib/python3.9/site-packages/tsfel/feature_extraction/calc_features.py:300: FutureWarning: The frame.append method is deprecated and will be removed from pandas in a future version. Use pandas.concat instead.\n",
      "  features_final = features_final.append(feat)\n",
      "/Applications/miniconda3/lib/python3.9/site-packages/tsfel/feature_extraction/calc_features.py:300: FutureWarning: The frame.append method is deprecated and will be removed from pandas in a future version. Use pandas.concat instead.\n",
      "  features_final = features_final.append(feat)\n",
      "/Applications/miniconda3/lib/python3.9/site-packages/tsfel/feature_extraction/calc_features.py:300: FutureWarning: The frame.append method is deprecated and will be removed from pandas in a future version. Use pandas.concat instead.\n",
      "  features_final = features_final.append(feat)\n",
      "/Applications/miniconda3/lib/python3.9/site-packages/tsfel/feature_extraction/calc_features.py:300: FutureWarning: The frame.append method is deprecated and will be removed from pandas in a future version. Use pandas.concat instead.\n",
      "  features_final = features_final.append(feat)\n",
      "/Applications/miniconda3/lib/python3.9/site-packages/tsfel/feature_extraction/calc_features.py:300: FutureWarning: The frame.append method is deprecated and will be removed from pandas in a future version. Use pandas.concat instead.\n",
      "  features_final = features_final.append(feat)\n",
      "/Applications/miniconda3/lib/python3.9/site-packages/tsfel/feature_extraction/calc_features.py:300: FutureWarning: The frame.append method is deprecated and will be removed from pandas in a future version. Use pandas.concat instead.\n",
      "  features_final = features_final.append(feat)\n",
      "/Applications/miniconda3/lib/python3.9/site-packages/tsfel/feature_extraction/calc_features.py:300: FutureWarning: The frame.append method is deprecated and will be removed from pandas in a future version. Use pandas.concat instead.\n",
      "  features_final = features_final.append(feat)\n",
      "/Applications/miniconda3/lib/python3.9/site-packages/tsfel/feature_extraction/calc_features.py:300: FutureWarning: The frame.append method is deprecated and will be removed from pandas in a future version. Use pandas.concat instead.\n",
      "  features_final = features_final.append(feat)\n",
      "/Applications/miniconda3/lib/python3.9/site-packages/tsfel/feature_extraction/calc_features.py:300: FutureWarning: The frame.append method is deprecated and will be removed from pandas in a future version. Use pandas.concat instead.\n",
      "  features_final = features_final.append(feat)\n",
      "/Applications/miniconda3/lib/python3.9/site-packages/tsfel/feature_extraction/calc_features.py:300: FutureWarning: The frame.append method is deprecated and will be removed from pandas in a future version. Use pandas.concat instead.\n",
      "  features_final = features_final.append(feat)\n",
      "/Applications/miniconda3/lib/python3.9/site-packages/tsfel/feature_extraction/calc_features.py:300: FutureWarning: The frame.append method is deprecated and will be removed from pandas in a future version. Use pandas.concat instead.\n",
      "  features_final = features_final.append(feat)\n",
      "/Applications/miniconda3/lib/python3.9/site-packages/tsfel/feature_extraction/calc_features.py:300: FutureWarning: The frame.append method is deprecated and will be removed from pandas in a future version. Use pandas.concat instead.\n",
      "  features_final = features_final.append(feat)\n",
      "/Applications/miniconda3/lib/python3.9/site-packages/tsfel/feature_extraction/calc_features.py:300: FutureWarning: The frame.append method is deprecated and will be removed from pandas in a future version. Use pandas.concat instead.\n",
      "  features_final = features_final.append(feat)\n",
      "/Applications/miniconda3/lib/python3.9/site-packages/tsfel/feature_extraction/calc_features.py:300: FutureWarning: The frame.append method is deprecated and will be removed from pandas in a future version. Use pandas.concat instead.\n",
      "  features_final = features_final.append(feat)\n",
      "/Applications/miniconda3/lib/python3.9/site-packages/tsfel/feature_extraction/calc_features.py:300: FutureWarning: The frame.append method is deprecated and will be removed from pandas in a future version. Use pandas.concat instead.\n",
      "  features_final = features_final.append(feat)\n",
      "/Applications/miniconda3/lib/python3.9/site-packages/tsfel/feature_extraction/calc_features.py:300: FutureWarning: The frame.append method is deprecated and will be removed from pandas in a future version. Use pandas.concat instead.\n",
      "  features_final = features_final.append(feat)\n",
      "/Applications/miniconda3/lib/python3.9/site-packages/tsfel/feature_extraction/calc_features.py:300: FutureWarning: The frame.append method is deprecated and will be removed from pandas in a future version. Use pandas.concat instead.\n",
      "  features_final = features_final.append(feat)\n",
      "/Applications/miniconda3/lib/python3.9/site-packages/tsfel/feature_extraction/calc_features.py:300: FutureWarning: The frame.append method is deprecated and will be removed from pandas in a future version. Use pandas.concat instead.\n",
      "  features_final = features_final.append(feat)\n",
      "/Applications/miniconda3/lib/python3.9/site-packages/tsfel/feature_extraction/calc_features.py:300: FutureWarning: The frame.append method is deprecated and will be removed from pandas in a future version. Use pandas.concat instead.\n",
      "  features_final = features_final.append(feat)\n",
      "/Applications/miniconda3/lib/python3.9/site-packages/tsfel/feature_extraction/calc_features.py:300: FutureWarning: The frame.append method is deprecated and will be removed from pandas in a future version. Use pandas.concat instead.\n",
      "  features_final = features_final.append(feat)\n",
      "/Applications/miniconda3/lib/python3.9/site-packages/tsfel/feature_extraction/calc_features.py:300: FutureWarning: The frame.append method is deprecated and will be removed from pandas in a future version. Use pandas.concat instead.\n",
      "  features_final = features_final.append(feat)\n",
      "/Applications/miniconda3/lib/python3.9/site-packages/tsfel/feature_extraction/calc_features.py:300: FutureWarning: The frame.append method is deprecated and will be removed from pandas in a future version. Use pandas.concat instead.\n",
      "  features_final = features_final.append(feat)\n",
      "/Applications/miniconda3/lib/python3.9/site-packages/tsfel/feature_extraction/calc_features.py:300: FutureWarning: The frame.append method is deprecated and will be removed from pandas in a future version. Use pandas.concat instead.\n",
      "  features_final = features_final.append(feat)\n",
      "/Applications/miniconda3/lib/python3.9/site-packages/tsfel/feature_extraction/calc_features.py:300: FutureWarning: The frame.append method is deprecated and will be removed from pandas in a future version. Use pandas.concat instead.\n",
      "  features_final = features_final.append(feat)\n",
      "/Applications/miniconda3/lib/python3.9/site-packages/tsfel/feature_extraction/calc_features.py:300: FutureWarning: The frame.append method is deprecated and will be removed from pandas in a future version. Use pandas.concat instead.\n",
      "  features_final = features_final.append(feat)\n",
      "/Applications/miniconda3/lib/python3.9/site-packages/tsfel/feature_extraction/calc_features.py:300: FutureWarning: The frame.append method is deprecated and will be removed from pandas in a future version. Use pandas.concat instead.\n",
      "  features_final = features_final.append(feat)\n",
      "/Applications/miniconda3/lib/python3.9/site-packages/tsfel/feature_extraction/calc_features.py:300: FutureWarning: The frame.append method is deprecated and will be removed from pandas in a future version. Use pandas.concat instead.\n",
      "  features_final = features_final.append(feat)\n",
      "/Applications/miniconda3/lib/python3.9/site-packages/tsfel/feature_extraction/calc_features.py:300: FutureWarning: The frame.append method is deprecated and will be removed from pandas in a future version. Use pandas.concat instead.\n",
      "  features_final = features_final.append(feat)\n",
      "/Applications/miniconda3/lib/python3.9/site-packages/tsfel/feature_extraction/calc_features.py:300: FutureWarning: The frame.append method is deprecated and will be removed from pandas in a future version. Use pandas.concat instead.\n",
      "  features_final = features_final.append(feat)\n",
      "/Applications/miniconda3/lib/python3.9/site-packages/tsfel/feature_extraction/calc_features.py:300: FutureWarning: The frame.append method is deprecated and will be removed from pandas in a future version. Use pandas.concat instead.\n",
      "  features_final = features_final.append(feat)\n",
      "/Applications/miniconda3/lib/python3.9/site-packages/tsfel/feature_extraction/calc_features.py:300: FutureWarning: The frame.append method is deprecated and will be removed from pandas in a future version. Use pandas.concat instead.\n",
      "  features_final = features_final.append(feat)\n",
      "/Applications/miniconda3/lib/python3.9/site-packages/tsfel/feature_extraction/calc_features.py:300: FutureWarning: The frame.append method is deprecated and will be removed from pandas in a future version. Use pandas.concat instead.\n",
      "  features_final = features_final.append(feat)\n",
      "/Applications/miniconda3/lib/python3.9/site-packages/tsfel/feature_extraction/calc_features.py:300: FutureWarning: The frame.append method is deprecated and will be removed from pandas in a future version. Use pandas.concat instead.\n",
      "  features_final = features_final.append(feat)\n",
      "/Applications/miniconda3/lib/python3.9/site-packages/tsfel/feature_extraction/calc_features.py:300: FutureWarning: The frame.append method is deprecated and will be removed from pandas in a future version. Use pandas.concat instead.\n",
      "  features_final = features_final.append(feat)\n",
      "/Applications/miniconda3/lib/python3.9/site-packages/tsfel/feature_extraction/calc_features.py:300: FutureWarning: The frame.append method is deprecated and will be removed from pandas in a future version. Use pandas.concat instead.\n",
      "  features_final = features_final.append(feat)\n",
      "/Applications/miniconda3/lib/python3.9/site-packages/tsfel/feature_extraction/calc_features.py:300: FutureWarning: The frame.append method is deprecated and will be removed from pandas in a future version. Use pandas.concat instead.\n",
      "  features_final = features_final.append(feat)\n",
      "/Applications/miniconda3/lib/python3.9/site-packages/tsfel/feature_extraction/calc_features.py:300: FutureWarning: The frame.append method is deprecated and will be removed from pandas in a future version. Use pandas.concat instead.\n",
      "  features_final = features_final.append(feat)\n",
      "/Applications/miniconda3/lib/python3.9/site-packages/tsfel/feature_extraction/calc_features.py:300: FutureWarning: The frame.append method is deprecated and will be removed from pandas in a future version. Use pandas.concat instead.\n",
      "  features_final = features_final.append(feat)\n",
      "/Applications/miniconda3/lib/python3.9/site-packages/tsfel/feature_extraction/calc_features.py:300: FutureWarning: The frame.append method is deprecated and will be removed from pandas in a future version. Use pandas.concat instead.\n",
      "  features_final = features_final.append(feat)\n",
      "/Applications/miniconda3/lib/python3.9/site-packages/tsfel/feature_extraction/calc_features.py:300: FutureWarning: The frame.append method is deprecated and will be removed from pandas in a future version. Use pandas.concat instead.\n",
      "  features_final = features_final.append(feat)\n",
      "/Applications/miniconda3/lib/python3.9/site-packages/tsfel/feature_extraction/calc_features.py:300: FutureWarning: The frame.append method is deprecated and will be removed from pandas in a future version. Use pandas.concat instead.\n",
      "  features_final = features_final.append(feat)\n",
      "/Applications/miniconda3/lib/python3.9/site-packages/tsfel/feature_extraction/calc_features.py:300: FutureWarning: The frame.append method is deprecated and will be removed from pandas in a future version. Use pandas.concat instead.\n",
      "  features_final = features_final.append(feat)\n",
      "/Applications/miniconda3/lib/python3.9/site-packages/tsfel/feature_extraction/calc_features.py:300: FutureWarning: The frame.append method is deprecated and will be removed from pandas in a future version. Use pandas.concat instead.\n",
      "  features_final = features_final.append(feat)\n",
      "/Applications/miniconda3/lib/python3.9/site-packages/tsfel/feature_extraction/calc_features.py:300: FutureWarning: The frame.append method is deprecated and will be removed from pandas in a future version. Use pandas.concat instead.\n",
      "  features_final = features_final.append(feat)\n",
      "/Applications/miniconda3/lib/python3.9/site-packages/tsfel/feature_extraction/calc_features.py:300: FutureWarning: The frame.append method is deprecated and will be removed from pandas in a future version. Use pandas.concat instead.\n",
      "  features_final = features_final.append(feat)\n",
      "/Applications/miniconda3/lib/python3.9/site-packages/tsfel/feature_extraction/calc_features.py:300: FutureWarning: The frame.append method is deprecated and will be removed from pandas in a future version. Use pandas.concat instead.\n",
      "  features_final = features_final.append(feat)\n",
      "/Applications/miniconda3/lib/python3.9/site-packages/tsfel/feature_extraction/calc_features.py:300: FutureWarning: The frame.append method is deprecated and will be removed from pandas in a future version. Use pandas.concat instead.\n",
      "  features_final = features_final.append(feat)\n",
      "/Applications/miniconda3/lib/python3.9/site-packages/tsfel/feature_extraction/calc_features.py:300: FutureWarning: The frame.append method is deprecated and will be removed from pandas in a future version. Use pandas.concat instead.\n",
      "  features_final = features_final.append(feat)\n",
      "/Applications/miniconda3/lib/python3.9/site-packages/tsfel/feature_extraction/calc_features.py:300: FutureWarning: The frame.append method is deprecated and will be removed from pandas in a future version. Use pandas.concat instead.\n",
      "  features_final = features_final.append(feat)\n",
      "/Applications/miniconda3/lib/python3.9/site-packages/tsfel/feature_extraction/calc_features.py:300: FutureWarning: The frame.append method is deprecated and will be removed from pandas in a future version. Use pandas.concat instead.\n",
      "  features_final = features_final.append(feat)\n",
      "/Applications/miniconda3/lib/python3.9/site-packages/tsfel/feature_extraction/calc_features.py:300: FutureWarning: The frame.append method is deprecated and will be removed from pandas in a future version. Use pandas.concat instead.\n",
      "  features_final = features_final.append(feat)\n",
      "/Applications/miniconda3/lib/python3.9/site-packages/tsfel/feature_extraction/calc_features.py:300: FutureWarning: The frame.append method is deprecated and will be removed from pandas in a future version. Use pandas.concat instead.\n",
      "  features_final = features_final.append(feat)\n",
      "/Applications/miniconda3/lib/python3.9/site-packages/tsfel/feature_extraction/calc_features.py:300: FutureWarning: The frame.append method is deprecated and will be removed from pandas in a future version. Use pandas.concat instead.\n",
      "  features_final = features_final.append(feat)\n",
      "/Applications/miniconda3/lib/python3.9/site-packages/tsfel/feature_extraction/calc_features.py:300: FutureWarning: The frame.append method is deprecated and will be removed from pandas in a future version. Use pandas.concat instead.\n",
      "  features_final = features_final.append(feat)\n",
      "/Applications/miniconda3/lib/python3.9/site-packages/tsfel/feature_extraction/calc_features.py:300: FutureWarning: The frame.append method is deprecated and will be removed from pandas in a future version. Use pandas.concat instead.\n",
      "  features_final = features_final.append(feat)\n",
      "/Applications/miniconda3/lib/python3.9/site-packages/tsfel/feature_extraction/calc_features.py:300: FutureWarning: The frame.append method is deprecated and will be removed from pandas in a future version. Use pandas.concat instead.\n",
      "  features_final = features_final.append(feat)\n",
      "/Applications/miniconda3/lib/python3.9/site-packages/tsfel/feature_extraction/calc_features.py:300: FutureWarning: The frame.append method is deprecated and will be removed from pandas in a future version. Use pandas.concat instead.\n",
      "  features_final = features_final.append(feat)\n",
      "/Applications/miniconda3/lib/python3.9/site-packages/tsfel/feature_extraction/calc_features.py:300: FutureWarning: The frame.append method is deprecated and will be removed from pandas in a future version. Use pandas.concat instead.\n",
      "  features_final = features_final.append(feat)\n",
      "/Applications/miniconda3/lib/python3.9/site-packages/tsfel/feature_extraction/calc_features.py:300: FutureWarning: The frame.append method is deprecated and will be removed from pandas in a future version. Use pandas.concat instead.\n",
      "  features_final = features_final.append(feat)\n",
      "/Applications/miniconda3/lib/python3.9/site-packages/tsfel/feature_extraction/calc_features.py:300: FutureWarning: The frame.append method is deprecated and will be removed from pandas in a future version. Use pandas.concat instead.\n",
      "  features_final = features_final.append(feat)\n",
      "/Applications/miniconda3/lib/python3.9/site-packages/tsfel/feature_extraction/calc_features.py:300: FutureWarning: The frame.append method is deprecated and will be removed from pandas in a future version. Use pandas.concat instead.\n",
      "  features_final = features_final.append(feat)\n",
      "/Applications/miniconda3/lib/python3.9/site-packages/tsfel/feature_extraction/calc_features.py:300: FutureWarning: The frame.append method is deprecated and will be removed from pandas in a future version. Use pandas.concat instead.\n",
      "  features_final = features_final.append(feat)\n",
      "/Applications/miniconda3/lib/python3.9/site-packages/tsfel/feature_extraction/calc_features.py:300: FutureWarning: The frame.append method is deprecated and will be removed from pandas in a future version. Use pandas.concat instead.\n",
      "  features_final = features_final.append(feat)\n",
      "/Applications/miniconda3/lib/python3.9/site-packages/tsfel/feature_extraction/calc_features.py:300: FutureWarning: The frame.append method is deprecated and will be removed from pandas in a future version. Use pandas.concat instead.\n",
      "  features_final = features_final.append(feat)\n",
      "/Applications/miniconda3/lib/python3.9/site-packages/tsfel/feature_extraction/calc_features.py:300: FutureWarning: The frame.append method is deprecated and will be removed from pandas in a future version. Use pandas.concat instead.\n",
      "  features_final = features_final.append(feat)\n",
      "/Applications/miniconda3/lib/python3.9/site-packages/tsfel/feature_extraction/calc_features.py:300: FutureWarning: The frame.append method is deprecated and will be removed from pandas in a future version. Use pandas.concat instead.\n",
      "  features_final = features_final.append(feat)\n",
      "/Applications/miniconda3/lib/python3.9/site-packages/tsfel/feature_extraction/calc_features.py:300: FutureWarning: The frame.append method is deprecated and will be removed from pandas in a future version. Use pandas.concat instead.\n",
      "  features_final = features_final.append(feat)\n",
      "/Applications/miniconda3/lib/python3.9/site-packages/tsfel/feature_extraction/calc_features.py:300: FutureWarning: The frame.append method is deprecated and will be removed from pandas in a future version. Use pandas.concat instead.\n",
      "  features_final = features_final.append(feat)\n",
      "/Applications/miniconda3/lib/python3.9/site-packages/tsfel/feature_extraction/calc_features.py:300: FutureWarning: The frame.append method is deprecated and will be removed from pandas in a future version. Use pandas.concat instead.\n",
      "  features_final = features_final.append(feat)\n",
      "/Applications/miniconda3/lib/python3.9/site-packages/tsfel/feature_extraction/calc_features.py:300: FutureWarning: The frame.append method is deprecated and will be removed from pandas in a future version. Use pandas.concat instead.\n",
      "  features_final = features_final.append(feat)\n",
      "/Applications/miniconda3/lib/python3.9/site-packages/tsfel/feature_extraction/calc_features.py:300: FutureWarning: The frame.append method is deprecated and will be removed from pandas in a future version. Use pandas.concat instead.\n",
      "  features_final = features_final.append(feat)\n",
      "/Applications/miniconda3/lib/python3.9/site-packages/tsfel/feature_extraction/calc_features.py:300: FutureWarning: The frame.append method is deprecated and will be removed from pandas in a future version. Use pandas.concat instead.\n",
      "  features_final = features_final.append(feat)\n",
      "/Applications/miniconda3/lib/python3.9/site-packages/tsfel/feature_extraction/calc_features.py:300: FutureWarning: The frame.append method is deprecated and will be removed from pandas in a future version. Use pandas.concat instead.\n",
      "  features_final = features_final.append(feat)\n",
      "/Applications/miniconda3/lib/python3.9/site-packages/tsfel/feature_extraction/calc_features.py:300: FutureWarning: The frame.append method is deprecated and will be removed from pandas in a future version. Use pandas.concat instead.\n",
      "  features_final = features_final.append(feat)\n",
      "/Applications/miniconda3/lib/python3.9/site-packages/tsfel/feature_extraction/calc_features.py:300: FutureWarning: The frame.append method is deprecated and will be removed from pandas in a future version. Use pandas.concat instead.\n",
      "  features_final = features_final.append(feat)\n",
      "/Applications/miniconda3/lib/python3.9/site-packages/tsfel/feature_extraction/calc_features.py:300: FutureWarning: The frame.append method is deprecated and will be removed from pandas in a future version. Use pandas.concat instead.\n",
      "  features_final = features_final.append(feat)\n",
      "/Applications/miniconda3/lib/python3.9/site-packages/tsfel/feature_extraction/calc_features.py:300: FutureWarning: The frame.append method is deprecated and will be removed from pandas in a future version. Use pandas.concat instead.\n",
      "  features_final = features_final.append(feat)\n",
      "/Applications/miniconda3/lib/python3.9/site-packages/tsfel/feature_extraction/calc_features.py:300: FutureWarning: The frame.append method is deprecated and will be removed from pandas in a future version. Use pandas.concat instead.\n",
      "  features_final = features_final.append(feat)\n",
      "/Applications/miniconda3/lib/python3.9/site-packages/tsfel/feature_extraction/calc_features.py:300: FutureWarning: The frame.append method is deprecated and will be removed from pandas in a future version. Use pandas.concat instead.\n",
      "  features_final = features_final.append(feat)\n",
      "/Applications/miniconda3/lib/python3.9/site-packages/tsfel/feature_extraction/calc_features.py:300: FutureWarning: The frame.append method is deprecated and will be removed from pandas in a future version. Use pandas.concat instead.\n",
      "  features_final = features_final.append(feat)\n",
      "/Applications/miniconda3/lib/python3.9/site-packages/tsfel/feature_extraction/calc_features.py:300: FutureWarning: The frame.append method is deprecated and will be removed from pandas in a future version. Use pandas.concat instead.\n",
      "  features_final = features_final.append(feat)\n",
      "/Applications/miniconda3/lib/python3.9/site-packages/tsfel/feature_extraction/calc_features.py:300: FutureWarning: The frame.append method is deprecated and will be removed from pandas in a future version. Use pandas.concat instead.\n",
      "  features_final = features_final.append(feat)\n",
      "/Applications/miniconda3/lib/python3.9/site-packages/tsfel/feature_extraction/calc_features.py:300: FutureWarning: The frame.append method is deprecated and will be removed from pandas in a future version. Use pandas.concat instead.\n",
      "  features_final = features_final.append(feat)\n",
      "/Applications/miniconda3/lib/python3.9/site-packages/tsfel/feature_extraction/calc_features.py:300: FutureWarning: The frame.append method is deprecated and will be removed from pandas in a future version. Use pandas.concat instead.\n",
      "  features_final = features_final.append(feat)\n",
      "/Applications/miniconda3/lib/python3.9/site-packages/tsfel/feature_extraction/calc_features.py:300: FutureWarning: The frame.append method is deprecated and will be removed from pandas in a future version. Use pandas.concat instead.\n",
      "  features_final = features_final.append(feat)\n",
      "/Applications/miniconda3/lib/python3.9/site-packages/tsfel/feature_extraction/calc_features.py:300: FutureWarning: The frame.append method is deprecated and will be removed from pandas in a future version. Use pandas.concat instead.\n",
      "  features_final = features_final.append(feat)\n",
      "/Applications/miniconda3/lib/python3.9/site-packages/tsfel/feature_extraction/calc_features.py:300: FutureWarning: The frame.append method is deprecated and will be removed from pandas in a future version. Use pandas.concat instead.\n",
      "  features_final = features_final.append(feat)\n",
      "/Applications/miniconda3/lib/python3.9/site-packages/tsfel/feature_extraction/calc_features.py:300: FutureWarning: The frame.append method is deprecated and will be removed from pandas in a future version. Use pandas.concat instead.\n",
      "  features_final = features_final.append(feat)\n",
      "/Applications/miniconda3/lib/python3.9/site-packages/tsfel/feature_extraction/calc_features.py:300: FutureWarning: The frame.append method is deprecated and will be removed from pandas in a future version. Use pandas.concat instead.\n",
      "  features_final = features_final.append(feat)\n",
      "/Applications/miniconda3/lib/python3.9/site-packages/tsfel/feature_extraction/calc_features.py:300: FutureWarning: The frame.append method is deprecated and will be removed from pandas in a future version. Use pandas.concat instead.\n",
      "  features_final = features_final.append(feat)\n",
      "/Applications/miniconda3/lib/python3.9/site-packages/tsfel/feature_extraction/calc_features.py:300: FutureWarning: The frame.append method is deprecated and will be removed from pandas in a future version. Use pandas.concat instead.\n",
      "  features_final = features_final.append(feat)\n",
      "/Applications/miniconda3/lib/python3.9/site-packages/tsfel/feature_extraction/calc_features.py:300: FutureWarning: The frame.append method is deprecated and will be removed from pandas in a future version. Use pandas.concat instead.\n",
      "  features_final = features_final.append(feat)\n",
      "/Applications/miniconda3/lib/python3.9/site-packages/tsfel/feature_extraction/calc_features.py:300: FutureWarning: The frame.append method is deprecated and will be removed from pandas in a future version. Use pandas.concat instead.\n",
      "  features_final = features_final.append(feat)\n",
      "/Applications/miniconda3/lib/python3.9/site-packages/tsfel/feature_extraction/calc_features.py:300: FutureWarning: The frame.append method is deprecated and will be removed from pandas in a future version. Use pandas.concat instead.\n",
      "  features_final = features_final.append(feat)\n",
      "/Applications/miniconda3/lib/python3.9/site-packages/tsfel/feature_extraction/calc_features.py:300: FutureWarning: The frame.append method is deprecated and will be removed from pandas in a future version. Use pandas.concat instead.\n",
      "  features_final = features_final.append(feat)\n",
      "/Applications/miniconda3/lib/python3.9/site-packages/tsfel/feature_extraction/calc_features.py:300: FutureWarning: The frame.append method is deprecated and will be removed from pandas in a future version. Use pandas.concat instead.\n",
      "  features_final = features_final.append(feat)\n",
      "/Applications/miniconda3/lib/python3.9/site-packages/tsfel/feature_extraction/calc_features.py:300: FutureWarning: The frame.append method is deprecated and will be removed from pandas in a future version. Use pandas.concat instead.\n",
      "  features_final = features_final.append(feat)\n",
      "/Applications/miniconda3/lib/python3.9/site-packages/tsfel/feature_extraction/calc_features.py:300: FutureWarning: The frame.append method is deprecated and will be removed from pandas in a future version. Use pandas.concat instead.\n",
      "  features_final = features_final.append(feat)\n",
      "/Applications/miniconda3/lib/python3.9/site-packages/tsfel/feature_extraction/calc_features.py:300: FutureWarning: The frame.append method is deprecated and will be removed from pandas in a future version. Use pandas.concat instead.\n",
      "  features_final = features_final.append(feat)\n",
      "/Applications/miniconda3/lib/python3.9/site-packages/tsfel/feature_extraction/calc_features.py:300: FutureWarning: The frame.append method is deprecated and will be removed from pandas in a future version. Use pandas.concat instead.\n",
      "  features_final = features_final.append(feat)\n",
      "/Applications/miniconda3/lib/python3.9/site-packages/tsfel/feature_extraction/calc_features.py:300: FutureWarning: The frame.append method is deprecated and will be removed from pandas in a future version. Use pandas.concat instead.\n",
      "  features_final = features_final.append(feat)\n",
      "/Applications/miniconda3/lib/python3.9/site-packages/tsfel/feature_extraction/calc_features.py:300: FutureWarning: The frame.append method is deprecated and will be removed from pandas in a future version. Use pandas.concat instead.\n",
      "  features_final = features_final.append(feat)\n",
      "/Applications/miniconda3/lib/python3.9/site-packages/tsfel/feature_extraction/calc_features.py:300: FutureWarning: The frame.append method is deprecated and will be removed from pandas in a future version. Use pandas.concat instead.\n",
      "  features_final = features_final.append(feat)\n",
      "/Applications/miniconda3/lib/python3.9/site-packages/tsfel/feature_extraction/calc_features.py:300: FutureWarning: The frame.append method is deprecated and will be removed from pandas in a future version. Use pandas.concat instead.\n",
      "  features_final = features_final.append(feat)\n",
      "/Applications/miniconda3/lib/python3.9/site-packages/tsfel/feature_extraction/calc_features.py:300: FutureWarning: The frame.append method is deprecated and will be removed from pandas in a future version. Use pandas.concat instead.\n",
      "  features_final = features_final.append(feat)\n",
      "/Applications/miniconda3/lib/python3.9/site-packages/tsfel/feature_extraction/calc_features.py:300: FutureWarning: The frame.append method is deprecated and will be removed from pandas in a future version. Use pandas.concat instead.\n",
      "  features_final = features_final.append(feat)\n",
      "/Applications/miniconda3/lib/python3.9/site-packages/tsfel/feature_extraction/calc_features.py:300: FutureWarning: The frame.append method is deprecated and will be removed from pandas in a future version. Use pandas.concat instead.\n",
      "  features_final = features_final.append(feat)\n",
      "/Applications/miniconda3/lib/python3.9/site-packages/tsfel/feature_extraction/calc_features.py:300: FutureWarning: The frame.append method is deprecated and will be removed from pandas in a future version. Use pandas.concat instead.\n",
      "  features_final = features_final.append(feat)\n",
      "/Applications/miniconda3/lib/python3.9/site-packages/tsfel/feature_extraction/calc_features.py:300: FutureWarning: The frame.append method is deprecated and will be removed from pandas in a future version. Use pandas.concat instead.\n",
      "  features_final = features_final.append(feat)\n",
      "/Applications/miniconda3/lib/python3.9/site-packages/tsfel/feature_extraction/calc_features.py:300: FutureWarning: The frame.append method is deprecated and will be removed from pandas in a future version. Use pandas.concat instead.\n",
      "  features_final = features_final.append(feat)\n",
      "/Applications/miniconda3/lib/python3.9/site-packages/tsfel/feature_extraction/calc_features.py:300: FutureWarning: The frame.append method is deprecated and will be removed from pandas in a future version. Use pandas.concat instead.\n",
      "  features_final = features_final.append(feat)\n",
      "/Applications/miniconda3/lib/python3.9/site-packages/tsfel/feature_extraction/calc_features.py:300: FutureWarning: The frame.append method is deprecated and will be removed from pandas in a future version. Use pandas.concat instead.\n",
      "  features_final = features_final.append(feat)\n",
      "/Applications/miniconda3/lib/python3.9/site-packages/tsfel/feature_extraction/calc_features.py:300: FutureWarning: The frame.append method is deprecated and will be removed from pandas in a future version. Use pandas.concat instead.\n",
      "  features_final = features_final.append(feat)\n",
      "/Applications/miniconda3/lib/python3.9/site-packages/tsfel/feature_extraction/calc_features.py:300: FutureWarning: The frame.append method is deprecated and will be removed from pandas in a future version. Use pandas.concat instead.\n",
      "  features_final = features_final.append(feat)\n",
      "/Applications/miniconda3/lib/python3.9/site-packages/tsfel/feature_extraction/calc_features.py:300: FutureWarning: The frame.append method is deprecated and will be removed from pandas in a future version. Use pandas.concat instead.\n",
      "  features_final = features_final.append(feat)\n",
      "/Applications/miniconda3/lib/python3.9/site-packages/tsfel/feature_extraction/calc_features.py:300: FutureWarning: The frame.append method is deprecated and will be removed from pandas in a future version. Use pandas.concat instead.\n",
      "  features_final = features_final.append(feat)\n",
      "/Applications/miniconda3/lib/python3.9/site-packages/tsfel/feature_extraction/calc_features.py:300: FutureWarning: The frame.append method is deprecated and will be removed from pandas in a future version. Use pandas.concat instead.\n",
      "  features_final = features_final.append(feat)\n",
      "/Applications/miniconda3/lib/python3.9/site-packages/tsfel/feature_extraction/calc_features.py:300: FutureWarning: The frame.append method is deprecated and will be removed from pandas in a future version. Use pandas.concat instead.\n",
      "  features_final = features_final.append(feat)\n",
      "/Applications/miniconda3/lib/python3.9/site-packages/tsfel/feature_extraction/calc_features.py:300: FutureWarning: The frame.append method is deprecated and will be removed from pandas in a future version. Use pandas.concat instead.\n",
      "  features_final = features_final.append(feat)\n",
      "/Applications/miniconda3/lib/python3.9/site-packages/tsfel/feature_extraction/calc_features.py:300: FutureWarning: The frame.append method is deprecated and will be removed from pandas in a future version. Use pandas.concat instead.\n",
      "  features_final = features_final.append(feat)\n",
      "/Applications/miniconda3/lib/python3.9/site-packages/tsfel/feature_extraction/calc_features.py:300: FutureWarning: The frame.append method is deprecated and will be removed from pandas in a future version. Use pandas.concat instead.\n",
      "  features_final = features_final.append(feat)\n",
      "/Applications/miniconda3/lib/python3.9/site-packages/tsfel/feature_extraction/calc_features.py:300: FutureWarning: The frame.append method is deprecated and will be removed from pandas in a future version. Use pandas.concat instead.\n",
      "  features_final = features_final.append(feat)\n",
      "/Applications/miniconda3/lib/python3.9/site-packages/tsfel/feature_extraction/calc_features.py:300: FutureWarning: The frame.append method is deprecated and will be removed from pandas in a future version. Use pandas.concat instead.\n",
      "  features_final = features_final.append(feat)\n",
      "/Applications/miniconda3/lib/python3.9/site-packages/tsfel/feature_extraction/calc_features.py:300: FutureWarning: The frame.append method is deprecated and will be removed from pandas in a future version. Use pandas.concat instead.\n",
      "  features_final = features_final.append(feat)\n",
      "/Applications/miniconda3/lib/python3.9/site-packages/tsfel/feature_extraction/calc_features.py:300: FutureWarning: The frame.append method is deprecated and will be removed from pandas in a future version. Use pandas.concat instead.\n",
      "  features_final = features_final.append(feat)\n",
      "/Applications/miniconda3/lib/python3.9/site-packages/tsfel/feature_extraction/calc_features.py:300: FutureWarning: The frame.append method is deprecated and will be removed from pandas in a future version. Use pandas.concat instead.\n",
      "  features_final = features_final.append(feat)\n",
      "/Applications/miniconda3/lib/python3.9/site-packages/tsfel/feature_extraction/calc_features.py:300: FutureWarning: The frame.append method is deprecated and will be removed from pandas in a future version. Use pandas.concat instead.\n",
      "  features_final = features_final.append(feat)\n",
      "/Applications/miniconda3/lib/python3.9/site-packages/tsfel/feature_extraction/calc_features.py:300: FutureWarning: The frame.append method is deprecated and will be removed from pandas in a future version. Use pandas.concat instead.\n",
      "  features_final = features_final.append(feat)\n",
      "/Applications/miniconda3/lib/python3.9/site-packages/tsfel/feature_extraction/calc_features.py:300: FutureWarning: The frame.append method is deprecated and will be removed from pandas in a future version. Use pandas.concat instead.\n",
      "  features_final = features_final.append(feat)\n",
      "/Applications/miniconda3/lib/python3.9/site-packages/tsfel/feature_extraction/calc_features.py:300: FutureWarning: The frame.append method is deprecated and will be removed from pandas in a future version. Use pandas.concat instead.\n",
      "  features_final = features_final.append(feat)\n",
      "/Applications/miniconda3/lib/python3.9/site-packages/tsfel/feature_extraction/calc_features.py:300: FutureWarning: The frame.append method is deprecated and will be removed from pandas in a future version. Use pandas.concat instead.\n",
      "  features_final = features_final.append(feat)\n",
      "/Applications/miniconda3/lib/python3.9/site-packages/tsfel/feature_extraction/calc_features.py:300: FutureWarning: The frame.append method is deprecated and will be removed from pandas in a future version. Use pandas.concat instead.\n",
      "  features_final = features_final.append(feat)\n",
      "/Applications/miniconda3/lib/python3.9/site-packages/tsfel/feature_extraction/calc_features.py:300: FutureWarning: The frame.append method is deprecated and will be removed from pandas in a future version. Use pandas.concat instead.\n",
      "  features_final = features_final.append(feat)\n",
      "/Applications/miniconda3/lib/python3.9/site-packages/tsfel/feature_extraction/calc_features.py:300: FutureWarning: The frame.append method is deprecated and will be removed from pandas in a future version. Use pandas.concat instead.\n",
      "  features_final = features_final.append(feat)\n"
     ]
    },
    {
     "name": "stdout",
     "output_type": "stream",
     "text": [
      "\n",
      "*** Feature extraction finished ***\n"
     ]
    }
   ],
   "source": [
    "X_train_features = tsfel.time_series_features_extractor(cfg_file, X_train, fs=44100)"
   ]
  },
  {
   "cell_type": "code",
   "execution_count": 6,
   "metadata": {},
   "outputs": [
    {
     "data": {
      "text/plain": "     0_Absolute energy  0_Area under the curve  0_Autocorrelation  0_Centroid  \\\n0            11.125425                0.006967          11.125425    1.002136   \n1            10.628953                0.007482          10.628953    1.138100   \n2            47.022009                0.016009          47.022009    1.114565   \n3            31.690032                0.013269          31.690032    1.026847   \n4            11.550357                0.006351          11.550357    1.002787   \n..                 ...                     ...                ...         ...   \n205          13.334156                0.007110          13.334156    0.939186   \n206          12.488078                0.006917          12.488078    0.863934   \n207          16.179345                0.007337          16.179345    1.239068   \n208          31.329089                0.010797          31.329089    1.034514   \n209          12.786580                0.007779          12.786580    1.016442   \n\n     0_ECDF Percentile Count_0  0_ECDF Percentile Count_1  \\\n0                      17640.0                    70560.0   \n1                      17640.0                    70560.0   \n2                      17640.0                    70560.0   \n3                      17640.0                    70560.0   \n4                      17640.0                    70560.0   \n..                         ...                        ...   \n205                    17640.0                    70560.0   \n206                    17640.0                    70560.0   \n207                    17640.0                    70560.0   \n208                    17640.0                    70560.0   \n209                    17640.0                    70560.0   \n\n     0_ECDF Percentile_0  0_ECDF Percentile_1  0_ECDF_0  0_ECDF_1  ...  \\\n0              -0.000732             0.000702  0.000011  0.000023  ...   \n1              -0.000610             0.000610  0.000011  0.000023  ...   \n2              -0.000549             0.000519  0.000011  0.000023  ...   \n3              -0.000488             0.000488  0.000011  0.000023  ...   \n4              -0.000488             0.000458  0.000011  0.000023  ...   \n..                   ...                  ...       ...       ...  ...   \n205            -0.000580             0.000549  0.000011  0.000023  ...   \n206            -0.000580             0.000580  0.000011  0.000023  ...   \n207            -0.000519             0.000519  0.000011  0.000023  ...   \n208            -0.000519             0.000458  0.000011  0.000023  ...   \n209            -0.000519             0.000488  0.000011  0.000023  ...   \n\n     0_Wavelet variance_0  0_Wavelet variance_1  0_Wavelet variance_2  \\\n0            1.584834e-05              0.000072              0.000050   \n1            3.089671e-05              0.000184              0.000115   \n2            2.977669e-05              0.000159              0.000179   \n3            3.187852e-05              0.000186              0.000142   \n4            1.674240e-06              0.000014              0.000038   \n..                    ...                   ...                   ...   \n205          1.132391e-05              0.000064              0.000066   \n206          1.041576e-05              0.000061              0.000071   \n207          1.706398e-06              0.000012              0.000028   \n208          3.961173e-06              0.000048              0.000174   \n209          1.850189e-07              0.000002              0.000010   \n\n     0_Wavelet variance_3  0_Wavelet variance_4  0_Wavelet variance_5  \\\n0                0.000041              0.000049              0.000060   \n1                0.000046              0.000044              0.000053   \n2                0.000271              0.000419              0.000563   \n3                0.000116              0.000173              0.000253   \n4                0.000089              0.000178              0.000306   \n..                    ...                   ...                   ...   \n205              0.000071              0.000088              0.000102   \n206              0.000076              0.000087              0.000099   \n207              0.000066              0.000140              0.000263   \n208              0.000408              0.000667              0.000834   \n209              0.000029              0.000068              0.000131   \n\n     0_Wavelet variance_6  0_Wavelet variance_7  0_Wavelet variance_8  \\\n0                0.000079              0.000112              0.000168   \n1                0.000066              0.000089              0.000128   \n2                0.000700              0.000868              0.001126   \n3                0.000345              0.000471              0.000656   \n4                0.000469              0.000662              0.000887   \n..                    ...                   ...                   ...   \n205              0.000122              0.000158              0.000222   \n206              0.000116              0.000148              0.000206   \n207              0.000441              0.000680              0.000976   \n208              0.000871              0.000839              0.000837   \n209              0.000225              0.000351              0.000513   \n\n     0_Zero crossing rate  \n0                 11952.0  \n1                  9289.0  \n2                  9873.0  \n3                  9744.0  \n4                 10737.0  \n..                    ...  \n205               10286.0  \n206               10835.0  \n207                9315.0  \n208                9417.0  \n209                7617.0  \n\n[210 rows x 390 columns]",
      "text/html": "<div>\n<style scoped>\n    .dataframe tbody tr th:only-of-type {\n        vertical-align: middle;\n    }\n\n    .dataframe tbody tr th {\n        vertical-align: top;\n    }\n\n    .dataframe thead th {\n        text-align: right;\n    }\n</style>\n<table border=\"1\" class=\"dataframe\">\n  <thead>\n    <tr style=\"text-align: right;\">\n      <th></th>\n      <th>0_Absolute energy</th>\n      <th>0_Area under the curve</th>\n      <th>0_Autocorrelation</th>\n      <th>0_Centroid</th>\n      <th>0_ECDF Percentile Count_0</th>\n      <th>0_ECDF Percentile Count_1</th>\n      <th>0_ECDF Percentile_0</th>\n      <th>0_ECDF Percentile_1</th>\n      <th>0_ECDF_0</th>\n      <th>0_ECDF_1</th>\n      <th>...</th>\n      <th>0_Wavelet variance_0</th>\n      <th>0_Wavelet variance_1</th>\n      <th>0_Wavelet variance_2</th>\n      <th>0_Wavelet variance_3</th>\n      <th>0_Wavelet variance_4</th>\n      <th>0_Wavelet variance_5</th>\n      <th>0_Wavelet variance_6</th>\n      <th>0_Wavelet variance_7</th>\n      <th>0_Wavelet variance_8</th>\n      <th>0_Zero crossing rate</th>\n    </tr>\n  </thead>\n  <tbody>\n    <tr>\n      <th>0</th>\n      <td>11.125425</td>\n      <td>0.006967</td>\n      <td>11.125425</td>\n      <td>1.002136</td>\n      <td>17640.0</td>\n      <td>70560.0</td>\n      <td>-0.000732</td>\n      <td>0.000702</td>\n      <td>0.000011</td>\n      <td>0.000023</td>\n      <td>...</td>\n      <td>1.584834e-05</td>\n      <td>0.000072</td>\n      <td>0.000050</td>\n      <td>0.000041</td>\n      <td>0.000049</td>\n      <td>0.000060</td>\n      <td>0.000079</td>\n      <td>0.000112</td>\n      <td>0.000168</td>\n      <td>11952.0</td>\n    </tr>\n    <tr>\n      <th>1</th>\n      <td>10.628953</td>\n      <td>0.007482</td>\n      <td>10.628953</td>\n      <td>1.138100</td>\n      <td>17640.0</td>\n      <td>70560.0</td>\n      <td>-0.000610</td>\n      <td>0.000610</td>\n      <td>0.000011</td>\n      <td>0.000023</td>\n      <td>...</td>\n      <td>3.089671e-05</td>\n      <td>0.000184</td>\n      <td>0.000115</td>\n      <td>0.000046</td>\n      <td>0.000044</td>\n      <td>0.000053</td>\n      <td>0.000066</td>\n      <td>0.000089</td>\n      <td>0.000128</td>\n      <td>9289.0</td>\n    </tr>\n    <tr>\n      <th>2</th>\n      <td>47.022009</td>\n      <td>0.016009</td>\n      <td>47.022009</td>\n      <td>1.114565</td>\n      <td>17640.0</td>\n      <td>70560.0</td>\n      <td>-0.000549</td>\n      <td>0.000519</td>\n      <td>0.000011</td>\n      <td>0.000023</td>\n      <td>...</td>\n      <td>2.977669e-05</td>\n      <td>0.000159</td>\n      <td>0.000179</td>\n      <td>0.000271</td>\n      <td>0.000419</td>\n      <td>0.000563</td>\n      <td>0.000700</td>\n      <td>0.000868</td>\n      <td>0.001126</td>\n      <td>9873.0</td>\n    </tr>\n    <tr>\n      <th>3</th>\n      <td>31.690032</td>\n      <td>0.013269</td>\n      <td>31.690032</td>\n      <td>1.026847</td>\n      <td>17640.0</td>\n      <td>70560.0</td>\n      <td>-0.000488</td>\n      <td>0.000488</td>\n      <td>0.000011</td>\n      <td>0.000023</td>\n      <td>...</td>\n      <td>3.187852e-05</td>\n      <td>0.000186</td>\n      <td>0.000142</td>\n      <td>0.000116</td>\n      <td>0.000173</td>\n      <td>0.000253</td>\n      <td>0.000345</td>\n      <td>0.000471</td>\n      <td>0.000656</td>\n      <td>9744.0</td>\n    </tr>\n    <tr>\n      <th>4</th>\n      <td>11.550357</td>\n      <td>0.006351</td>\n      <td>11.550357</td>\n      <td>1.002787</td>\n      <td>17640.0</td>\n      <td>70560.0</td>\n      <td>-0.000488</td>\n      <td>0.000458</td>\n      <td>0.000011</td>\n      <td>0.000023</td>\n      <td>...</td>\n      <td>1.674240e-06</td>\n      <td>0.000014</td>\n      <td>0.000038</td>\n      <td>0.000089</td>\n      <td>0.000178</td>\n      <td>0.000306</td>\n      <td>0.000469</td>\n      <td>0.000662</td>\n      <td>0.000887</td>\n      <td>10737.0</td>\n    </tr>\n    <tr>\n      <th>...</th>\n      <td>...</td>\n      <td>...</td>\n      <td>...</td>\n      <td>...</td>\n      <td>...</td>\n      <td>...</td>\n      <td>...</td>\n      <td>...</td>\n      <td>...</td>\n      <td>...</td>\n      <td>...</td>\n      <td>...</td>\n      <td>...</td>\n      <td>...</td>\n      <td>...</td>\n      <td>...</td>\n      <td>...</td>\n      <td>...</td>\n      <td>...</td>\n      <td>...</td>\n      <td>...</td>\n    </tr>\n    <tr>\n      <th>205</th>\n      <td>13.334156</td>\n      <td>0.007110</td>\n      <td>13.334156</td>\n      <td>0.939186</td>\n      <td>17640.0</td>\n      <td>70560.0</td>\n      <td>-0.000580</td>\n      <td>0.000549</td>\n      <td>0.000011</td>\n      <td>0.000023</td>\n      <td>...</td>\n      <td>1.132391e-05</td>\n      <td>0.000064</td>\n      <td>0.000066</td>\n      <td>0.000071</td>\n      <td>0.000088</td>\n      <td>0.000102</td>\n      <td>0.000122</td>\n      <td>0.000158</td>\n      <td>0.000222</td>\n      <td>10286.0</td>\n    </tr>\n    <tr>\n      <th>206</th>\n      <td>12.488078</td>\n      <td>0.006917</td>\n      <td>12.488078</td>\n      <td>0.863934</td>\n      <td>17640.0</td>\n      <td>70560.0</td>\n      <td>-0.000580</td>\n      <td>0.000580</td>\n      <td>0.000011</td>\n      <td>0.000023</td>\n      <td>...</td>\n      <td>1.041576e-05</td>\n      <td>0.000061</td>\n      <td>0.000071</td>\n      <td>0.000076</td>\n      <td>0.000087</td>\n      <td>0.000099</td>\n      <td>0.000116</td>\n      <td>0.000148</td>\n      <td>0.000206</td>\n      <td>10835.0</td>\n    </tr>\n    <tr>\n      <th>207</th>\n      <td>16.179345</td>\n      <td>0.007337</td>\n      <td>16.179345</td>\n      <td>1.239068</td>\n      <td>17640.0</td>\n      <td>70560.0</td>\n      <td>-0.000519</td>\n      <td>0.000519</td>\n      <td>0.000011</td>\n      <td>0.000023</td>\n      <td>...</td>\n      <td>1.706398e-06</td>\n      <td>0.000012</td>\n      <td>0.000028</td>\n      <td>0.000066</td>\n      <td>0.000140</td>\n      <td>0.000263</td>\n      <td>0.000441</td>\n      <td>0.000680</td>\n      <td>0.000976</td>\n      <td>9315.0</td>\n    </tr>\n    <tr>\n      <th>208</th>\n      <td>31.329089</td>\n      <td>0.010797</td>\n      <td>31.329089</td>\n      <td>1.034514</td>\n      <td>17640.0</td>\n      <td>70560.0</td>\n      <td>-0.000519</td>\n      <td>0.000458</td>\n      <td>0.000011</td>\n      <td>0.000023</td>\n      <td>...</td>\n      <td>3.961173e-06</td>\n      <td>0.000048</td>\n      <td>0.000174</td>\n      <td>0.000408</td>\n      <td>0.000667</td>\n      <td>0.000834</td>\n      <td>0.000871</td>\n      <td>0.000839</td>\n      <td>0.000837</td>\n      <td>9417.0</td>\n    </tr>\n    <tr>\n      <th>209</th>\n      <td>12.786580</td>\n      <td>0.007779</td>\n      <td>12.786580</td>\n      <td>1.016442</td>\n      <td>17640.0</td>\n      <td>70560.0</td>\n      <td>-0.000519</td>\n      <td>0.000488</td>\n      <td>0.000011</td>\n      <td>0.000023</td>\n      <td>...</td>\n      <td>1.850189e-07</td>\n      <td>0.000002</td>\n      <td>0.000010</td>\n      <td>0.000029</td>\n      <td>0.000068</td>\n      <td>0.000131</td>\n      <td>0.000225</td>\n      <td>0.000351</td>\n      <td>0.000513</td>\n      <td>7617.0</td>\n    </tr>\n  </tbody>\n</table>\n<p>210 rows × 390 columns</p>\n</div>"
     },
     "execution_count": 6,
     "metadata": {},
     "output_type": "execute_result"
    }
   ],
   "source": [
    "X_train_features"
   ]
  },
  {
   "cell_type": "markdown",
   "metadata": {},
   "source": [
    "__390 features extracted from the train set, (70% of 300 gives 252 samples)__"
   ]
  },
  {
   "cell_type": "code",
   "execution_count": 9,
   "metadata": {},
   "outputs": [
    {
     "name": "stdout",
     "output_type": "stream",
     "text": [
      "*** Feature extraction started ***\n"
     ]
    },
    {
     "data": {
      "text/plain": "<IPython.core.display.HTML object>",
      "text/html": "\n              <p>\n                  Progress: 0% Complete\n              <p/>            \n              <progress\n                  value='0'\n                  max='90',\n                  style='width: 25%',\n              >\n                  0\n              </progress>\n\n    "
     },
     "metadata": {},
     "output_type": "display_data"
    },
    {
     "name": "stderr",
     "output_type": "stream",
     "text": [
      "/Applications/miniconda3/lib/python3.9/site-packages/tsfel/feature_extraction/calc_features.py:300: FutureWarning: The frame.append method is deprecated and will be removed from pandas in a future version. Use pandas.concat instead.\n",
      "  features_final = features_final.append(feat)\n",
      "/Applications/miniconda3/lib/python3.9/site-packages/tsfel/feature_extraction/calc_features.py:300: FutureWarning: The frame.append method is deprecated and will be removed from pandas in a future version. Use pandas.concat instead.\n",
      "  features_final = features_final.append(feat)\n",
      "/Applications/miniconda3/lib/python3.9/site-packages/tsfel/feature_extraction/calc_features.py:300: FutureWarning: The frame.append method is deprecated and will be removed from pandas in a future version. Use pandas.concat instead.\n",
      "  features_final = features_final.append(feat)\n",
      "/Applications/miniconda3/lib/python3.9/site-packages/tsfel/feature_extraction/calc_features.py:300: FutureWarning: The frame.append method is deprecated and will be removed from pandas in a future version. Use pandas.concat instead.\n",
      "  features_final = features_final.append(feat)\n",
      "/Applications/miniconda3/lib/python3.9/site-packages/tsfel/feature_extraction/calc_features.py:300: FutureWarning: The frame.append method is deprecated and will be removed from pandas in a future version. Use pandas.concat instead.\n",
      "  features_final = features_final.append(feat)\n",
      "/Applications/miniconda3/lib/python3.9/site-packages/tsfel/feature_extraction/calc_features.py:300: FutureWarning: The frame.append method is deprecated and will be removed from pandas in a future version. Use pandas.concat instead.\n",
      "  features_final = features_final.append(feat)\n",
      "/Applications/miniconda3/lib/python3.9/site-packages/tsfel/feature_extraction/calc_features.py:300: FutureWarning: The frame.append method is deprecated and will be removed from pandas in a future version. Use pandas.concat instead.\n",
      "  features_final = features_final.append(feat)\n",
      "/Applications/miniconda3/lib/python3.9/site-packages/tsfel/feature_extraction/calc_features.py:300: FutureWarning: The frame.append method is deprecated and will be removed from pandas in a future version. Use pandas.concat instead.\n",
      "  features_final = features_final.append(feat)\n",
      "/Applications/miniconda3/lib/python3.9/site-packages/tsfel/feature_extraction/calc_features.py:300: FutureWarning: The frame.append method is deprecated and will be removed from pandas in a future version. Use pandas.concat instead.\n",
      "  features_final = features_final.append(feat)\n",
      "/Applications/miniconda3/lib/python3.9/site-packages/tsfel/feature_extraction/calc_features.py:300: FutureWarning: The frame.append method is deprecated and will be removed from pandas in a future version. Use pandas.concat instead.\n",
      "  features_final = features_final.append(feat)\n",
      "/Applications/miniconda3/lib/python3.9/site-packages/tsfel/feature_extraction/calc_features.py:300: FutureWarning: The frame.append method is deprecated and will be removed from pandas in a future version. Use pandas.concat instead.\n",
      "  features_final = features_final.append(feat)\n",
      "/Applications/miniconda3/lib/python3.9/site-packages/tsfel/feature_extraction/calc_features.py:300: FutureWarning: The frame.append method is deprecated and will be removed from pandas in a future version. Use pandas.concat instead.\n",
      "  features_final = features_final.append(feat)\n",
      "/Applications/miniconda3/lib/python3.9/site-packages/tsfel/feature_extraction/calc_features.py:300: FutureWarning: The frame.append method is deprecated and will be removed from pandas in a future version. Use pandas.concat instead.\n",
      "  features_final = features_final.append(feat)\n",
      "/Applications/miniconda3/lib/python3.9/site-packages/tsfel/feature_extraction/calc_features.py:300: FutureWarning: The frame.append method is deprecated and will be removed from pandas in a future version. Use pandas.concat instead.\n",
      "  features_final = features_final.append(feat)\n",
      "/Applications/miniconda3/lib/python3.9/site-packages/tsfel/feature_extraction/calc_features.py:300: FutureWarning: The frame.append method is deprecated and will be removed from pandas in a future version. Use pandas.concat instead.\n",
      "  features_final = features_final.append(feat)\n",
      "/Applications/miniconda3/lib/python3.9/site-packages/tsfel/feature_extraction/calc_features.py:300: FutureWarning: The frame.append method is deprecated and will be removed from pandas in a future version. Use pandas.concat instead.\n",
      "  features_final = features_final.append(feat)\n",
      "/Applications/miniconda3/lib/python3.9/site-packages/tsfel/feature_extraction/calc_features.py:300: FutureWarning: The frame.append method is deprecated and will be removed from pandas in a future version. Use pandas.concat instead.\n",
      "  features_final = features_final.append(feat)\n",
      "/Applications/miniconda3/lib/python3.9/site-packages/tsfel/feature_extraction/calc_features.py:300: FutureWarning: The frame.append method is deprecated and will be removed from pandas in a future version. Use pandas.concat instead.\n",
      "  features_final = features_final.append(feat)\n",
      "/Applications/miniconda3/lib/python3.9/site-packages/tsfel/feature_extraction/calc_features.py:300: FutureWarning: The frame.append method is deprecated and will be removed from pandas in a future version. Use pandas.concat instead.\n",
      "  features_final = features_final.append(feat)\n",
      "/Applications/miniconda3/lib/python3.9/site-packages/tsfel/feature_extraction/calc_features.py:300: FutureWarning: The frame.append method is deprecated and will be removed from pandas in a future version. Use pandas.concat instead.\n",
      "  features_final = features_final.append(feat)\n",
      "/Applications/miniconda3/lib/python3.9/site-packages/tsfel/feature_extraction/calc_features.py:300: FutureWarning: The frame.append method is deprecated and will be removed from pandas in a future version. Use pandas.concat instead.\n",
      "  features_final = features_final.append(feat)\n",
      "/Applications/miniconda3/lib/python3.9/site-packages/tsfel/feature_extraction/calc_features.py:300: FutureWarning: The frame.append method is deprecated and will be removed from pandas in a future version. Use pandas.concat instead.\n",
      "  features_final = features_final.append(feat)\n",
      "/Applications/miniconda3/lib/python3.9/site-packages/tsfel/feature_extraction/calc_features.py:300: FutureWarning: The frame.append method is deprecated and will be removed from pandas in a future version. Use pandas.concat instead.\n",
      "  features_final = features_final.append(feat)\n",
      "/Applications/miniconda3/lib/python3.9/site-packages/tsfel/feature_extraction/calc_features.py:300: FutureWarning: The frame.append method is deprecated and will be removed from pandas in a future version. Use pandas.concat instead.\n",
      "  features_final = features_final.append(feat)\n",
      "/Applications/miniconda3/lib/python3.9/site-packages/tsfel/feature_extraction/calc_features.py:300: FutureWarning: The frame.append method is deprecated and will be removed from pandas in a future version. Use pandas.concat instead.\n",
      "  features_final = features_final.append(feat)\n",
      "/Applications/miniconda3/lib/python3.9/site-packages/tsfel/feature_extraction/calc_features.py:300: FutureWarning: The frame.append method is deprecated and will be removed from pandas in a future version. Use pandas.concat instead.\n",
      "  features_final = features_final.append(feat)\n",
      "/Applications/miniconda3/lib/python3.9/site-packages/tsfel/feature_extraction/calc_features.py:300: FutureWarning: The frame.append method is deprecated and will be removed from pandas in a future version. Use pandas.concat instead.\n",
      "  features_final = features_final.append(feat)\n",
      "/Applications/miniconda3/lib/python3.9/site-packages/tsfel/feature_extraction/calc_features.py:300: FutureWarning: The frame.append method is deprecated and will be removed from pandas in a future version. Use pandas.concat instead.\n",
      "  features_final = features_final.append(feat)\n",
      "/Applications/miniconda3/lib/python3.9/site-packages/tsfel/feature_extraction/calc_features.py:300: FutureWarning: The frame.append method is deprecated and will be removed from pandas in a future version. Use pandas.concat instead.\n",
      "  features_final = features_final.append(feat)\n",
      "/Applications/miniconda3/lib/python3.9/site-packages/tsfel/feature_extraction/calc_features.py:300: FutureWarning: The frame.append method is deprecated and will be removed from pandas in a future version. Use pandas.concat instead.\n",
      "  features_final = features_final.append(feat)\n",
      "/Applications/miniconda3/lib/python3.9/site-packages/tsfel/feature_extraction/calc_features.py:300: FutureWarning: The frame.append method is deprecated and will be removed from pandas in a future version. Use pandas.concat instead.\n",
      "  features_final = features_final.append(feat)\n",
      "/Applications/miniconda3/lib/python3.9/site-packages/tsfel/feature_extraction/calc_features.py:300: FutureWarning: The frame.append method is deprecated and will be removed from pandas in a future version. Use pandas.concat instead.\n",
      "  features_final = features_final.append(feat)\n",
      "/Applications/miniconda3/lib/python3.9/site-packages/tsfel/feature_extraction/calc_features.py:300: FutureWarning: The frame.append method is deprecated and will be removed from pandas in a future version. Use pandas.concat instead.\n",
      "  features_final = features_final.append(feat)\n",
      "/Applications/miniconda3/lib/python3.9/site-packages/tsfel/feature_extraction/calc_features.py:300: FutureWarning: The frame.append method is deprecated and will be removed from pandas in a future version. Use pandas.concat instead.\n",
      "  features_final = features_final.append(feat)\n",
      "/Applications/miniconda3/lib/python3.9/site-packages/tsfel/feature_extraction/calc_features.py:300: FutureWarning: The frame.append method is deprecated and will be removed from pandas in a future version. Use pandas.concat instead.\n",
      "  features_final = features_final.append(feat)\n",
      "/Applications/miniconda3/lib/python3.9/site-packages/tsfel/feature_extraction/calc_features.py:300: FutureWarning: The frame.append method is deprecated and will be removed from pandas in a future version. Use pandas.concat instead.\n",
      "  features_final = features_final.append(feat)\n",
      "/Applications/miniconda3/lib/python3.9/site-packages/tsfel/feature_extraction/calc_features.py:300: FutureWarning: The frame.append method is deprecated and will be removed from pandas in a future version. Use pandas.concat instead.\n",
      "  features_final = features_final.append(feat)\n",
      "/Applications/miniconda3/lib/python3.9/site-packages/tsfel/feature_extraction/calc_features.py:300: FutureWarning: The frame.append method is deprecated and will be removed from pandas in a future version. Use pandas.concat instead.\n",
      "  features_final = features_final.append(feat)\n",
      "/Applications/miniconda3/lib/python3.9/site-packages/tsfel/feature_extraction/calc_features.py:300: FutureWarning: The frame.append method is deprecated and will be removed from pandas in a future version. Use pandas.concat instead.\n",
      "  features_final = features_final.append(feat)\n",
      "/Applications/miniconda3/lib/python3.9/site-packages/tsfel/feature_extraction/calc_features.py:300: FutureWarning: The frame.append method is deprecated and will be removed from pandas in a future version. Use pandas.concat instead.\n",
      "  features_final = features_final.append(feat)\n",
      "/Applications/miniconda3/lib/python3.9/site-packages/tsfel/feature_extraction/calc_features.py:300: FutureWarning: The frame.append method is deprecated and will be removed from pandas in a future version. Use pandas.concat instead.\n",
      "  features_final = features_final.append(feat)\n",
      "/Applications/miniconda3/lib/python3.9/site-packages/tsfel/feature_extraction/calc_features.py:300: FutureWarning: The frame.append method is deprecated and will be removed from pandas in a future version. Use pandas.concat instead.\n",
      "  features_final = features_final.append(feat)\n",
      "/Applications/miniconda3/lib/python3.9/site-packages/tsfel/feature_extraction/calc_features.py:300: FutureWarning: The frame.append method is deprecated and will be removed from pandas in a future version. Use pandas.concat instead.\n",
      "  features_final = features_final.append(feat)\n",
      "/Applications/miniconda3/lib/python3.9/site-packages/tsfel/feature_extraction/calc_features.py:300: FutureWarning: The frame.append method is deprecated and will be removed from pandas in a future version. Use pandas.concat instead.\n",
      "  features_final = features_final.append(feat)\n",
      "/Applications/miniconda3/lib/python3.9/site-packages/tsfel/feature_extraction/calc_features.py:300: FutureWarning: The frame.append method is deprecated and will be removed from pandas in a future version. Use pandas.concat instead.\n",
      "  features_final = features_final.append(feat)\n",
      "/Applications/miniconda3/lib/python3.9/site-packages/tsfel/feature_extraction/calc_features.py:300: FutureWarning: The frame.append method is deprecated and will be removed from pandas in a future version. Use pandas.concat instead.\n",
      "  features_final = features_final.append(feat)\n",
      "/Applications/miniconda3/lib/python3.9/site-packages/tsfel/feature_extraction/calc_features.py:300: FutureWarning: The frame.append method is deprecated and will be removed from pandas in a future version. Use pandas.concat instead.\n",
      "  features_final = features_final.append(feat)\n",
      "/Applications/miniconda3/lib/python3.9/site-packages/tsfel/feature_extraction/calc_features.py:300: FutureWarning: The frame.append method is deprecated and will be removed from pandas in a future version. Use pandas.concat instead.\n",
      "  features_final = features_final.append(feat)\n",
      "/Applications/miniconda3/lib/python3.9/site-packages/tsfel/feature_extraction/calc_features.py:300: FutureWarning: The frame.append method is deprecated and will be removed from pandas in a future version. Use pandas.concat instead.\n",
      "  features_final = features_final.append(feat)\n",
      "/Applications/miniconda3/lib/python3.9/site-packages/tsfel/feature_extraction/calc_features.py:300: FutureWarning: The frame.append method is deprecated and will be removed from pandas in a future version. Use pandas.concat instead.\n",
      "  features_final = features_final.append(feat)\n",
      "/Applications/miniconda3/lib/python3.9/site-packages/tsfel/feature_extraction/calc_features.py:300: FutureWarning: The frame.append method is deprecated and will be removed from pandas in a future version. Use pandas.concat instead.\n",
      "  features_final = features_final.append(feat)\n",
      "/Applications/miniconda3/lib/python3.9/site-packages/tsfel/feature_extraction/calc_features.py:300: FutureWarning: The frame.append method is deprecated and will be removed from pandas in a future version. Use pandas.concat instead.\n",
      "  features_final = features_final.append(feat)\n",
      "/Applications/miniconda3/lib/python3.9/site-packages/tsfel/feature_extraction/calc_features.py:300: FutureWarning: The frame.append method is deprecated and will be removed from pandas in a future version. Use pandas.concat instead.\n",
      "  features_final = features_final.append(feat)\n",
      "/Applications/miniconda3/lib/python3.9/site-packages/tsfel/feature_extraction/calc_features.py:300: FutureWarning: The frame.append method is deprecated and will be removed from pandas in a future version. Use pandas.concat instead.\n",
      "  features_final = features_final.append(feat)\n",
      "/Applications/miniconda3/lib/python3.9/site-packages/tsfel/feature_extraction/calc_features.py:300: FutureWarning: The frame.append method is deprecated and will be removed from pandas in a future version. Use pandas.concat instead.\n",
      "  features_final = features_final.append(feat)\n",
      "/Applications/miniconda3/lib/python3.9/site-packages/tsfel/feature_extraction/calc_features.py:300: FutureWarning: The frame.append method is deprecated and will be removed from pandas in a future version. Use pandas.concat instead.\n",
      "  features_final = features_final.append(feat)\n",
      "/Applications/miniconda3/lib/python3.9/site-packages/tsfel/feature_extraction/calc_features.py:300: FutureWarning: The frame.append method is deprecated and will be removed from pandas in a future version. Use pandas.concat instead.\n",
      "  features_final = features_final.append(feat)\n",
      "/Applications/miniconda3/lib/python3.9/site-packages/tsfel/feature_extraction/calc_features.py:300: FutureWarning: The frame.append method is deprecated and will be removed from pandas in a future version. Use pandas.concat instead.\n",
      "  features_final = features_final.append(feat)\n",
      "/Applications/miniconda3/lib/python3.9/site-packages/tsfel/feature_extraction/calc_features.py:300: FutureWarning: The frame.append method is deprecated and will be removed from pandas in a future version. Use pandas.concat instead.\n",
      "  features_final = features_final.append(feat)\n",
      "/Applications/miniconda3/lib/python3.9/site-packages/tsfel/feature_extraction/calc_features.py:300: FutureWarning: The frame.append method is deprecated and will be removed from pandas in a future version. Use pandas.concat instead.\n",
      "  features_final = features_final.append(feat)\n",
      "/Applications/miniconda3/lib/python3.9/site-packages/tsfel/feature_extraction/calc_features.py:300: FutureWarning: The frame.append method is deprecated and will be removed from pandas in a future version. Use pandas.concat instead.\n",
      "  features_final = features_final.append(feat)\n",
      "/Applications/miniconda3/lib/python3.9/site-packages/tsfel/feature_extraction/calc_features.py:300: FutureWarning: The frame.append method is deprecated and will be removed from pandas in a future version. Use pandas.concat instead.\n",
      "  features_final = features_final.append(feat)\n",
      "/Applications/miniconda3/lib/python3.9/site-packages/tsfel/feature_extraction/calc_features.py:300: FutureWarning: The frame.append method is deprecated and will be removed from pandas in a future version. Use pandas.concat instead.\n",
      "  features_final = features_final.append(feat)\n",
      "/Applications/miniconda3/lib/python3.9/site-packages/tsfel/feature_extraction/calc_features.py:300: FutureWarning: The frame.append method is deprecated and will be removed from pandas in a future version. Use pandas.concat instead.\n",
      "  features_final = features_final.append(feat)\n",
      "/Applications/miniconda3/lib/python3.9/site-packages/tsfel/feature_extraction/calc_features.py:300: FutureWarning: The frame.append method is deprecated and will be removed from pandas in a future version. Use pandas.concat instead.\n",
      "  features_final = features_final.append(feat)\n",
      "/Applications/miniconda3/lib/python3.9/site-packages/tsfel/feature_extraction/calc_features.py:300: FutureWarning: The frame.append method is deprecated and will be removed from pandas in a future version. Use pandas.concat instead.\n",
      "  features_final = features_final.append(feat)\n",
      "/Applications/miniconda3/lib/python3.9/site-packages/tsfel/feature_extraction/calc_features.py:300: FutureWarning: The frame.append method is deprecated and will be removed from pandas in a future version. Use pandas.concat instead.\n",
      "  features_final = features_final.append(feat)\n",
      "/Applications/miniconda3/lib/python3.9/site-packages/tsfel/feature_extraction/calc_features.py:300: FutureWarning: The frame.append method is deprecated and will be removed from pandas in a future version. Use pandas.concat instead.\n",
      "  features_final = features_final.append(feat)\n",
      "/Applications/miniconda3/lib/python3.9/site-packages/tsfel/feature_extraction/calc_features.py:300: FutureWarning: The frame.append method is deprecated and will be removed from pandas in a future version. Use pandas.concat instead.\n",
      "  features_final = features_final.append(feat)\n",
      "/Applications/miniconda3/lib/python3.9/site-packages/tsfel/feature_extraction/calc_features.py:300: FutureWarning: The frame.append method is deprecated and will be removed from pandas in a future version. Use pandas.concat instead.\n",
      "  features_final = features_final.append(feat)\n",
      "/Applications/miniconda3/lib/python3.9/site-packages/tsfel/feature_extraction/calc_features.py:300: FutureWarning: The frame.append method is deprecated and will be removed from pandas in a future version. Use pandas.concat instead.\n",
      "  features_final = features_final.append(feat)\n",
      "/Applications/miniconda3/lib/python3.9/site-packages/tsfel/feature_extraction/calc_features.py:300: FutureWarning: The frame.append method is deprecated and will be removed from pandas in a future version. Use pandas.concat instead.\n",
      "  features_final = features_final.append(feat)\n",
      "/Applications/miniconda3/lib/python3.9/site-packages/tsfel/feature_extraction/calc_features.py:300: FutureWarning: The frame.append method is deprecated and will be removed from pandas in a future version. Use pandas.concat instead.\n",
      "  features_final = features_final.append(feat)\n",
      "/Applications/miniconda3/lib/python3.9/site-packages/tsfel/feature_extraction/calc_features.py:300: FutureWarning: The frame.append method is deprecated and will be removed from pandas in a future version. Use pandas.concat instead.\n",
      "  features_final = features_final.append(feat)\n",
      "/Applications/miniconda3/lib/python3.9/site-packages/tsfel/feature_extraction/calc_features.py:300: FutureWarning: The frame.append method is deprecated and will be removed from pandas in a future version. Use pandas.concat instead.\n",
      "  features_final = features_final.append(feat)\n",
      "/Applications/miniconda3/lib/python3.9/site-packages/tsfel/feature_extraction/calc_features.py:300: FutureWarning: The frame.append method is deprecated and will be removed from pandas in a future version. Use pandas.concat instead.\n",
      "  features_final = features_final.append(feat)\n",
      "/Applications/miniconda3/lib/python3.9/site-packages/tsfel/feature_extraction/calc_features.py:300: FutureWarning: The frame.append method is deprecated and will be removed from pandas in a future version. Use pandas.concat instead.\n",
      "  features_final = features_final.append(feat)\n",
      "/Applications/miniconda3/lib/python3.9/site-packages/tsfel/feature_extraction/calc_features.py:300: FutureWarning: The frame.append method is deprecated and will be removed from pandas in a future version. Use pandas.concat instead.\n",
      "  features_final = features_final.append(feat)\n",
      "/Applications/miniconda3/lib/python3.9/site-packages/tsfel/feature_extraction/calc_features.py:300: FutureWarning: The frame.append method is deprecated and will be removed from pandas in a future version. Use pandas.concat instead.\n",
      "  features_final = features_final.append(feat)\n",
      "/Applications/miniconda3/lib/python3.9/site-packages/tsfel/feature_extraction/calc_features.py:300: FutureWarning: The frame.append method is deprecated and will be removed from pandas in a future version. Use pandas.concat instead.\n",
      "  features_final = features_final.append(feat)\n",
      "/Applications/miniconda3/lib/python3.9/site-packages/tsfel/feature_extraction/calc_features.py:300: FutureWarning: The frame.append method is deprecated and will be removed from pandas in a future version. Use pandas.concat instead.\n",
      "  features_final = features_final.append(feat)\n",
      "/Applications/miniconda3/lib/python3.9/site-packages/tsfel/feature_extraction/calc_features.py:300: FutureWarning: The frame.append method is deprecated and will be removed from pandas in a future version. Use pandas.concat instead.\n",
      "  features_final = features_final.append(feat)\n",
      "/Applications/miniconda3/lib/python3.9/site-packages/tsfel/feature_extraction/calc_features.py:300: FutureWarning: The frame.append method is deprecated and will be removed from pandas in a future version. Use pandas.concat instead.\n",
      "  features_final = features_final.append(feat)\n",
      "/Applications/miniconda3/lib/python3.9/site-packages/tsfel/feature_extraction/calc_features.py:300: FutureWarning: The frame.append method is deprecated and will be removed from pandas in a future version. Use pandas.concat instead.\n",
      "  features_final = features_final.append(feat)\n",
      "/Applications/miniconda3/lib/python3.9/site-packages/tsfel/feature_extraction/calc_features.py:300: FutureWarning: The frame.append method is deprecated and will be removed from pandas in a future version. Use pandas.concat instead.\n",
      "  features_final = features_final.append(feat)\n",
      "/Applications/miniconda3/lib/python3.9/site-packages/tsfel/feature_extraction/calc_features.py:300: FutureWarning: The frame.append method is deprecated and will be removed from pandas in a future version. Use pandas.concat instead.\n",
      "  features_final = features_final.append(feat)\n",
      "/Applications/miniconda3/lib/python3.9/site-packages/tsfel/feature_extraction/calc_features.py:300: FutureWarning: The frame.append method is deprecated and will be removed from pandas in a future version. Use pandas.concat instead.\n",
      "  features_final = features_final.append(feat)\n",
      "/Applications/miniconda3/lib/python3.9/site-packages/tsfel/feature_extraction/calc_features.py:300: FutureWarning: The frame.append method is deprecated and will be removed from pandas in a future version. Use pandas.concat instead.\n",
      "  features_final = features_final.append(feat)\n"
     ]
    },
    {
     "name": "stdout",
     "output_type": "stream",
     "text": [
      "\n",
      "*** Feature extraction finished ***\n"
     ]
    }
   ],
   "source": [
    "X_test_features = tsfel.time_series_features_extractor(cfg_file, X_test, fs=44100)"
   ]
  },
  {
   "cell_type": "code",
   "execution_count": 8,
   "metadata": {},
   "outputs": [
    {
     "data": {
      "text/plain": "    0_Absolute energy  0_Area under the curve  0_Autocorrelation  0_Centroid  \\\n0           42.551850                0.015667          42.551850    1.190613   \n1           12.248126                0.008116          12.248126    1.118531   \n2           13.864042                0.006833          13.864042    0.857482   \n3           16.050681                0.008139          16.050681    0.975166   \n4           14.865460                0.008993          14.865460    0.886128   \n..                ...                     ...                ...         ...   \n85          11.721981                0.007158          11.721981    1.466017   \n86           8.842346                0.006237           8.842346    1.259859   \n87          16.797407                0.008267          16.797407    0.967086   \n88          16.750643                0.007893          16.750643    0.973906   \n89          19.294665                0.008987          19.294665    1.108487   \n\n    0_ECDF Percentile Count_0  0_ECDF Percentile Count_1  0_ECDF Percentile_0  \\\n0                     17640.0                    70560.0            -0.000610   \n1                     17640.0                    70560.0            -0.000549   \n2                     17640.0                    70560.0            -0.000519   \n3                     17640.0                    70560.0            -0.000458   \n4                     17640.0                    70560.0            -0.000610   \n..                        ...                        ...                  ...   \n85                    17640.0                    70560.0            -0.000549   \n86                    17640.0                    70560.0            -0.000458   \n87                    17640.0                    70560.0            -0.000488   \n88                    17640.0                    70560.0            -0.000580   \n89                    17640.0                    70560.0            -0.000427   \n\n    0_ECDF Percentile_1  0_ECDF_0  0_ECDF_1  ...  0_Wavelet variance_0  \\\n0              0.000549  0.000011  0.000023  ...          3.645341e-05   \n1              0.000519  0.000011  0.000023  ...          5.506616e-07   \n2              0.000519  0.000011  0.000023  ...          1.036094e-06   \n3              0.000427  0.000011  0.000023  ...          4.672227e-06   \n4              0.000610  0.000011  0.000023  ...          4.675578e-05   \n..                  ...       ...       ...  ...                   ...   \n85             0.000488  0.000011  0.000023  ...          3.641742e-07   \n86             0.000427  0.000011  0.000023  ...          3.487397e-07   \n87             0.000458  0.000011  0.000023  ...          3.121497e-07   \n88             0.000549  0.000011  0.000023  ...          1.605718e-06   \n89             0.000397  0.000011  0.000023  ...          2.675696e-06   \n\n    0_Wavelet variance_1  0_Wavelet variance_2  0_Wavelet variance_3  \\\n0               0.000157              0.000113              0.000148   \n1               0.000010              0.000047              0.000124   \n2               0.000011              0.000035              0.000087   \n3               0.000038              0.000048              0.000040   \n4               0.000274              0.000172              0.000082   \n..                   ...                   ...                   ...   \n85              0.000006              0.000024              0.000064   \n86              0.000005              0.000019              0.000048   \n87              0.000004              0.000017              0.000050   \n88              0.000020              0.000060              0.000107   \n89              0.000021              0.000049              0.000092   \n\n    0_Wavelet variance_4  0_Wavelet variance_5  0_Wavelet variance_6  \\\n0               0.000237              0.000338              0.000457   \n1               0.000241              0.000382              0.000531   \n2               0.000182              0.000330              0.000536   \n3               0.000052              0.000079              0.000117   \n4               0.000117              0.000190              0.000282   \n..                   ...                   ...                   ...   \n85              0.000141              0.000266              0.000444   \n86              0.000097              0.000172              0.000274   \n87              0.000115              0.000221              0.000372   \n88              0.000164              0.000247              0.000370   \n89              0.000135              0.000162              0.000181   \n\n    0_Wavelet variance_7  0_Wavelet variance_8  0_Zero crossing rate  \n0               0.000626              0.000888                9199.0  \n1               0.000688              0.000866                8452.0  \n2               0.000804              0.001129                9665.0  \n3               0.000174              0.000262                9993.0  \n4               0.000399              0.000548                8163.0  \n..                   ...                   ...                   ...  \n85              0.000671              0.000940                7970.0  \n86              0.000404              0.000562                9198.0  \n87              0.000570              0.000816                8400.0  \n88              0.000547              0.000791                8677.0  \n89              0.000213              0.000281               10696.0  \n\n[90 rows x 390 columns]",
      "text/html": "<div>\n<style scoped>\n    .dataframe tbody tr th:only-of-type {\n        vertical-align: middle;\n    }\n\n    .dataframe tbody tr th {\n        vertical-align: top;\n    }\n\n    .dataframe thead th {\n        text-align: right;\n    }\n</style>\n<table border=\"1\" class=\"dataframe\">\n  <thead>\n    <tr style=\"text-align: right;\">\n      <th></th>\n      <th>0_Absolute energy</th>\n      <th>0_Area under the curve</th>\n      <th>0_Autocorrelation</th>\n      <th>0_Centroid</th>\n      <th>0_ECDF Percentile Count_0</th>\n      <th>0_ECDF Percentile Count_1</th>\n      <th>0_ECDF Percentile_0</th>\n      <th>0_ECDF Percentile_1</th>\n      <th>0_ECDF_0</th>\n      <th>0_ECDF_1</th>\n      <th>...</th>\n      <th>0_Wavelet variance_0</th>\n      <th>0_Wavelet variance_1</th>\n      <th>0_Wavelet variance_2</th>\n      <th>0_Wavelet variance_3</th>\n      <th>0_Wavelet variance_4</th>\n      <th>0_Wavelet variance_5</th>\n      <th>0_Wavelet variance_6</th>\n      <th>0_Wavelet variance_7</th>\n      <th>0_Wavelet variance_8</th>\n      <th>0_Zero crossing rate</th>\n    </tr>\n  </thead>\n  <tbody>\n    <tr>\n      <th>0</th>\n      <td>42.551850</td>\n      <td>0.015667</td>\n      <td>42.551850</td>\n      <td>1.190613</td>\n      <td>17640.0</td>\n      <td>70560.0</td>\n      <td>-0.000610</td>\n      <td>0.000549</td>\n      <td>0.000011</td>\n      <td>0.000023</td>\n      <td>...</td>\n      <td>3.645341e-05</td>\n      <td>0.000157</td>\n      <td>0.000113</td>\n      <td>0.000148</td>\n      <td>0.000237</td>\n      <td>0.000338</td>\n      <td>0.000457</td>\n      <td>0.000626</td>\n      <td>0.000888</td>\n      <td>9199.0</td>\n    </tr>\n    <tr>\n      <th>1</th>\n      <td>12.248126</td>\n      <td>0.008116</td>\n      <td>12.248126</td>\n      <td>1.118531</td>\n      <td>17640.0</td>\n      <td>70560.0</td>\n      <td>-0.000549</td>\n      <td>0.000519</td>\n      <td>0.000011</td>\n      <td>0.000023</td>\n      <td>...</td>\n      <td>5.506616e-07</td>\n      <td>0.000010</td>\n      <td>0.000047</td>\n      <td>0.000124</td>\n      <td>0.000241</td>\n      <td>0.000382</td>\n      <td>0.000531</td>\n      <td>0.000688</td>\n      <td>0.000866</td>\n      <td>8452.0</td>\n    </tr>\n    <tr>\n      <th>2</th>\n      <td>13.864042</td>\n      <td>0.006833</td>\n      <td>13.864042</td>\n      <td>0.857482</td>\n      <td>17640.0</td>\n      <td>70560.0</td>\n      <td>-0.000519</td>\n      <td>0.000519</td>\n      <td>0.000011</td>\n      <td>0.000023</td>\n      <td>...</td>\n      <td>1.036094e-06</td>\n      <td>0.000011</td>\n      <td>0.000035</td>\n      <td>0.000087</td>\n      <td>0.000182</td>\n      <td>0.000330</td>\n      <td>0.000536</td>\n      <td>0.000804</td>\n      <td>0.001129</td>\n      <td>9665.0</td>\n    </tr>\n    <tr>\n      <th>3</th>\n      <td>16.050681</td>\n      <td>0.008139</td>\n      <td>16.050681</td>\n      <td>0.975166</td>\n      <td>17640.0</td>\n      <td>70560.0</td>\n      <td>-0.000458</td>\n      <td>0.000427</td>\n      <td>0.000011</td>\n      <td>0.000023</td>\n      <td>...</td>\n      <td>4.672227e-06</td>\n      <td>0.000038</td>\n      <td>0.000048</td>\n      <td>0.000040</td>\n      <td>0.000052</td>\n      <td>0.000079</td>\n      <td>0.000117</td>\n      <td>0.000174</td>\n      <td>0.000262</td>\n      <td>9993.0</td>\n    </tr>\n    <tr>\n      <th>4</th>\n      <td>14.865460</td>\n      <td>0.008993</td>\n      <td>14.865460</td>\n      <td>0.886128</td>\n      <td>17640.0</td>\n      <td>70560.0</td>\n      <td>-0.000610</td>\n      <td>0.000610</td>\n      <td>0.000011</td>\n      <td>0.000023</td>\n      <td>...</td>\n      <td>4.675578e-05</td>\n      <td>0.000274</td>\n      <td>0.000172</td>\n      <td>0.000082</td>\n      <td>0.000117</td>\n      <td>0.000190</td>\n      <td>0.000282</td>\n      <td>0.000399</td>\n      <td>0.000548</td>\n      <td>8163.0</td>\n    </tr>\n    <tr>\n      <th>...</th>\n      <td>...</td>\n      <td>...</td>\n      <td>...</td>\n      <td>...</td>\n      <td>...</td>\n      <td>...</td>\n      <td>...</td>\n      <td>...</td>\n      <td>...</td>\n      <td>...</td>\n      <td>...</td>\n      <td>...</td>\n      <td>...</td>\n      <td>...</td>\n      <td>...</td>\n      <td>...</td>\n      <td>...</td>\n      <td>...</td>\n      <td>...</td>\n      <td>...</td>\n      <td>...</td>\n    </tr>\n    <tr>\n      <th>85</th>\n      <td>11.721981</td>\n      <td>0.007158</td>\n      <td>11.721981</td>\n      <td>1.466017</td>\n      <td>17640.0</td>\n      <td>70560.0</td>\n      <td>-0.000549</td>\n      <td>0.000488</td>\n      <td>0.000011</td>\n      <td>0.000023</td>\n      <td>...</td>\n      <td>3.641742e-07</td>\n      <td>0.000006</td>\n      <td>0.000024</td>\n      <td>0.000064</td>\n      <td>0.000141</td>\n      <td>0.000266</td>\n      <td>0.000444</td>\n      <td>0.000671</td>\n      <td>0.000940</td>\n      <td>7970.0</td>\n    </tr>\n    <tr>\n      <th>86</th>\n      <td>8.842346</td>\n      <td>0.006237</td>\n      <td>8.842346</td>\n      <td>1.259859</td>\n      <td>17640.0</td>\n      <td>70560.0</td>\n      <td>-0.000458</td>\n      <td>0.000427</td>\n      <td>0.000011</td>\n      <td>0.000023</td>\n      <td>...</td>\n      <td>3.487397e-07</td>\n      <td>0.000005</td>\n      <td>0.000019</td>\n      <td>0.000048</td>\n      <td>0.000097</td>\n      <td>0.000172</td>\n      <td>0.000274</td>\n      <td>0.000404</td>\n      <td>0.000562</td>\n      <td>9198.0</td>\n    </tr>\n    <tr>\n      <th>87</th>\n      <td>16.797407</td>\n      <td>0.008267</td>\n      <td>16.797407</td>\n      <td>0.967086</td>\n      <td>17640.0</td>\n      <td>70560.0</td>\n      <td>-0.000488</td>\n      <td>0.000458</td>\n      <td>0.000011</td>\n      <td>0.000023</td>\n      <td>...</td>\n      <td>3.121497e-07</td>\n      <td>0.000004</td>\n      <td>0.000017</td>\n      <td>0.000050</td>\n      <td>0.000115</td>\n      <td>0.000221</td>\n      <td>0.000372</td>\n      <td>0.000570</td>\n      <td>0.000816</td>\n      <td>8400.0</td>\n    </tr>\n    <tr>\n      <th>88</th>\n      <td>16.750643</td>\n      <td>0.007893</td>\n      <td>16.750643</td>\n      <td>0.973906</td>\n      <td>17640.0</td>\n      <td>70560.0</td>\n      <td>-0.000580</td>\n      <td>0.000549</td>\n      <td>0.000011</td>\n      <td>0.000023</td>\n      <td>...</td>\n      <td>1.605718e-06</td>\n      <td>0.000020</td>\n      <td>0.000060</td>\n      <td>0.000107</td>\n      <td>0.000164</td>\n      <td>0.000247</td>\n      <td>0.000370</td>\n      <td>0.000547</td>\n      <td>0.000791</td>\n      <td>8677.0</td>\n    </tr>\n    <tr>\n      <th>89</th>\n      <td>19.294665</td>\n      <td>0.008987</td>\n      <td>19.294665</td>\n      <td>1.108487</td>\n      <td>17640.0</td>\n      <td>70560.0</td>\n      <td>-0.000427</td>\n      <td>0.000397</td>\n      <td>0.000011</td>\n      <td>0.000023</td>\n      <td>...</td>\n      <td>2.675696e-06</td>\n      <td>0.000021</td>\n      <td>0.000049</td>\n      <td>0.000092</td>\n      <td>0.000135</td>\n      <td>0.000162</td>\n      <td>0.000181</td>\n      <td>0.000213</td>\n      <td>0.000281</td>\n      <td>10696.0</td>\n    </tr>\n  </tbody>\n</table>\n<p>90 rows × 390 columns</p>\n</div>"
     },
     "execution_count": 8,
     "metadata": {},
     "output_type": "execute_result"
    }
   ],
   "source": [
    "X_test_features"
   ]
  },
  {
   "cell_type": "markdown",
   "metadata": {},
   "source": [
    "__390 features extracted from the test set, (30% of 300 gives 90 samples)__"
   ]
  },
  {
   "cell_type": "markdown",
   "metadata": {},
   "source": [
    "### Delete features with correlation greater than 0.95 on the training set from both sets"
   ]
  },
  {
   "cell_type": "code",
   "execution_count": 10,
   "metadata": {},
   "outputs": [],
   "source": [
    "features_corr = tsfel.correlated_features(X_train_features)\n",
    "X_train_features.drop(features_corr, axis=1, inplace =True)\n",
    "X_test_features.drop(features_corr, axis=1, inplace =True)"
   ]
  },
  {
   "cell_type": "code",
   "execution_count": 10,
   "metadata": {},
   "outputs": [
    {
     "data": {
      "text/plain": "     0_Absolute energy  0_Centroid  0_ECDF Percentile Count_0  \\\n0            11.125425    1.002136                    17640.0   \n1            10.628953    1.138100                    17640.0   \n2            47.022009    1.114565                    17640.0   \n3            31.690032    1.026847                    17640.0   \n4            11.550357    1.002787                    17640.0   \n..                 ...         ...                        ...   \n205          13.334156    0.939186                    17640.0   \n206          12.488078    0.863934                    17640.0   \n207          16.179345    1.239068                    17640.0   \n208          31.329089    1.034514                    17640.0   \n209          12.786580    1.016442                    17640.0   \n\n     0_ECDF Percentile Count_1  0_ECDF Percentile_0  0_ECDF Percentile_1  \\\n0                      70560.0            -0.000732             0.000702   \n1                      70560.0            -0.000610             0.000610   \n2                      70560.0            -0.000549             0.000519   \n3                      70560.0            -0.000488             0.000488   \n4                      70560.0            -0.000488             0.000458   \n..                         ...                  ...                  ...   \n205                    70560.0            -0.000580             0.000549   \n206                    70560.0            -0.000580             0.000580   \n207                    70560.0            -0.000519             0.000519   \n208                    70560.0            -0.000519             0.000458   \n209                    70560.0            -0.000519             0.000488   \n\n     0_ECDF_0  0_ECDF_1  0_ECDF_2  0_ECDF_3  ...  0_Spectral roll-on  \\\n0    0.000011  0.000023  0.000034  0.000045  ...          170.003855   \n1    0.000011  0.000023  0.000034  0.000045  ...          187.504252   \n2    0.000011  0.000023  0.000034  0.000045  ...          228.005170   \n3    0.000011  0.000023  0.000034  0.000045  ...          219.504977   \n4    0.000011  0.000023  0.000034  0.000045  ...          184.004172   \n..        ...       ...       ...       ...  ...                 ...   \n205  0.000011  0.000023  0.000034  0.000045  ...          168.003810   \n206  0.000011  0.000023  0.000034  0.000045  ...          161.003651   \n207  0.000011  0.000023  0.000034  0.000045  ...          170.503866   \n208  0.000011  0.000023  0.000034  0.000045  ...          207.504705   \n209  0.000011  0.000023  0.000034  0.000045  ...          138.503141   \n\n     0_Spectral spread  0_Spectral variation  0_Wavelet absolute mean_0  \\\n0          2645.113755              0.008881               7.141988e-09   \n1          2468.977770              0.015090               4.140823e-09   \n2          2374.058396              0.015922               3.038233e-09   \n3          2434.894789              0.010578               3.158758e-09   \n4          1938.417540              0.003905               3.399073e-09   \n..                 ...                   ...                        ...   \n205        2447.464472              0.006099               2.163104e-09   \n206        2447.557451              0.004647               2.670655e-09   \n207        1935.061621              0.002958               1.995113e-09   \n208        1862.596132              0.003173               4.332050e-09   \n209        1555.422973              0.006897               3.827238e-09   \n\n     0_Wavelet absolute mean_1  0_Wavelet energy_2  0_Wavelet energy_3  \\\n0                 1.494890e-08            0.007085            0.006378   \n1                 9.599369e-09            0.010711            0.006798   \n2                 7.761208e-09            0.013368            0.016458   \n3                 7.901086e-09            0.011910            0.010760   \n4                 9.000890e-09            0.006152            0.009442   \n..                         ...                 ...                 ...   \n205               5.293341e-09            0.008102            0.008453   \n206               7.570530e-09            0.008434            0.008738   \n207               8.788192e-09            0.005329            0.008135   \n208               1.695089e-08            0.013191            0.020189   \n209               1.134298e-08            0.003114            0.005402   \n\n     0_Wavelet energy_4  0_Wavelet entropy  0_Zero crossing rate  \n0              0.006966           2.164504               11952.0  \n1              0.006650           2.163886                9289.0  \n2              0.020478           2.083956                9873.0  \n3              0.013172           2.091685                9744.0  \n4              0.013359           2.020449               10737.0  \n..                  ...                ...                   ...  \n205            0.009356           2.149912               10286.0  \n206            0.009326           2.144293               10835.0  \n207            0.011851           1.989164                9315.0  \n208            0.025825           2.061039                9417.0  \n209            0.008226           1.904187                7617.0  \n\n[210 rows x 299 columns]",
      "text/html": "<div>\n<style scoped>\n    .dataframe tbody tr th:only-of-type {\n        vertical-align: middle;\n    }\n\n    .dataframe tbody tr th {\n        vertical-align: top;\n    }\n\n    .dataframe thead th {\n        text-align: right;\n    }\n</style>\n<table border=\"1\" class=\"dataframe\">\n  <thead>\n    <tr style=\"text-align: right;\">\n      <th></th>\n      <th>0_Absolute energy</th>\n      <th>0_Centroid</th>\n      <th>0_ECDF Percentile Count_0</th>\n      <th>0_ECDF Percentile Count_1</th>\n      <th>0_ECDF Percentile_0</th>\n      <th>0_ECDF Percentile_1</th>\n      <th>0_ECDF_0</th>\n      <th>0_ECDF_1</th>\n      <th>0_ECDF_2</th>\n      <th>0_ECDF_3</th>\n      <th>...</th>\n      <th>0_Spectral roll-on</th>\n      <th>0_Spectral spread</th>\n      <th>0_Spectral variation</th>\n      <th>0_Wavelet absolute mean_0</th>\n      <th>0_Wavelet absolute mean_1</th>\n      <th>0_Wavelet energy_2</th>\n      <th>0_Wavelet energy_3</th>\n      <th>0_Wavelet energy_4</th>\n      <th>0_Wavelet entropy</th>\n      <th>0_Zero crossing rate</th>\n    </tr>\n  </thead>\n  <tbody>\n    <tr>\n      <th>0</th>\n      <td>11.125425</td>\n      <td>1.002136</td>\n      <td>17640.0</td>\n      <td>70560.0</td>\n      <td>-0.000732</td>\n      <td>0.000702</td>\n      <td>0.000011</td>\n      <td>0.000023</td>\n      <td>0.000034</td>\n      <td>0.000045</td>\n      <td>...</td>\n      <td>170.003855</td>\n      <td>2645.113755</td>\n      <td>0.008881</td>\n      <td>7.141988e-09</td>\n      <td>1.494890e-08</td>\n      <td>0.007085</td>\n      <td>0.006378</td>\n      <td>0.006966</td>\n      <td>2.164504</td>\n      <td>11952.0</td>\n    </tr>\n    <tr>\n      <th>1</th>\n      <td>10.628953</td>\n      <td>1.138100</td>\n      <td>17640.0</td>\n      <td>70560.0</td>\n      <td>-0.000610</td>\n      <td>0.000610</td>\n      <td>0.000011</td>\n      <td>0.000023</td>\n      <td>0.000034</td>\n      <td>0.000045</td>\n      <td>...</td>\n      <td>187.504252</td>\n      <td>2468.977770</td>\n      <td>0.015090</td>\n      <td>4.140823e-09</td>\n      <td>9.599369e-09</td>\n      <td>0.010711</td>\n      <td>0.006798</td>\n      <td>0.006650</td>\n      <td>2.163886</td>\n      <td>9289.0</td>\n    </tr>\n    <tr>\n      <th>2</th>\n      <td>47.022009</td>\n      <td>1.114565</td>\n      <td>17640.0</td>\n      <td>70560.0</td>\n      <td>-0.000549</td>\n      <td>0.000519</td>\n      <td>0.000011</td>\n      <td>0.000023</td>\n      <td>0.000034</td>\n      <td>0.000045</td>\n      <td>...</td>\n      <td>228.005170</td>\n      <td>2374.058396</td>\n      <td>0.015922</td>\n      <td>3.038233e-09</td>\n      <td>7.761208e-09</td>\n      <td>0.013368</td>\n      <td>0.016458</td>\n      <td>0.020478</td>\n      <td>2.083956</td>\n      <td>9873.0</td>\n    </tr>\n    <tr>\n      <th>3</th>\n      <td>31.690032</td>\n      <td>1.026847</td>\n      <td>17640.0</td>\n      <td>70560.0</td>\n      <td>-0.000488</td>\n      <td>0.000488</td>\n      <td>0.000011</td>\n      <td>0.000023</td>\n      <td>0.000034</td>\n      <td>0.000045</td>\n      <td>...</td>\n      <td>219.504977</td>\n      <td>2434.894789</td>\n      <td>0.010578</td>\n      <td>3.158758e-09</td>\n      <td>7.901086e-09</td>\n      <td>0.011910</td>\n      <td>0.010760</td>\n      <td>0.013172</td>\n      <td>2.091685</td>\n      <td>9744.0</td>\n    </tr>\n    <tr>\n      <th>4</th>\n      <td>11.550357</td>\n      <td>1.002787</td>\n      <td>17640.0</td>\n      <td>70560.0</td>\n      <td>-0.000488</td>\n      <td>0.000458</td>\n      <td>0.000011</td>\n      <td>0.000023</td>\n      <td>0.000034</td>\n      <td>0.000045</td>\n      <td>...</td>\n      <td>184.004172</td>\n      <td>1938.417540</td>\n      <td>0.003905</td>\n      <td>3.399073e-09</td>\n      <td>9.000890e-09</td>\n      <td>0.006152</td>\n      <td>0.009442</td>\n      <td>0.013359</td>\n      <td>2.020449</td>\n      <td>10737.0</td>\n    </tr>\n    <tr>\n      <th>...</th>\n      <td>...</td>\n      <td>...</td>\n      <td>...</td>\n      <td>...</td>\n      <td>...</td>\n      <td>...</td>\n      <td>...</td>\n      <td>...</td>\n      <td>...</td>\n      <td>...</td>\n      <td>...</td>\n      <td>...</td>\n      <td>...</td>\n      <td>...</td>\n      <td>...</td>\n      <td>...</td>\n      <td>...</td>\n      <td>...</td>\n      <td>...</td>\n      <td>...</td>\n      <td>...</td>\n    </tr>\n    <tr>\n      <th>205</th>\n      <td>13.334156</td>\n      <td>0.939186</td>\n      <td>17640.0</td>\n      <td>70560.0</td>\n      <td>-0.000580</td>\n      <td>0.000549</td>\n      <td>0.000011</td>\n      <td>0.000023</td>\n      <td>0.000034</td>\n      <td>0.000045</td>\n      <td>...</td>\n      <td>168.003810</td>\n      <td>2447.464472</td>\n      <td>0.006099</td>\n      <td>2.163104e-09</td>\n      <td>5.293341e-09</td>\n      <td>0.008102</td>\n      <td>0.008453</td>\n      <td>0.009356</td>\n      <td>2.149912</td>\n      <td>10286.0</td>\n    </tr>\n    <tr>\n      <th>206</th>\n      <td>12.488078</td>\n      <td>0.863934</td>\n      <td>17640.0</td>\n      <td>70560.0</td>\n      <td>-0.000580</td>\n      <td>0.000580</td>\n      <td>0.000011</td>\n      <td>0.000023</td>\n      <td>0.000034</td>\n      <td>0.000045</td>\n      <td>...</td>\n      <td>161.003651</td>\n      <td>2447.557451</td>\n      <td>0.004647</td>\n      <td>2.670655e-09</td>\n      <td>7.570530e-09</td>\n      <td>0.008434</td>\n      <td>0.008738</td>\n      <td>0.009326</td>\n      <td>2.144293</td>\n      <td>10835.0</td>\n    </tr>\n    <tr>\n      <th>207</th>\n      <td>16.179345</td>\n      <td>1.239068</td>\n      <td>17640.0</td>\n      <td>70560.0</td>\n      <td>-0.000519</td>\n      <td>0.000519</td>\n      <td>0.000011</td>\n      <td>0.000023</td>\n      <td>0.000034</td>\n      <td>0.000045</td>\n      <td>...</td>\n      <td>170.503866</td>\n      <td>1935.061621</td>\n      <td>0.002958</td>\n      <td>1.995113e-09</td>\n      <td>8.788192e-09</td>\n      <td>0.005329</td>\n      <td>0.008135</td>\n      <td>0.011851</td>\n      <td>1.989164</td>\n      <td>9315.0</td>\n    </tr>\n    <tr>\n      <th>208</th>\n      <td>31.329089</td>\n      <td>1.034514</td>\n      <td>17640.0</td>\n      <td>70560.0</td>\n      <td>-0.000519</td>\n      <td>0.000458</td>\n      <td>0.000011</td>\n      <td>0.000023</td>\n      <td>0.000034</td>\n      <td>0.000045</td>\n      <td>...</td>\n      <td>207.504705</td>\n      <td>1862.596132</td>\n      <td>0.003173</td>\n      <td>4.332050e-09</td>\n      <td>1.695089e-08</td>\n      <td>0.013191</td>\n      <td>0.020189</td>\n      <td>0.025825</td>\n      <td>2.061039</td>\n      <td>9417.0</td>\n    </tr>\n    <tr>\n      <th>209</th>\n      <td>12.786580</td>\n      <td>1.016442</td>\n      <td>17640.0</td>\n      <td>70560.0</td>\n      <td>-0.000519</td>\n      <td>0.000488</td>\n      <td>0.000011</td>\n      <td>0.000023</td>\n      <td>0.000034</td>\n      <td>0.000045</td>\n      <td>...</td>\n      <td>138.503141</td>\n      <td>1555.422973</td>\n      <td>0.006897</td>\n      <td>3.827238e-09</td>\n      <td>1.134298e-08</td>\n      <td>0.003114</td>\n      <td>0.005402</td>\n      <td>0.008226</td>\n      <td>1.904187</td>\n      <td>7617.0</td>\n    </tr>\n  </tbody>\n</table>\n<p>210 rows × 299 columns</p>\n</div>"
     },
     "execution_count": 10,
     "metadata": {},
     "output_type": "execute_result"
    }
   ],
   "source": [
    "X_train_features"
   ]
  },
  {
   "cell_type": "code",
   "execution_count": 11,
   "metadata": {},
   "outputs": [
    {
     "data": {
      "text/plain": "    0_Absolute energy  0_Centroid  0_ECDF Percentile Count_0  \\\n0           42.551850    1.190613                    17640.0   \n1           12.248126    1.118531                    17640.0   \n2           13.864042    0.857482                    17640.0   \n3           16.050681    0.975166                    17640.0   \n4           14.865460    0.886128                    17640.0   \n..                ...         ...                        ...   \n85          11.721981    1.466017                    17640.0   \n86           8.842346    1.259859                    17640.0   \n87          16.797407    0.967086                    17640.0   \n88          16.750643    0.973906                    17640.0   \n89          19.294665    1.108487                    17640.0   \n\n    0_ECDF Percentile Count_1  0_ECDF Percentile_0  0_ECDF Percentile_1  \\\n0                     70560.0            -0.000610             0.000549   \n1                     70560.0            -0.000549             0.000519   \n2                     70560.0            -0.000519             0.000519   \n3                     70560.0            -0.000458             0.000427   \n4                     70560.0            -0.000610             0.000610   \n..                        ...                  ...                  ...   \n85                    70560.0            -0.000549             0.000488   \n86                    70560.0            -0.000458             0.000427   \n87                    70560.0            -0.000488             0.000458   \n88                    70560.0            -0.000580             0.000549   \n89                    70560.0            -0.000427             0.000397   \n\n    0_ECDF_0  0_ECDF_1  0_ECDF_2  0_ECDF_3  ...  0_Spectral roll-on  \\\n0   0.000011  0.000023  0.000034  0.000045  ...          223.005057   \n1   0.000011  0.000023  0.000034  0.000045  ...          143.003243   \n2   0.000011  0.000023  0.000034  0.000045  ...          167.503798   \n3   0.000011  0.000023  0.000034  0.000045  ...          144.503277   \n4   0.000011  0.000023  0.000034  0.000045  ...          221.505023   \n..       ...       ...       ...       ...  ...                 ...   \n85  0.000011  0.000023  0.000034  0.000045  ...          142.003220   \n86  0.000011  0.000023  0.000034  0.000045  ...          141.503209   \n87  0.000011  0.000023  0.000034  0.000045  ...          144.503277   \n88  0.000011  0.000023  0.000034  0.000045  ...          172.503912   \n89  0.000011  0.000023  0.000034  0.000045  ...          176.504002   \n\n    0_Spectral spread  0_Spectral variation  0_Wavelet absolute mean_0  \\\n0         2546.407953              0.015409               1.678364e-08   \n1         1508.846150              0.006482               2.313018e-09   \n2         1767.162356              0.004106               2.614364e-09   \n3         2315.670121              0.004097               9.230499e-09   \n4         2478.586597              0.006844               7.117739e-09   \n..                ...                   ...                        ...   \n85        1557.972830              0.004616               3.817931e-09   \n86        1666.588040              0.003272               5.680924e-09   \n87        1597.125401              0.008506               9.915664e-09   \n88        1778.925562              0.002507               1.492834e-09   \n89        2233.457201              0.003045               2.523699e-09   \n\n    0_Wavelet absolute mean_1  0_Wavelet energy_2  0_Wavelet energy_3  \\\n0                5.285164e-08            0.010634            0.012157   \n1                5.342677e-09            0.006854            0.011125   \n2                1.980033e-09            0.005942            0.009336   \n3                1.651857e-08            0.006895            0.006326   \n4                2.335290e-08            0.013116            0.009058   \n..                        ...                 ...                 ...   \n85               1.044593e-08            0.004926            0.008006   \n86               1.499358e-08            0.004405            0.006949   \n87               2.874858e-08            0.004109            0.007059   \n88               6.139000e-09            0.007719            0.010349   \n89               6.645324e-09            0.006974            0.009597   \n\n    0_Wavelet energy_4  0_Wavelet entropy  0_Zero crossing rate  \n0             0.015381           2.071570                9199.0  \n1             0.015513           1.969856                8452.0  \n2             0.013483           1.986457                9665.0  \n3             0.007243           2.041951                9993.0  \n4             0.010828           2.133683                8163.0  \n..                 ...                ...                   ...  \n85            0.011868           1.928298                7970.0  \n86            0.009862           1.957655                9198.0  \n87            0.010711           1.911029                8400.0  \n88            0.012824           2.019132                8677.0  \n89            0.011618           2.069944               10696.0  \n\n[90 rows x 299 columns]",
      "text/html": "<div>\n<style scoped>\n    .dataframe tbody tr th:only-of-type {\n        vertical-align: middle;\n    }\n\n    .dataframe tbody tr th {\n        vertical-align: top;\n    }\n\n    .dataframe thead th {\n        text-align: right;\n    }\n</style>\n<table border=\"1\" class=\"dataframe\">\n  <thead>\n    <tr style=\"text-align: right;\">\n      <th></th>\n      <th>0_Absolute energy</th>\n      <th>0_Centroid</th>\n      <th>0_ECDF Percentile Count_0</th>\n      <th>0_ECDF Percentile Count_1</th>\n      <th>0_ECDF Percentile_0</th>\n      <th>0_ECDF Percentile_1</th>\n      <th>0_ECDF_0</th>\n      <th>0_ECDF_1</th>\n      <th>0_ECDF_2</th>\n      <th>0_ECDF_3</th>\n      <th>...</th>\n      <th>0_Spectral roll-on</th>\n      <th>0_Spectral spread</th>\n      <th>0_Spectral variation</th>\n      <th>0_Wavelet absolute mean_0</th>\n      <th>0_Wavelet absolute mean_1</th>\n      <th>0_Wavelet energy_2</th>\n      <th>0_Wavelet energy_3</th>\n      <th>0_Wavelet energy_4</th>\n      <th>0_Wavelet entropy</th>\n      <th>0_Zero crossing rate</th>\n    </tr>\n  </thead>\n  <tbody>\n    <tr>\n      <th>0</th>\n      <td>42.551850</td>\n      <td>1.190613</td>\n      <td>17640.0</td>\n      <td>70560.0</td>\n      <td>-0.000610</td>\n      <td>0.000549</td>\n      <td>0.000011</td>\n      <td>0.000023</td>\n      <td>0.000034</td>\n      <td>0.000045</td>\n      <td>...</td>\n      <td>223.005057</td>\n      <td>2546.407953</td>\n      <td>0.015409</td>\n      <td>1.678364e-08</td>\n      <td>5.285164e-08</td>\n      <td>0.010634</td>\n      <td>0.012157</td>\n      <td>0.015381</td>\n      <td>2.071570</td>\n      <td>9199.0</td>\n    </tr>\n    <tr>\n      <th>1</th>\n      <td>12.248126</td>\n      <td>1.118531</td>\n      <td>17640.0</td>\n      <td>70560.0</td>\n      <td>-0.000549</td>\n      <td>0.000519</td>\n      <td>0.000011</td>\n      <td>0.000023</td>\n      <td>0.000034</td>\n      <td>0.000045</td>\n      <td>...</td>\n      <td>143.003243</td>\n      <td>1508.846150</td>\n      <td>0.006482</td>\n      <td>2.313018e-09</td>\n      <td>5.342677e-09</td>\n      <td>0.006854</td>\n      <td>0.011125</td>\n      <td>0.015513</td>\n      <td>1.969856</td>\n      <td>8452.0</td>\n    </tr>\n    <tr>\n      <th>2</th>\n      <td>13.864042</td>\n      <td>0.857482</td>\n      <td>17640.0</td>\n      <td>70560.0</td>\n      <td>-0.000519</td>\n      <td>0.000519</td>\n      <td>0.000011</td>\n      <td>0.000023</td>\n      <td>0.000034</td>\n      <td>0.000045</td>\n      <td>...</td>\n      <td>167.503798</td>\n      <td>1767.162356</td>\n      <td>0.004106</td>\n      <td>2.614364e-09</td>\n      <td>1.980033e-09</td>\n      <td>0.005942</td>\n      <td>0.009336</td>\n      <td>0.013483</td>\n      <td>1.986457</td>\n      <td>9665.0</td>\n    </tr>\n    <tr>\n      <th>3</th>\n      <td>16.050681</td>\n      <td>0.975166</td>\n      <td>17640.0</td>\n      <td>70560.0</td>\n      <td>-0.000458</td>\n      <td>0.000427</td>\n      <td>0.000011</td>\n      <td>0.000023</td>\n      <td>0.000034</td>\n      <td>0.000045</td>\n      <td>...</td>\n      <td>144.503277</td>\n      <td>2315.670121</td>\n      <td>0.004097</td>\n      <td>9.230499e-09</td>\n      <td>1.651857e-08</td>\n      <td>0.006895</td>\n      <td>0.006326</td>\n      <td>0.007243</td>\n      <td>2.041951</td>\n      <td>9993.0</td>\n    </tr>\n    <tr>\n      <th>4</th>\n      <td>14.865460</td>\n      <td>0.886128</td>\n      <td>17640.0</td>\n      <td>70560.0</td>\n      <td>-0.000610</td>\n      <td>0.000610</td>\n      <td>0.000011</td>\n      <td>0.000023</td>\n      <td>0.000034</td>\n      <td>0.000045</td>\n      <td>...</td>\n      <td>221.505023</td>\n      <td>2478.586597</td>\n      <td>0.006844</td>\n      <td>7.117739e-09</td>\n      <td>2.335290e-08</td>\n      <td>0.013116</td>\n      <td>0.009058</td>\n      <td>0.010828</td>\n      <td>2.133683</td>\n      <td>8163.0</td>\n    </tr>\n    <tr>\n      <th>...</th>\n      <td>...</td>\n      <td>...</td>\n      <td>...</td>\n      <td>...</td>\n      <td>...</td>\n      <td>...</td>\n      <td>...</td>\n      <td>...</td>\n      <td>...</td>\n      <td>...</td>\n      <td>...</td>\n      <td>...</td>\n      <td>...</td>\n      <td>...</td>\n      <td>...</td>\n      <td>...</td>\n      <td>...</td>\n      <td>...</td>\n      <td>...</td>\n      <td>...</td>\n      <td>...</td>\n    </tr>\n    <tr>\n      <th>85</th>\n      <td>11.721981</td>\n      <td>1.466017</td>\n      <td>17640.0</td>\n      <td>70560.0</td>\n      <td>-0.000549</td>\n      <td>0.000488</td>\n      <td>0.000011</td>\n      <td>0.000023</td>\n      <td>0.000034</td>\n      <td>0.000045</td>\n      <td>...</td>\n      <td>142.003220</td>\n      <td>1557.972830</td>\n      <td>0.004616</td>\n      <td>3.817931e-09</td>\n      <td>1.044593e-08</td>\n      <td>0.004926</td>\n      <td>0.008006</td>\n      <td>0.011868</td>\n      <td>1.928298</td>\n      <td>7970.0</td>\n    </tr>\n    <tr>\n      <th>86</th>\n      <td>8.842346</td>\n      <td>1.259859</td>\n      <td>17640.0</td>\n      <td>70560.0</td>\n      <td>-0.000458</td>\n      <td>0.000427</td>\n      <td>0.000011</td>\n      <td>0.000023</td>\n      <td>0.000034</td>\n      <td>0.000045</td>\n      <td>...</td>\n      <td>141.503209</td>\n      <td>1666.588040</td>\n      <td>0.003272</td>\n      <td>5.680924e-09</td>\n      <td>1.499358e-08</td>\n      <td>0.004405</td>\n      <td>0.006949</td>\n      <td>0.009862</td>\n      <td>1.957655</td>\n      <td>9198.0</td>\n    </tr>\n    <tr>\n      <th>87</th>\n      <td>16.797407</td>\n      <td>0.967086</td>\n      <td>17640.0</td>\n      <td>70560.0</td>\n      <td>-0.000488</td>\n      <td>0.000458</td>\n      <td>0.000011</td>\n      <td>0.000023</td>\n      <td>0.000034</td>\n      <td>0.000045</td>\n      <td>...</td>\n      <td>144.503277</td>\n      <td>1597.125401</td>\n      <td>0.008506</td>\n      <td>9.915664e-09</td>\n      <td>2.874858e-08</td>\n      <td>0.004109</td>\n      <td>0.007059</td>\n      <td>0.010711</td>\n      <td>1.911029</td>\n      <td>8400.0</td>\n    </tr>\n    <tr>\n      <th>88</th>\n      <td>16.750643</td>\n      <td>0.973906</td>\n      <td>17640.0</td>\n      <td>70560.0</td>\n      <td>-0.000580</td>\n      <td>0.000549</td>\n      <td>0.000011</td>\n      <td>0.000023</td>\n      <td>0.000034</td>\n      <td>0.000045</td>\n      <td>...</td>\n      <td>172.503912</td>\n      <td>1778.925562</td>\n      <td>0.002507</td>\n      <td>1.492834e-09</td>\n      <td>6.139000e-09</td>\n      <td>0.007719</td>\n      <td>0.010349</td>\n      <td>0.012824</td>\n      <td>2.019132</td>\n      <td>8677.0</td>\n    </tr>\n    <tr>\n      <th>89</th>\n      <td>19.294665</td>\n      <td>1.108487</td>\n      <td>17640.0</td>\n      <td>70560.0</td>\n      <td>-0.000427</td>\n      <td>0.000397</td>\n      <td>0.000011</td>\n      <td>0.000023</td>\n      <td>0.000034</td>\n      <td>0.000045</td>\n      <td>...</td>\n      <td>176.504002</td>\n      <td>2233.457201</td>\n      <td>0.003045</td>\n      <td>2.523699e-09</td>\n      <td>6.645324e-09</td>\n      <td>0.006974</td>\n      <td>0.009597</td>\n      <td>0.011618</td>\n      <td>2.069944</td>\n      <td>10696.0</td>\n    </tr>\n  </tbody>\n</table>\n<p>90 rows × 299 columns</p>\n</div>"
     },
     "execution_count": 11,
     "metadata": {},
     "output_type": "execute_result"
    }
   ],
   "source": [
    "X_test_features"
   ]
  },
  {
   "cell_type": "markdown",
   "metadata": {},
   "source": [
    "__299 features left__"
   ]
  },
  {
   "cell_type": "code",
   "execution_count": null,
   "metadata": {},
   "outputs": [],
   "source": [
    "print(type(X_test_features))"
   ]
  },
  {
   "cell_type": "code",
   "execution_count": 12,
   "metadata": {},
   "outputs": [],
   "source": [
    "X_train_features['classes'] = Y_train"
   ]
  },
  {
   "cell_type": "code",
   "execution_count": 13,
   "metadata": {},
   "outputs": [],
   "source": [
    "X_train_features.to_csv('train3.csv')"
   ]
  },
  {
   "cell_type": "markdown",
   "metadata": {},
   "source": [
    "__Added class column at the end to export and then remove it again__"
   ]
  },
  {
   "cell_type": "code",
   "execution_count": 14,
   "metadata": {},
   "outputs": [],
   "source": [
    "X_train_features.drop('classes', axis=1, inplace=True)"
   ]
  },
  {
   "cell_type": "code",
   "execution_count": null,
   "metadata": {},
   "outputs": [],
   "source": [
    "X_train_features"
   ]
  },
  {
   "cell_type": "code",
   "execution_count": null,
   "outputs": [],
   "source": [
    "import sys\n",
    "with np.printoptions(threshold=np.inf):\n",
    "  print(np.array(X_train_features.columns))"
   ],
   "metadata": {
    "collapsed": false
   }
  },
  {
   "cell_type": "markdown",
   "source": [
    "__Check with orange the best 50 features__"
   ],
   "metadata": {
    "collapsed": false
   }
  },
  {
   "cell_type": "code",
   "execution_count": null,
   "outputs": [],
   "source": [
    "best_50 = ['0_FFT mean coefficient_13','0_FFT mean coefficient_61','0_FFT mean coefficient_58','0_Wavelet entropy','0_FFT mean coefficient_60','0_Median frequency','0_FFT mean coefficient_59','0_Zero crossing rate','0_FFT mean coefficient_62','0_Power bandwidth','0_FFT mean coefficient_63','0_Maximum frequency','0_Wavelet energy_0','0_FFT mean coefficient_55','0_Spectral decrease','0_FFT mean coefficient_12','0_Wavelet variance_0','0_Spectral kurtosis','0_FFT mean coefficient_53','0_FFT mean coefficient_54','0_FFT mean coefficient_103','0_FFT mean coefficient_6','0_FFT mean coefficient_121','0_FFT mean coefficient_102','0_FFT mean coefficient_131','0_Spectral centroid','0_FFT mean coefficient_23','0_FFT mean coefficient_22','0_FFT mean coefficient_16','0_FFT mean coefficient_132','0_FFT mean coefficient_7','0_FFT mean coefficient_9','0_FFT mean coefficient_64','0_FFT mean coefficient_130','0_FFT mean coefficient_66','0_FFT mean coefficient_158','0_FFT mean coefficient_128','0_FFT mean coefficient_67','0_FFT mean coefficient_10','0_FFT mean coefficient_156','0_FFT mean coefficient_52','0_FFT mean coefficient_127','0_FFT mean coefficient_154','0_FFT mean coefficient_155','0_FFT mean coefficient_19','0_FFT mean coefficient_69','0_FFT mean coefficient_24','0_FFT mean coefficient_160','0_FFT mean coefficient_159','0_FFT mean coefficient_153',]"
   ],
   "metadata": {
    "collapsed": false
   }
  },
  {
   "cell_type": "markdown",
   "source": [
    "__Use the best 15 of it__"
   ],
   "metadata": {
    "collapsed": false
   }
  },
  {
   "cell_type": "code",
   "execution_count": null,
   "metadata": {},
   "outputs": [],
   "source": [
    "X_train_best50 = X_train_features[best_50[:15]]\n",
    "X_test_best50 = X_test_features[best_50[:15]]\n"
   ]
  },
  {
   "cell_type": "markdown",
   "source": [
    "### Exhaustive Feature Selector for the best 15 features"
   ],
   "metadata": {
    "collapsed": false
   }
  },
  {
   "cell_type": "markdown",
   "source": [
    "Used for the RandomForestClassifier"
   ],
   "metadata": {
    "collapsed": false
   }
  },
  {
   "cell_type": "code",
   "execution_count": null,
   "metadata": {
    "scrolled": true
   },
   "outputs": [],
   "source": [
    "from sklearn.ensemble import RandomForestClassifier\n",
    "from mlxtend.feature_selection import ExhaustiveFeatureSelector as EFS\n",
    "\n",
    "\n",
    "clf = RandomForestClassifier(n_estimators=11, max_depth=5, min_samples_split=4, min_samples_leaf =5).fit(X_train_best50, Y_train)\n",
    "\n",
    "\n",
    "efs1 = EFS(clf,\n",
    "           min_features=1,\n",
    "           max_features=15,\n",
    "           scoring='accuracy',\n",
    "           print_progress=True,\n",
    "           cv=5)\n",
    "\n",
    "efs1 = efs1.fit(X_train_best50, Y_train)\n",
    "\n",
    "print('Best accuracy score: %.2f' % efs1.best_score_)\n",
    "print('Best subset (indices):', efs1.best_idx_)\n",
    "print('Best subset (corresponding names):', efs1.best_feature_names_)\n"
   ]
  },
  {
   "cell_type": "markdown",
   "source": [
    "Used for the Stacked Classifier"
   ],
   "metadata": {
    "collapsed": false
   }
  },
  {
   "cell_type": "markdown",
   "source": [
    "### Forward Feature Selection for Random Forest"
   ],
   "metadata": {
    "collapsed": false
   }
  },
  {
   "cell_type": "code",
   "execution_count": 15,
   "metadata": {
    "scrolled": true
   },
   "outputs": [
    {
     "name": "stderr",
     "output_type": "stream",
     "text": [
      "[Parallel(n_jobs=-1)]: Using backend LokyBackend with 8 concurrent workers.\n",
      "[Parallel(n_jobs=-1)]: Done  25 tasks      | elapsed:    4.6s\n",
      "[Parallel(n_jobs=-1)]: Done 146 tasks      | elapsed:   19.2s\n",
      "[Parallel(n_jobs=-1)]: Done 299 out of 299 | elapsed:   38.6s finished\n",
      "\n",
      "[2022-12-22 09:15:12] Features: 1/15 -- score: 0.5523809523809524[Parallel(n_jobs=-1)]: Using backend LokyBackend with 8 concurrent workers.\n",
      "[Parallel(n_jobs=-1)]: Done  25 tasks      | elapsed:    4.4s\n",
      "[Parallel(n_jobs=-1)]: Done 146 tasks      | elapsed:   21.4s\n",
      "[Parallel(n_jobs=-1)]: Done 298 out of 298 | elapsed:   42.6s finished\n",
      "\n",
      "[2022-12-22 09:15:55] Features: 2/15 -- score: 0.8[Parallel(n_jobs=-1)]: Using backend LokyBackend with 8 concurrent workers.\n",
      "[Parallel(n_jobs=-1)]: Done  25 tasks      | elapsed:    4.3s\n",
      "[Parallel(n_jobs=-1)]: Done 146 tasks      | elapsed:   21.4s\n",
      "[Parallel(n_jobs=-1)]: Done 297 out of 297 | elapsed:   42.9s finished\n",
      "\n",
      "[2022-12-22 09:16:38] Features: 3/15 -- score: 0.8809523809523808[Parallel(n_jobs=-1)]: Using backend LokyBackend with 8 concurrent workers.\n",
      "[Parallel(n_jobs=-1)]: Done  25 tasks      | elapsed:    4.5s\n",
      "[Parallel(n_jobs=-1)]: Done 146 tasks      | elapsed:   21.9s\n",
      "[Parallel(n_jobs=-1)]: Done 296 out of 296 | elapsed:   43.7s finished\n",
      "\n",
      "[2022-12-22 09:17:22] Features: 4/15 -- score: 0.9095238095238095[Parallel(n_jobs=-1)]: Using backend LokyBackend with 8 concurrent workers.\n",
      "[Parallel(n_jobs=-1)]: Done  25 tasks      | elapsed:    4.9s\n",
      "[Parallel(n_jobs=-1)]: Done 146 tasks      | elapsed:   22.8s\n",
      "[Parallel(n_jobs=-1)]: Done 295 out of 295 | elapsed:   44.3s finished\n",
      "\n",
      "[2022-12-22 09:18:06] Features: 5/15 -- score: 0.9238095238095237[Parallel(n_jobs=-1)]: Using backend LokyBackend with 8 concurrent workers.\n",
      "[Parallel(n_jobs=-1)]: Done  25 tasks      | elapsed:    4.6s\n",
      "[Parallel(n_jobs=-1)]: Done 146 tasks      | elapsed:   22.0s\n",
      "[Parallel(n_jobs=-1)]: Done 294 out of 294 | elapsed:   43.3s finished\n",
      "\n",
      "[2022-12-22 09:18:49] Features: 6/15 -- score: 0.9428571428571427[Parallel(n_jobs=-1)]: Using backend LokyBackend with 8 concurrent workers.\n",
      "[Parallel(n_jobs=-1)]: Done  25 tasks      | elapsed:    4.6s\n",
      "[Parallel(n_jobs=-1)]: Done 146 tasks      | elapsed:   22.1s\n",
      "[Parallel(n_jobs=-1)]: Done 293 out of 293 | elapsed:   43.7s finished\n",
      "\n",
      "[2022-12-22 09:19:33] Features: 7/15 -- score: 0.9476190476190475[Parallel(n_jobs=-1)]: Using backend LokyBackend with 8 concurrent workers.\n",
      "[Parallel(n_jobs=-1)]: Done  25 tasks      | elapsed:    4.8s\n",
      "[Parallel(n_jobs=-1)]: Done 146 tasks      | elapsed:   22.7s\n",
      "[Parallel(n_jobs=-1)]: Done 292 out of 292 | elapsed:   44.7s finished\n",
      "\n",
      "[2022-12-22 09:20:18] Features: 8/15 -- score: 0.9476190476190475[Parallel(n_jobs=-1)]: Using backend LokyBackend with 8 concurrent workers.\n",
      "[Parallel(n_jobs=-1)]: Done  25 tasks      | elapsed:    4.7s\n",
      "[Parallel(n_jobs=-1)]: Done 146 tasks      | elapsed:   22.9s\n",
      "[Parallel(n_jobs=-1)]: Done 291 out of 291 | elapsed:   44.8s finished\n",
      "\n",
      "[2022-12-22 09:21:02] Features: 9/15 -- score: 0.9476190476190475[Parallel(n_jobs=-1)]: Using backend LokyBackend with 8 concurrent workers.\n",
      "[Parallel(n_jobs=-1)]: Done  25 tasks      | elapsed:    4.8s\n",
      "[Parallel(n_jobs=-1)]: Done 146 tasks      | elapsed:   23.0s\n",
      "[Parallel(n_jobs=-1)]: Done 290 out of 290 | elapsed:   44.9s finished\n",
      "\n",
      "[2022-12-22 09:21:47] Features: 10/15 -- score: 0.9523809523809523[Parallel(n_jobs=-1)]: Using backend LokyBackend with 8 concurrent workers.\n",
      "[Parallel(n_jobs=-1)]: Done  25 tasks      | elapsed:    4.8s\n",
      "[Parallel(n_jobs=-1)]: Done 146 tasks      | elapsed:   22.8s\n",
      "[Parallel(n_jobs=-1)]: Done 289 out of 289 | elapsed:   44.4s finished\n",
      "\n",
      "[2022-12-22 09:22:32] Features: 11/15 -- score: 0.9571428571428571[Parallel(n_jobs=-1)]: Using backend LokyBackend with 8 concurrent workers.\n",
      "[Parallel(n_jobs=-1)]: Done  25 tasks      | elapsed:    4.8s\n",
      "[Parallel(n_jobs=-1)]: Done 146 tasks      | elapsed:   22.8s\n",
      "[Parallel(n_jobs=-1)]: Done 288 out of 288 | elapsed:   44.3s finished\n",
      "\n",
      "[2022-12-22 09:23:16] Features: 12/15 -- score: 0.9619047619047618[Parallel(n_jobs=-1)]: Using backend LokyBackend with 8 concurrent workers.\n",
      "[Parallel(n_jobs=-1)]: Done  25 tasks      | elapsed:    4.7s\n",
      "[Parallel(n_jobs=-1)]: Done 146 tasks      | elapsed:   22.9s\n",
      "[Parallel(n_jobs=-1)]: Done 287 out of 287 | elapsed:   44.4s finished\n",
      "\n",
      "[2022-12-22 09:24:00] Features: 13/15 -- score: 0.9619047619047618[Parallel(n_jobs=-1)]: Using backend LokyBackend with 8 concurrent workers.\n",
      "[Parallel(n_jobs=-1)]: Done  25 tasks      | elapsed:    4.7s\n",
      "[Parallel(n_jobs=-1)]: Done 146 tasks      | elapsed:   23.2s\n",
      "[Parallel(n_jobs=-1)]: Done 286 out of 286 | elapsed:   44.2s finished\n",
      "\n",
      "[2022-12-22 09:24:45] Features: 14/15 -- score: 0.9619047619047618[Parallel(n_jobs=-1)]: Using backend LokyBackend with 8 concurrent workers.\n",
      "[Parallel(n_jobs=-1)]: Done  25 tasks      | elapsed:    4.8s\n",
      "[Parallel(n_jobs=-1)]: Done 146 tasks      | elapsed:   23.1s\n",
      "[Parallel(n_jobs=-1)]: Done 285 out of 285 | elapsed:   44.2s finished\n",
      "\n",
      "[2022-12-22 09:25:29] Features: 15/15 -- score: 0.9571428571428571"
     ]
    }
   ],
   "source": [
    "from sklearn.ensemble import RandomForestClassifier\n",
    "\n",
    "from mlxtend.feature_selection import SequentialFeatureSelector as sfs\n",
    "\n",
    "clf = RandomForestClassifier(n_estimators=200, max_depth=20, min_samples_split=10, min_samples_leaf =4, random_state=42, criterion ='gini', bootstrap = True, max_features = 'log2', n_jobs=-1).fit(X_train_features, Y_train)\n",
    "\n",
    "sfs1 = sfs(clf,\n",
    "           k_features=15,\n",
    "           forward=True,\n",
    "           floating=False,\n",
    "           verbose=2,\n",
    "           scoring='accuracy',\n",
    "           cv=5,\n",
    "           n_jobs= -1)\n",
    "\n",
    "sfs1 = sfs1.fit(X_train_features, Y_train)\n"
   ]
  },
  {
   "cell_type": "markdown",
   "source": [
    "We chose the 12 best features with a score of 0.9619.\n",
    "Then, we checked which features were them"
   ],
   "metadata": {
    "collapsed": false
   }
  },
  {
   "cell_type": "code",
   "execution_count": 16,
   "metadata": {},
   "outputs": [
    {
     "data": {
      "text/plain": "{1: {'feature_idx': (283,),\n  'cv_scores': array([0.52380952, 0.57142857, 0.54761905, 0.57142857, 0.54761905]),\n  'avg_score': 0.5523809523809524,\n  'feature_names': ('0_Spectral centroid',)},\n 2: {'feature_idx': (281, 283),\n  'cv_scores': array([0.9047619 , 0.76190476, 0.76190476, 0.83333333, 0.73809524]),\n  'avg_score': 0.8,\n  'feature_names': ('0_Skewness', '0_Spectral centroid')},\n 3: {'feature_idx': (281, 283, 296),\n  'cv_scores': array([0.92857143, 0.92857143, 0.88095238, 0.80952381, 0.85714286]),\n  'avg_score': 0.8809523809523808,\n  'feature_names': ('0_Skewness',\n   '0_Spectral centroid',\n   '0_Wavelet energy_4')},\n 4: {'feature_idx': (274, 281, 283, 296),\n  'cv_scores': array([0.97619048, 0.95238095, 0.9047619 , 0.9047619 , 0.80952381]),\n  'avg_score': 0.9095238095238095,\n  'feature_names': ('0_Median frequency',\n   '0_Skewness',\n   '0_Spectral centroid',\n   '0_Wavelet energy_4')},\n 5: {'feature_idx': (269, 274, 281, 283, 296),\n  'cv_scores': array([0.97619048, 0.95238095, 0.9047619 , 0.95238095, 0.83333333]),\n  'avg_score': 0.9238095238095237,\n  'feature_names': ('0_Mean absolute diff',\n   '0_Median frequency',\n   '0_Skewness',\n   '0_Spectral centroid',\n   '0_Wavelet energy_4')},\n 6: {'feature_idx': (269, 274, 277, 281, 283, 296),\n  'cv_scores': array([1.        , 0.95238095, 0.95238095, 0.92857143, 0.88095238]),\n  'avg_score': 0.9428571428571427,\n  'feature_names': ('0_Mean absolute diff',\n   '0_Median frequency',\n   '0_Neighbourhood peaks',\n   '0_Skewness',\n   '0_Spectral centroid',\n   '0_Wavelet energy_4')},\n 7: {'feature_idx': (252, 269, 274, 277, 281, 283, 296),\n  'cv_scores': array([1.        , 0.95238095, 0.95238095, 0.95238095, 0.88095238]),\n  'avg_score': 0.9476190476190475,\n  'feature_names': ('0_LPCC_6',\n   '0_Mean absolute diff',\n   '0_Median frequency',\n   '0_Neighbourhood peaks',\n   '0_Skewness',\n   '0_Spectral centroid',\n   '0_Wavelet energy_4')},\n 8: {'feature_idx': (0, 252, 269, 274, 277, 281, 283, 296),\n  'cv_scores': array([1.        , 0.95238095, 0.95238095, 0.95238095, 0.88095238]),\n  'avg_score': 0.9476190476190475,\n  'feature_names': ('0_Absolute energy',\n   '0_LPCC_6',\n   '0_Mean absolute diff',\n   '0_Median frequency',\n   '0_Neighbourhood peaks',\n   '0_Skewness',\n   '0_Spectral centroid',\n   '0_Wavelet energy_4')},\n 9: {'feature_idx': (0, 252, 269, 270, 274, 277, 281, 283, 296),\n  'cv_scores': array([1.        , 0.95238095, 0.95238095, 0.95238095, 0.88095238]),\n  'avg_score': 0.9476190476190475,\n  'feature_names': ('0_Absolute energy',\n   '0_LPCC_6',\n   '0_Mean absolute diff',\n   '0_Mean diff',\n   '0_Median frequency',\n   '0_Neighbourhood peaks',\n   '0_Skewness',\n   '0_Spectral centroid',\n   '0_Wavelet energy_4')},\n 10: {'feature_idx': (0, 252, 253, 269, 270, 274, 277, 281, 283, 296),\n  'cv_scores': array([1.        , 0.95238095, 0.95238095, 0.95238095, 0.9047619 ]),\n  'avg_score': 0.9523809523809523,\n  'feature_names': ('0_Absolute energy',\n   '0_LPCC_6',\n   '0_MFCC_0',\n   '0_Mean absolute diff',\n   '0_Mean diff',\n   '0_Median frequency',\n   '0_Neighbourhood peaks',\n   '0_Skewness',\n   '0_Spectral centroid',\n   '0_Wavelet energy_4')},\n 11: {'feature_idx': (0, 249, 252, 253, 269, 270, 274, 277, 281, 283, 296),\n  'cv_scores': array([1.        , 0.92857143, 0.97619048, 0.95238095, 0.92857143]),\n  'avg_score': 0.9571428571428571,\n  'feature_names': ('0_Absolute energy',\n   '0_LPCC_11',\n   '0_LPCC_6',\n   '0_MFCC_0',\n   '0_Mean absolute diff',\n   '0_Mean diff',\n   '0_Median frequency',\n   '0_Neighbourhood peaks',\n   '0_Skewness',\n   '0_Spectral centroid',\n   '0_Wavelet energy_4')},\n 12: {'feature_idx': (0,\n   249,\n   252,\n   253,\n   269,\n   270,\n   274,\n   277,\n   281,\n   283,\n   296,\n   297),\n  'cv_scores': array([1.        , 0.95238095, 0.97619048, 0.95238095, 0.92857143]),\n  'avg_score': 0.9619047619047618,\n  'feature_names': ('0_Absolute energy',\n   '0_LPCC_11',\n   '0_LPCC_6',\n   '0_MFCC_0',\n   '0_Mean absolute diff',\n   '0_Mean diff',\n   '0_Median frequency',\n   '0_Neighbourhood peaks',\n   '0_Skewness',\n   '0_Spectral centroid',\n   '0_Wavelet energy_4',\n   '0_Wavelet entropy')},\n 13: {'feature_idx': (0,\n   249,\n   252,\n   253,\n   269,\n   270,\n   274,\n   275,\n   277,\n   281,\n   283,\n   296,\n   297),\n  'cv_scores': array([1.        , 0.92857143, 0.97619048, 0.97619048, 0.92857143]),\n  'avg_score': 0.9619047619047618,\n  'feature_names': ('0_Absolute energy',\n   '0_LPCC_11',\n   '0_LPCC_6',\n   '0_MFCC_0',\n   '0_Mean absolute diff',\n   '0_Mean diff',\n   '0_Median frequency',\n   '0_Min',\n   '0_Neighbourhood peaks',\n   '0_Skewness',\n   '0_Spectral centroid',\n   '0_Wavelet energy_4',\n   '0_Wavelet entropy')},\n 14: {'feature_idx': (0,\n   249,\n   252,\n   253,\n   269,\n   270,\n   274,\n   275,\n   277,\n   281,\n   283,\n   289,\n   296,\n   297),\n  'cv_scores': array([1.        , 0.92857143, 0.97619048, 0.97619048, 0.92857143]),\n  'avg_score': 0.9619047619047618,\n  'feature_names': ('0_Absolute energy',\n   '0_LPCC_11',\n   '0_LPCC_6',\n   '0_MFCC_0',\n   '0_Mean absolute diff',\n   '0_Mean diff',\n   '0_Median frequency',\n   '0_Min',\n   '0_Neighbourhood peaks',\n   '0_Skewness',\n   '0_Spectral centroid',\n   '0_Spectral roll-on',\n   '0_Wavelet energy_4',\n   '0_Wavelet entropy')},\n 15: {'feature_idx': (0,\n   16,\n   249,\n   252,\n   253,\n   269,\n   270,\n   274,\n   275,\n   277,\n   281,\n   283,\n   289,\n   296,\n   297),\n  'cv_scores': array([1.        , 0.95238095, 0.97619048, 0.95238095, 0.9047619 ]),\n  'avg_score': 0.9571428571428571,\n  'feature_names': ('0_Absolute energy',\n   '0_Entropy',\n   '0_LPCC_11',\n   '0_LPCC_6',\n   '0_MFCC_0',\n   '0_Mean absolute diff',\n   '0_Mean diff',\n   '0_Median frequency',\n   '0_Min',\n   '0_Neighbourhood peaks',\n   '0_Skewness',\n   '0_Spectral centroid',\n   '0_Spectral roll-on',\n   '0_Wavelet energy_4',\n   '0_Wavelet entropy')}}"
     },
     "execution_count": 16,
     "metadata": {},
     "output_type": "execute_result"
    }
   ],
   "source": [
    "sfs1.subsets_"
   ]
  },
  {
   "cell_type": "markdown",
   "source": [
    "Saving the best 12 combination of features"
   ],
   "metadata": {
    "collapsed": false
   }
  },
  {
   "cell_type": "code",
   "execution_count": 11,
   "metadata": {},
   "outputs": [],
   "source": [
    "features = ['0_Absolute energy',\n",
    "   '0_LPCC_11',\n",
    "   '0_LPCC_6',\n",
    "   '0_MFCC_0',\n",
    "   '0_Mean absolute diff',\n",
    "   '0_Mean diff',\n",
    "   '0_Median frequency',\n",
    "   '0_Neighbourhood peaks',\n",
    "   '0_Skewness',\n",
    "   '0_Spectral centroid',\n",
    "   '0_Wavelet energy_4',\n",
    "   '0_Wavelet entropy']"
   ]
  },
  {
   "cell_type": "markdown",
   "source": [
    "Selecting on our dataset"
   ],
   "metadata": {
    "collapsed": false
   }
  },
  {
   "cell_type": "code",
   "execution_count": 12,
   "metadata": {},
   "outputs": [],
   "source": [
    "X_train_final = X_train_features[features]\n",
    "X_test_final = X_test_features[features]"
   ]
  },
  {
   "cell_type": "markdown",
   "source": [
    "### Grid Search for Random Forest with the best 12 features set"
   ],
   "metadata": {
    "collapsed": false
   }
  },
  {
   "cell_type": "markdown",
   "source": [
    "Defining the parameters to combine"
   ],
   "metadata": {
    "collapsed": false
   }
  },
  {
   "cell_type": "code",
   "execution_count": 28,
   "metadata": {},
   "outputs": [
    {
     "name": "stdout",
     "output_type": "stream",
     "text": [
      "{'n_estimators': [100, 200, 300, 400, 500, 600, 700, 800, 900, 1000], 'max_features': ['sqrt', 'log2'], 'criterion': ['gini', 'entropy', 'log_loss'], 'max_depth': [1, 2, 3, 4, 5, 6, 7, 8, 9, 10, 11, 12, 13, 14, 15, 16, 17, 18, 19, 20], 'min_samples_split': [2, 5, 10], 'min_samples_leaf': [2, 4, 6], 'bootstrap': [True, False]}\n"
     ]
    }
   ],
   "source": [
    "from sklearn.model_selection import RandomizedSearchCV\n",
    "\n",
    "# Number of trees in random forest\n",
    "n_estimators = [int(x) for x in np.linspace(start = 100, stop = 1000, num = 10)]\n",
    "# Number of features to consider at every split\n",
    "max_features = [\"sqrt\", \"log2\"]\n",
    "# Maximum number of levels in tree\n",
    "max_depth = [int(x) for x in np.linspace(1, 20, num = 20)]\n",
    "# Minimum number of samples required to split a node\n",
    "min_samples_split = [2, 5, 10]\n",
    "# Minimum number of samples required at each leaf node\n",
    "min_samples_leaf = [2, 4, 6]\n",
    "# Method of selecting samples for training each tree\n",
    "bootstrap = [True, False]\n",
    "criterion = ['gini', 'entropy', 'log_loss']\n",
    "# Create the random grid\n",
    "random_grid = {'n_estimators': n_estimators,\n",
    "               'max_features': max_features,\n",
    "               'criterion': criterion,\n",
    "               'max_depth': max_depth,\n",
    "               'min_samples_split': min_samples_split,\n",
    "               'min_samples_leaf': min_samples_leaf,\n",
    "               'bootstrap': bootstrap}\n",
    "print(random_grid)"
   ]
  },
  {
   "cell_type": "markdown",
   "source": [
    "Combining"
   ],
   "metadata": {
    "collapsed": false
   }
  },
  {
   "cell_type": "code",
   "execution_count": 29,
   "metadata": {},
   "outputs": [
    {
     "name": "stdout",
     "output_type": "stream",
     "text": [
      "Fitting 5 folds for each of 100 candidates, totalling 500 fits\n",
      "[CV] END bootstrap=False, criterion=gini, max_depth=1, max_features=sqrt, min_samples_leaf=2, min_samples_split=2, n_estimators=600; total time=   0.3s\n",
      "[CV] END bootstrap=False, criterion=gini, max_depth=15, max_features=log2, min_samples_leaf=2, min_samples_split=2, n_estimators=800; total time=   0.5s\n",
      "[CV] END bootstrap=True, criterion=log_loss, max_depth=5, max_features=sqrt, min_samples_leaf=6, min_samples_split=2, n_estimators=1000; total time=   0.8s\n",
      "[CV] END bootstrap=False, criterion=gini, max_depth=13, max_features=sqrt, min_samples_leaf=4, min_samples_split=2, n_estimators=100; total time=   0.1s\n",
      "[CV] END bootstrap=True, criterion=entropy, max_depth=19, max_features=sqrt, min_samples_leaf=4, min_samples_split=2, n_estimators=400; total time=   0.3s\n",
      "[CV] END bootstrap=True, criterion=gini, max_depth=1, max_features=log2, min_samples_leaf=6, min_samples_split=5, n_estimators=200; total time=   0.1s\n",
      "[CV] END bootstrap=True, criterion=gini, max_depth=1, max_features=log2, min_samples_leaf=6, min_samples_split=5, n_estimators=200; total time=   0.1s\n",
      "[CV] END bootstrap=True, criterion=gini, max_depth=6, max_features=log2, min_samples_leaf=2, min_samples_split=2, n_estimators=600; total time=   0.4s\n",
      "[CV] END bootstrap=True, criterion=gini, max_depth=6, max_features=log2, min_samples_leaf=2, min_samples_split=2, n_estimators=600; total time=   0.5s\n",
      "[CV] END bootstrap=True, criterion=log_loss, max_depth=3, max_features=sqrt, min_samples_leaf=6, min_samples_split=2, n_estimators=1000; total time=   0.8s\n",
      "[CV] END bootstrap=True, criterion=log_loss, max_depth=8, max_features=sqrt, min_samples_leaf=6, min_samples_split=2, n_estimators=1000; total time=   0.8s\n",
      "[CV] END bootstrap=False, criterion=log_loss, max_depth=19, max_features=sqrt, min_samples_leaf=4, min_samples_split=2, n_estimators=200; total time=   0.2s\n",
      "[CV] END bootstrap=False, criterion=gini, max_depth=8, max_features=log2, min_samples_leaf=4, min_samples_split=2, n_estimators=600; total time=   0.4s\n",
      "[CV] END bootstrap=False, criterion=log_loss, max_depth=19, max_features=sqrt, min_samples_leaf=2, min_samples_split=2, n_estimators=400; total time=   0.3s\n",
      "[CV] END bootstrap=True, criterion=log_loss, max_depth=8, max_features=log2, min_samples_leaf=2, min_samples_split=10, n_estimators=200; total time=   0.2s\n",
      "[CV] END bootstrap=True, criterion=log_loss, max_depth=1, max_features=sqrt, min_samples_leaf=2, min_samples_split=2, n_estimators=900; total time=   0.6s\n",
      "[CV] END bootstrap=False, criterion=log_loss, max_depth=3, max_features=sqrt, min_samples_leaf=6, min_samples_split=10, n_estimators=700; total time=   0.5s\n",
      "[CV] END bootstrap=False, criterion=entropy, max_depth=12, max_features=sqrt, min_samples_leaf=6, min_samples_split=2, n_estimators=900; total time=   0.8s\n",
      "[CV] END bootstrap=True, criterion=gini, max_depth=15, max_features=sqrt, min_samples_leaf=4, min_samples_split=5, n_estimators=900; total time=   0.7s\n",
      "[CV] END bootstrap=True, criterion=gini, max_depth=12, max_features=sqrt, min_samples_leaf=4, min_samples_split=5, n_estimators=800; total time=   0.7s\n",
      "[CV] END bootstrap=False, criterion=entropy, max_depth=6, max_features=log2, min_samples_leaf=4, min_samples_split=2, n_estimators=300; total time=   0.2s\n",
      "[CV] END bootstrap=True, criterion=entropy, max_depth=10, max_features=sqrt, min_samples_leaf=4, min_samples_split=2, n_estimators=900; total time=   0.7s\n",
      "[CV] END bootstrap=True, criterion=gini, max_depth=3, max_features=sqrt, min_samples_leaf=4, min_samples_split=2, n_estimators=200; total time=   0.2s\n",
      "[CV] END bootstrap=False, criterion=gini, max_depth=18, max_features=log2, min_samples_leaf=4, min_samples_split=2, n_estimators=700; total time=   0.5s\n",
      "[CV] END bootstrap=True, criterion=entropy, max_depth=13, max_features=log2, min_samples_leaf=4, min_samples_split=5, n_estimators=300; total time=   0.2s\n",
      "[CV] END bootstrap=True, criterion=entropy, max_depth=13, max_features=log2, min_samples_leaf=4, min_samples_split=5, n_estimators=300; total time=   0.2s\n",
      "[CV] END bootstrap=False, criterion=log_loss, max_depth=9, max_features=sqrt, min_samples_leaf=4, min_samples_split=5, n_estimators=400; total time=   0.3s\n",
      "[CV] END bootstrap=True, criterion=log_loss, max_depth=7, max_features=log2, min_samples_leaf=2, min_samples_split=10, n_estimators=300; total time=   0.2s\n",
      "[CV] END bootstrap=True, criterion=gini, max_depth=2, max_features=log2, min_samples_leaf=4, min_samples_split=10, n_estimators=100; total time=   0.1s\n",
      "[CV] END bootstrap=True, criterion=gini, max_depth=2, max_features=log2, min_samples_leaf=4, min_samples_split=10, n_estimators=100; total time=   0.1s\n",
      "[CV] END bootstrap=True, criterion=entropy, max_depth=5, max_features=log2, min_samples_leaf=6, min_samples_split=10, n_estimators=100; total time=   0.1s\n",
      "[CV] END bootstrap=False, criterion=log_loss, max_depth=10, max_features=log2, min_samples_leaf=6, min_samples_split=2, n_estimators=600; total time=   0.5s\n",
      "[CV] END bootstrap=False, criterion=log_loss, max_depth=10, max_features=log2, min_samples_leaf=6, min_samples_split=2, n_estimators=600; total time=   0.5s\n",
      "[CV] END bootstrap=True, criterion=entropy, max_depth=2, max_features=log2, min_samples_leaf=2, min_samples_split=5, n_estimators=700; total time=   0.5s\n",
      "[CV] END bootstrap=False, criterion=entropy, max_depth=1, max_features=sqrt, min_samples_leaf=2, min_samples_split=10, n_estimators=400; total time=   0.3s\n",
      "[CV] END bootstrap=False, criterion=entropy, max_depth=5, max_features=sqrt, min_samples_leaf=2, min_samples_split=2, n_estimators=400; total time=   0.3s\n",
      "[CV] END bootstrap=False, criterion=entropy, max_depth=5, max_features=sqrt, min_samples_leaf=2, min_samples_split=2, n_estimators=400; total time=   0.3s\n",
      "[CV] END bootstrap=True, criterion=gini, max_depth=7, max_features=log2, min_samples_leaf=2, min_samples_split=2, n_estimators=400; total time=   0.3s\n",
      "[CV] END bootstrap=True, criterion=gini, max_depth=7, max_features=log2, min_samples_leaf=2, min_samples_split=2, n_estimators=400; total time=   0.3s\n",
      "[CV] END bootstrap=True, criterion=entropy, max_depth=8, max_features=log2, min_samples_leaf=4, min_samples_split=2, n_estimators=100; total time=   0.1s\n",
      "[CV] END bootstrap=True, criterion=entropy, max_depth=8, max_features=log2, min_samples_leaf=4, min_samples_split=2, n_estimators=100; total time=   0.1s\n",
      "[CV] END bootstrap=True, criterion=entropy, max_depth=8, max_features=log2, min_samples_leaf=4, min_samples_split=2, n_estimators=100; total time=   0.1s\n",
      "[CV] END bootstrap=True, criterion=entropy, max_depth=8, max_features=log2, min_samples_leaf=4, min_samples_split=2, n_estimators=100; total time=   0.1s\n",
      "[CV] END bootstrap=False, criterion=log_loss, max_depth=8, max_features=sqrt, min_samples_leaf=4, min_samples_split=10, n_estimators=1000; total time=   0.7s\n",
      "[CV] END bootstrap=False, criterion=log_loss, max_depth=5, max_features=log2, min_samples_leaf=4, min_samples_split=10, n_estimators=1000; total time=   0.7s\n",
      "[CV] END bootstrap=False, criterion=log_loss, max_depth=3, max_features=sqrt, min_samples_leaf=4, min_samples_split=5, n_estimators=300; total time=   0.2s\n",
      "[CV] END bootstrap=False, criterion=log_loss, max_depth=3, max_features=sqrt, min_samples_leaf=4, min_samples_split=5, n_estimators=300; total time=   0.2s\n",
      "[CV] END bootstrap=False, criterion=log_loss, max_depth=1, max_features=sqrt, min_samples_leaf=6, min_samples_split=5, n_estimators=200; total time=   0.1s\n",
      "[CV] END bootstrap=False, criterion=log_loss, max_depth=1, max_features=sqrt, min_samples_leaf=6, min_samples_split=5, n_estimators=200; total time=   0.1s\n",
      "[CV] END bootstrap=True, criterion=gini, max_depth=1, max_features=sqrt, min_samples_leaf=2, min_samples_split=2, n_estimators=1000; total time=   0.6s\n",
      "[CV] END bootstrap=True, criterion=gini, max_depth=1, max_features=sqrt, min_samples_leaf=2, min_samples_split=2, n_estimators=1000; total time=   0.7s\n",
      "[CV] END bootstrap=False, criterion=log_loss, max_depth=8, max_features=log2, min_samples_leaf=6, min_samples_split=5, n_estimators=300; total time=   0.2s\n",
      "[CV] END bootstrap=False, criterion=log_loss, max_depth=8, max_features=log2, min_samples_leaf=6, min_samples_split=5, n_estimators=300; total time=   0.2s\n",
      "[CV] END bootstrap=True, criterion=gini, max_depth=4, max_features=sqrt, min_samples_leaf=2, min_samples_split=2, n_estimators=800; total time=   0.6s\n",
      "[CV] END bootstrap=False, criterion=entropy, max_depth=10, max_features=log2, min_samples_leaf=2, min_samples_split=2, n_estimators=300; total time=   0.2s\n",
      "[CV] END bootstrap=False, criterion=gini, max_depth=2, max_features=sqrt, min_samples_leaf=4, min_samples_split=10, n_estimators=500; total time=   0.3s\n",
      "[CV] END bootstrap=True, criterion=gini, max_depth=10, max_features=log2, min_samples_leaf=4, min_samples_split=5, n_estimators=700; total time=   0.5s\n",
      "[CV] END bootstrap=False, criterion=entropy, max_depth=1, max_features=log2, min_samples_leaf=2, min_samples_split=5, n_estimators=300; total time=   0.2s\n",
      "[CV] END bootstrap=True, criterion=log_loss, max_depth=10, max_features=sqrt, min_samples_leaf=2, min_samples_split=2, n_estimators=800; total time=   0.6s\n",
      "[CV] END bootstrap=True, criterion=log_loss, max_depth=9, max_features=log2, min_samples_leaf=2, min_samples_split=10, n_estimators=600; total time=   0.5s\n",
      "[CV] END bootstrap=True, criterion=log_loss, max_depth=8, max_features=log2, min_samples_leaf=6, min_samples_split=10, n_estimators=400; total time=   0.3s\n",
      "[CV] END bootstrap=True, criterion=log_loss, max_depth=8, max_features=log2, min_samples_leaf=6, min_samples_split=2, n_estimators=400; total time=   0.3s\n",
      "[CV] END bootstrap=False, criterion=gini, max_depth=1, max_features=sqrt, min_samples_leaf=4, min_samples_split=2, n_estimators=700; total time=   0.4s\n",
      "[CV] END bootstrap=False, criterion=entropy, max_depth=8, max_features=sqrt, min_samples_leaf=4, min_samples_split=10, n_estimators=1000; total time=   0.8s\n",
      "[CV] END bootstrap=True, criterion=log_loss, max_depth=3, max_features=log2, min_samples_leaf=4, min_samples_split=2, n_estimators=700; total time=   0.5s\n",
      "[CV] END bootstrap=True, criterion=gini, max_depth=9, max_features=log2, min_samples_leaf=2, min_samples_split=2, n_estimators=300; total time=   0.2s\n",
      "[CV] END bootstrap=True, criterion=gini, max_depth=4, max_features=log2, min_samples_leaf=4, min_samples_split=10, n_estimators=600; total time=   0.4s\n",
      "[CV] END bootstrap=True, criterion=gini, max_depth=3, max_features=log2, min_samples_leaf=4, min_samples_split=2, n_estimators=200; total time=   0.1s\n",
      "[CV] END bootstrap=True, criterion=gini, max_depth=3, max_features=log2, min_samples_leaf=4, min_samples_split=2, n_estimators=200; total time=   0.2s\n",
      "[CV] END bootstrap=False, criterion=gini, max_depth=2, max_features=log2, min_samples_leaf=4, min_samples_split=5, n_estimators=400; total time=   0.2s\n",
      "[CV] END bootstrap=False, criterion=gini, max_depth=2, max_features=log2, min_samples_leaf=4, min_samples_split=5, n_estimators=400; total time=   0.2s\n",
      "[CV] END bootstrap=False, criterion=gini, max_depth=7, max_features=log2, min_samples_leaf=2, min_samples_split=2, n_estimators=800; total time=   0.5s\n",
      "[CV] END bootstrap=True, criterion=log_loss, max_depth=2, max_features=sqrt, min_samples_leaf=6, min_samples_split=2, n_estimators=1000; total time=   0.7s\n",
      "[CV] END bootstrap=False, criterion=gini, max_depth=6, max_features=sqrt, min_samples_leaf=4, min_samples_split=2, n_estimators=100; total time=   0.1s\n",
      "[CV] END bootstrap=False, criterion=gini, max_depth=6, max_features=sqrt, min_samples_leaf=4, min_samples_split=2, n_estimators=100; total time=   0.1s\n",
      "[CV] END bootstrap=True, criterion=entropy, max_depth=9, max_features=sqrt, min_samples_leaf=4, min_samples_split=2, n_estimators=400; total time=   0.3s\n",
      "[CV] END bootstrap=True, criterion=gini, max_depth=1, max_features=log2, min_samples_leaf=6, min_samples_split=5, n_estimators=200; total time=   0.1s\n",
      "[CV] END bootstrap=True, criterion=gini, max_depth=1, max_features=log2, min_samples_leaf=6, min_samples_split=5, n_estimators=200; total time=   0.1s\n",
      "[CV] END bootstrap=True, criterion=entropy, max_depth=2, max_features=log2, min_samples_leaf=6, min_samples_split=2, n_estimators=800; total time=   0.6s\n",
      "[CV] END bootstrap=False, criterion=gini, max_depth=2, max_features=sqrt, min_samples_leaf=2, min_samples_split=5, n_estimators=500; total time=   0.3s\n",
      "[CV] END bootstrap=True, criterion=log_loss, max_depth=1, max_features=sqrt, min_samples_leaf=6, min_samples_split=2, n_estimators=1000; total time=   0.7s\n",
      "[CV] END bootstrap=True, criterion=log_loss, max_depth=4, max_features=sqrt, min_samples_leaf=6, min_samples_split=2, n_estimators=1000; total time=   0.8s\n",
      "[CV] END bootstrap=False, criterion=log_loss, max_depth=9, max_features=sqrt, min_samples_leaf=4, min_samples_split=2, n_estimators=200; total time=   0.1s\n",
      "[CV] END bootstrap=False, criterion=gini, max_depth=4, max_features=log2, min_samples_leaf=4, min_samples_split=2, n_estimators=600; total time=   0.4s\n",
      "[CV] END bootstrap=False, criterion=gini, max_depth=4, max_features=log2, min_samples_leaf=4, min_samples_split=2, n_estimators=600; total time=   0.4s\n",
      "[CV] END bootstrap=True, criterion=log_loss, max_depth=4, max_features=log2, min_samples_leaf=2, min_samples_split=10, n_estimators=200; total time=   0.2s\n",
      "[CV] END bootstrap=True, criterion=log_loss, max_depth=1, max_features=sqrt, min_samples_leaf=2, min_samples_split=2, n_estimators=900; total time=   0.6s\n",
      "[CV] END bootstrap=False, criterion=log_loss, max_depth=1, max_features=sqrt, min_samples_leaf=6, min_samples_split=10, n_estimators=700; total time=   0.4s\n",
      "[CV] END bootstrap=False, criterion=entropy, max_depth=6, max_features=sqrt, min_samples_leaf=6, min_samples_split=2, n_estimators=900; total time=   0.7s\n",
      "[CV] END bootstrap=True, criterion=gini, max_depth=7, max_features=sqrt, min_samples_leaf=4, min_samples_split=5, n_estimators=900; total time=   0.7s\n",
      "[CV] END bootstrap=True, criterion=gini, max_depth=6, max_features=sqrt, min_samples_leaf=4, min_samples_split=5, n_estimators=800; total time=   0.6s\n",
      "[CV] END bootstrap=False, criterion=entropy, max_depth=3, max_features=log2, min_samples_leaf=4, min_samples_split=2, n_estimators=300; total time=   0.2s\n",
      "[CV] END bootstrap=False, criterion=entropy, max_depth=3, max_features=log2, min_samples_leaf=4, min_samples_split=2, n_estimators=300; total time=   0.2s\n",
      "[CV] END bootstrap=True, criterion=entropy, max_depth=9, max_features=sqrt, min_samples_leaf=6, min_samples_split=5, n_estimators=700; total time=   0.5s\n",
      "[CV] END bootstrap=True, criterion=entropy, max_depth=9, max_features=sqrt, min_samples_leaf=6, min_samples_split=5, n_estimators=700; total time=   0.5s\n",
      "[CV] END bootstrap=False, criterion=gini, max_depth=5, max_features=sqrt, min_samples_leaf=6, min_samples_split=2, n_estimators=700; total time=   0.4s\n",
      "[CV] END bootstrap=True, criterion=gini, max_depth=10, max_features=log2, min_samples_leaf=4, min_samples_split=10, n_estimators=200; total time=   0.1s\n",
      "[CV] END bootstrap=False, criterion=log_loss, max_depth=4, max_features=sqrt, min_samples_leaf=4, min_samples_split=5, n_estimators=400; total time=   0.3s\n",
      "[CV] END bootstrap=True, criterion=log_loss, max_depth=3, max_features=log2, min_samples_leaf=2, min_samples_split=10, n_estimators=300; total time=   0.2s\n",
      "[CV] END bootstrap=False, criterion=entropy, max_depth=8, max_features=log2, min_samples_leaf=4, min_samples_split=5, n_estimators=600; total time=   0.7s\n",
      "[CV] END bootstrap=False, criterion=gini, max_depth=3, max_features=log2, min_samples_leaf=4, min_samples_split=2, n_estimators=500; total time=   0.3s\n",
      "[CV] END bootstrap=False, criterion=gini, max_depth=3, max_features=log2, min_samples_leaf=4, min_samples_split=2, n_estimators=500; total time=   0.3s\n",
      "[CV] END bootstrap=True, criterion=entropy, max_depth=5, max_features=log2, min_samples_leaf=2, min_samples_split=5, n_estimators=700; total time=   0.6s\n",
      "[CV] END bootstrap=True, criterion=entropy, max_depth=5, max_features=log2, min_samples_leaf=2, min_samples_split=5, n_estimators=700; total time=   0.6s\n",
      "[CV] END bootstrap=True, criterion=gini, max_depth=10, max_features=sqrt, min_samples_leaf=6, min_samples_split=2, n_estimators=600; total time=   0.4s\n",
      "[CV] END bootstrap=True, criterion=gini, max_depth=10, max_features=sqrt, min_samples_leaf=6, min_samples_split=2, n_estimators=600; total time=   0.4s\n"
     ]
    },
    {
     "data": {
      "text/plain": "RandomizedSearchCV(cv=5, estimator=RandomForestClassifier(), n_iter=100,\n                   n_jobs=-1,\n                   param_distributions={'bootstrap': [True, False],\n                                        'criterion': ['gini', 'entropy',\n                                                      'log_loss'],\n                                        'max_depth': [1, 2, 3, 4, 5, 6, 7, 8, 9,\n                                                      10, 11, 12, 13, 14, 15,\n                                                      16, 17, 18, 19, 20],\n                                        'max_features': ['sqrt', 'log2'],\n                                        'min_samples_leaf': [2, 4, 6],\n                                        'min_samples_split': [2, 5, 10],\n                                        'n_estimators': [100, 200, 300, 400,\n                                                         500, 600, 700, 800,\n                                                         900, 1000]},\n                   random_state=42, verbose=2)",
      "text/html": "<style>#sk-container-id-4 {color: black;background-color: white;}#sk-container-id-4 pre{padding: 0;}#sk-container-id-4 div.sk-toggleable {background-color: white;}#sk-container-id-4 label.sk-toggleable__label {cursor: pointer;display: block;width: 100%;margin-bottom: 0;padding: 0.3em;box-sizing: border-box;text-align: center;}#sk-container-id-4 label.sk-toggleable__label-arrow:before {content: \"▸\";float: left;margin-right: 0.25em;color: #696969;}#sk-container-id-4 label.sk-toggleable__label-arrow:hover:before {color: black;}#sk-container-id-4 div.sk-estimator:hover label.sk-toggleable__label-arrow:before {color: black;}#sk-container-id-4 div.sk-toggleable__content {max-height: 0;max-width: 0;overflow: hidden;text-align: left;background-color: #f0f8ff;}#sk-container-id-4 div.sk-toggleable__content pre {margin: 0.2em;color: black;border-radius: 0.25em;background-color: #f0f8ff;}#sk-container-id-4 input.sk-toggleable__control:checked~div.sk-toggleable__content {max-height: 200px;max-width: 100%;overflow: auto;}#sk-container-id-4 input.sk-toggleable__control:checked~label.sk-toggleable__label-arrow:before {content: \"▾\";}#sk-container-id-4 div.sk-estimator input.sk-toggleable__control:checked~label.sk-toggleable__label {background-color: #d4ebff;}#sk-container-id-4 div.sk-label input.sk-toggleable__control:checked~label.sk-toggleable__label {background-color: #d4ebff;}#sk-container-id-4 input.sk-hidden--visually {border: 0;clip: rect(1px 1px 1px 1px);clip: rect(1px, 1px, 1px, 1px);height: 1px;margin: -1px;overflow: hidden;padding: 0;position: absolute;width: 1px;}#sk-container-id-4 div.sk-estimator {font-family: monospace;background-color: #f0f8ff;border: 1px dotted black;border-radius: 0.25em;box-sizing: border-box;margin-bottom: 0.5em;}#sk-container-id-4 div.sk-estimator:hover {background-color: #d4ebff;}#sk-container-id-4 div.sk-parallel-item::after {content: \"\";width: 100%;border-bottom: 1px solid gray;flex-grow: 1;}#sk-container-id-4 div.sk-label:hover label.sk-toggleable__label {background-color: #d4ebff;}#sk-container-id-4 div.sk-serial::before {content: \"\";position: absolute;border-left: 1px solid gray;box-sizing: border-box;top: 0;bottom: 0;left: 50%;z-index: 0;}#sk-container-id-4 div.sk-serial {display: flex;flex-direction: column;align-items: center;background-color: white;padding-right: 0.2em;padding-left: 0.2em;position: relative;}#sk-container-id-4 div.sk-item {position: relative;z-index: 1;}#sk-container-id-4 div.sk-parallel {display: flex;align-items: stretch;justify-content: center;background-color: white;position: relative;}#sk-container-id-4 div.sk-item::before, #sk-container-id-4 div.sk-parallel-item::before {content: \"\";position: absolute;border-left: 1px solid gray;box-sizing: border-box;top: 0;bottom: 0;left: 50%;z-index: -1;}#sk-container-id-4 div.sk-parallel-item {display: flex;flex-direction: column;z-index: 1;position: relative;background-color: white;}#sk-container-id-4 div.sk-parallel-item:first-child::after {align-self: flex-end;width: 50%;}#sk-container-id-4 div.sk-parallel-item:last-child::after {align-self: flex-start;width: 50%;}#sk-container-id-4 div.sk-parallel-item:only-child::after {width: 0;}#sk-container-id-4 div.sk-dashed-wrapped {border: 1px dashed gray;margin: 0 0.4em 0.5em 0.4em;box-sizing: border-box;padding-bottom: 0.4em;background-color: white;}#sk-container-id-4 div.sk-label label {font-family: monospace;font-weight: bold;display: inline-block;line-height: 1.2em;}#sk-container-id-4 div.sk-label-container {text-align: center;}#sk-container-id-4 div.sk-container {/* jupyter's `normalize.less` sets `[hidden] { display: none; }` but bootstrap.min.css set `[hidden] { display: none !important; }` so we also need the `!important` here to be able to override the default hidden behavior on the sphinx rendered scikit-learn.org. See: https://github.com/scikit-learn/scikit-learn/issues/21755 */display: inline-block !important;position: relative;}#sk-container-id-4 div.sk-text-repr-fallback {display: none;}</style><div id=\"sk-container-id-4\" class=\"sk-top-container\"><div class=\"sk-text-repr-fallback\"><pre>RandomizedSearchCV(cv=5, estimator=RandomForestClassifier(), n_iter=100,\n                   n_jobs=-1,\n                   param_distributions={&#x27;bootstrap&#x27;: [True, False],\n                                        &#x27;criterion&#x27;: [&#x27;gini&#x27;, &#x27;entropy&#x27;,\n                                                      &#x27;log_loss&#x27;],\n                                        &#x27;max_depth&#x27;: [1, 2, 3, 4, 5, 6, 7, 8, 9,\n                                                      10, 11, 12, 13, 14, 15,\n                                                      16, 17, 18, 19, 20],\n                                        &#x27;max_features&#x27;: [&#x27;sqrt&#x27;, &#x27;log2&#x27;],\n                                        &#x27;min_samples_leaf&#x27;: [2, 4, 6],\n                                        &#x27;min_samples_split&#x27;: [2, 5, 10],\n                                        &#x27;n_estimators&#x27;: [100, 200, 300, 400,\n                                                         500, 600, 700, 800,\n                                                         900, 1000]},\n                   random_state=42, verbose=2)</pre><b>In a Jupyter environment, please rerun this cell to show the HTML representation or trust the notebook. <br />On GitHub, the HTML representation is unable to render, please try loading this page with nbviewer.org.</b></div><div class=\"sk-container\" hidden><div class=\"sk-item sk-dashed-wrapped\"><div class=\"sk-label-container\"><div class=\"sk-label sk-toggleable\"><input class=\"sk-toggleable__control sk-hidden--visually\" id=\"sk-estimator-id-10\" type=\"checkbox\" ><label for=\"sk-estimator-id-10\" class=\"sk-toggleable__label sk-toggleable__label-arrow\">RandomizedSearchCV</label><div class=\"sk-toggleable__content\"><pre>RandomizedSearchCV(cv=5, estimator=RandomForestClassifier(), n_iter=100,\n                   n_jobs=-1,\n                   param_distributions={&#x27;bootstrap&#x27;: [True, False],\n                                        &#x27;criterion&#x27;: [&#x27;gini&#x27;, &#x27;entropy&#x27;,\n                                                      &#x27;log_loss&#x27;],\n                                        &#x27;max_depth&#x27;: [1, 2, 3, 4, 5, 6, 7, 8, 9,\n                                                      10, 11, 12, 13, 14, 15,\n                                                      16, 17, 18, 19, 20],\n                                        &#x27;max_features&#x27;: [&#x27;sqrt&#x27;, &#x27;log2&#x27;],\n                                        &#x27;min_samples_leaf&#x27;: [2, 4, 6],\n                                        &#x27;min_samples_split&#x27;: [2, 5, 10],\n                                        &#x27;n_estimators&#x27;: [100, 200, 300, 400,\n                                                         500, 600, 700, 800,\n                                                         900, 1000]},\n                   random_state=42, verbose=2)</pre></div></div></div><div class=\"sk-parallel\"><div class=\"sk-parallel-item\"><div class=\"sk-item\"><div class=\"sk-label-container\"><div class=\"sk-label sk-toggleable\"><input class=\"sk-toggleable__control sk-hidden--visually\" id=\"sk-estimator-id-11\" type=\"checkbox\" ><label for=\"sk-estimator-id-11\" class=\"sk-toggleable__label sk-toggleable__label-arrow\">estimator: RandomForestClassifier</label><div class=\"sk-toggleable__content\"><pre>RandomForestClassifier()</pre></div></div></div><div class=\"sk-serial\"><div class=\"sk-item\"><div class=\"sk-estimator sk-toggleable\"><input class=\"sk-toggleable__control sk-hidden--visually\" id=\"sk-estimator-id-12\" type=\"checkbox\" ><label for=\"sk-estimator-id-12\" class=\"sk-toggleable__label sk-toggleable__label-arrow\">RandomForestClassifier</label><div class=\"sk-toggleable__content\"><pre>RandomForestClassifier()</pre></div></div></div></div></div></div></div></div></div></div>"
     },
     "execution_count": 29,
     "metadata": {},
     "output_type": "execute_result"
    }
   ],
   "source": [
    "# Use the random grid to search for best hyperparameters\n",
    "# First create the base model to tune\n",
    "rf = RandomForestClassifier()\n",
    "# Random search of parameters, using 3 fold cross validation, \n",
    "# search across 100 different combinations, and use all available cores\n",
    "rf_random = RandomizedSearchCV(estimator = rf, param_distributions = random_grid, n_iter = 100, cv = 5, verbose=2, random_state=42, n_jobs = -1)\n",
    "# Fit the random search model\n",
    "rf_random.fit(X_train_final, Y_train)"
   ]
  },
  {
   "cell_type": "markdown",
   "source": [
    "__Check the best parameteres__"
   ],
   "metadata": {
    "collapsed": false
   }
  },
  {
   "cell_type": "code",
   "execution_count": 30,
   "metadata": {
    "scrolled": true
   },
   "outputs": [
    {
     "data": {
      "text/plain": "{'n_estimators': 300,\n 'min_samples_split': 5,\n 'min_samples_leaf': 4,\n 'max_features': 'sqrt',\n 'max_depth': 7,\n 'criterion': 'log_loss',\n 'bootstrap': True}"
     },
     "execution_count": 30,
     "metadata": {},
     "output_type": "execute_result"
    }
   ],
   "source": [
    "rf_random.best_params_"
   ]
  },
  {
   "cell_type": "markdown",
   "source": [
    "Check the accuracy for our data"
   ],
   "metadata": {
    "collapsed": false
   }
  },
  {
   "cell_type": "code",
   "execution_count": 31,
   "metadata": {},
   "outputs": [
    {
     "data": {
      "text/plain": "0.9222222222222223"
     },
     "execution_count": 31,
     "metadata": {},
     "output_type": "execute_result"
    }
   ],
   "source": [
    "RandomForestClassifier(n_estimators=300, max_depth=7, min_samples_split=5, min_samples_leaf =4, random_state=42, criterion ='log_loss', bootstrap = True, max_features = 'sqrt').fit(X_train_final, Y_train).score(X_test_final,Y_test)"
   ]
  },
  {
   "cell_type": "markdown",
   "source": [
    "### Saving our model"
   ],
   "metadata": {
    "collapsed": false
   }
  },
  {
   "cell_type": "code",
   "execution_count": 32,
   "outputs": [],
   "source": [
    "rfc = RandomForestClassifier(n_estimators=300, max_depth=7, min_samples_split=5, min_samples_leaf =4, random_state=42, criterion ='log_loss', bootstrap = True, max_features = 'sqrt').fit(X_train_final, Y_train)"
   ],
   "metadata": {
    "collapsed": false
   }
  },
  {
   "cell_type": "code",
   "execution_count": 13,
   "metadata": {},
   "outputs": [],
   "source": [
    "import joblib"
   ]
  },
  {
   "cell_type": "code",
   "execution_count": null,
   "outputs": [],
   "source": [
    "filename = \"model4.joblib\"\n",
    "\n",
    "# save model\n",
    "joblib.dump(rfc, filename)\n",
    "\n",
    "# load model\n",
    "loaded_model = joblib.load(filename)"
   ],
   "metadata": {
    "collapsed": false,
    "pycharm": {
     "is_executing": true
    }
   }
  },
  {
   "cell_type": "markdown",
   "source": [
    "### Confusion Matrix"
   ],
   "metadata": {
    "collapsed": false
   }
  },
  {
   "cell_type": "code",
   "execution_count": 15,
   "outputs": [],
   "source": [
    "Y_test_pred = loaded_model.predict(X_test_final)"
   ],
   "metadata": {
    "collapsed": false
   }
  },
  {
   "cell_type": "code",
   "execution_count": 16,
   "outputs": [],
   "source": [
    "classes = ['0', '1', '2', '3', '4', '5', '6', '7', '8', '9']"
   ],
   "metadata": {
    "collapsed": false
   }
  },
  {
   "cell_type": "code",
   "execution_count": 24,
   "outputs": [
    {
     "data": {
      "text/plain": "<Figure size 640x480 with 2 Axes>",
      "image/png": "[encoded data removed]"
     },
     "metadata": {},
     "output_type": "display_data"
    }
   ],
   "source": [
    "from sklearn.metrics import ConfusionMatrixDisplay\n",
    "import matplotlib.pyplot as plt\n",
    "\n",
    "ConfusionMatrixDisplay.from_predictions(Y_test, Y_test_pred, display_labels=classes, xticks_rotation=\"vertical\")\n",
    "plt.tight_layout()"
   ],
   "metadata": {
    "collapsed": false
   }
  }
 ],
 "metadata": {
  "kernelspec": {
   "display_name": "Python 3 (ipykernel)",
   "language": "python",
   "name": "python3"
  },
  "language_info": {
   "codemirror_mode": {
    "name": "ipython",
    "version": 3
   },
   "file_extension": ".py",
   "mimetype": "text/x-python",
   "name": "python",
   "nbconvert_exporter": "python",
   "pygments_lexer": "ipython3",
   "version": "3.9.12"
  }
 },
 "nbformat": 4,
 "nbformat_minor": 1
}
